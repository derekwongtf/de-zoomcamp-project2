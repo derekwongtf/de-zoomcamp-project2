{
 "cells": [
  {
   "cell_type": "code",
   "execution_count": 1,
   "id": "3e2c5310",
   "metadata": {},
   "outputs": [],
   "source": [
    "import pyspark\n",
    "from pyspark.sql import SparkSession\n",
    "from prefect import flow, task\n",
    "from prefect_gcp.cloud_storage import GcsBucket\n",
    "import requests\n",
    "import os\n",
    "from tqdm import tqdm"
   ]
  },
  {
   "cell_type": "code",
   "execution_count": 2,
   "id": "ac4c83fa",
   "metadata": {},
   "outputs": [
    {
     "name": "stdout",
     "output_type": "stream",
     "text": [
      "23/04/27 00:52:48 WARN Utils: Your hostname, DavidNg-8242-NB resolves to a loopback address: 127.0.1.1; using 172.24.225.125 instead (on interface eth0)\n",
      "23/04/27 00:52:48 WARN Utils: Set SPARK_LOCAL_IP if you need to bind to another address\n"
     ]
    },
    {
     "name": "stderr",
     "output_type": "stream",
     "text": [
      "Setting default log level to \"WARN\".\n",
      "To adjust logging level use sc.setLogLevel(newLevel). For SparkR, use setLogLevel(newLevel).\n"
     ]
    },
    {
     "name": "stdout",
     "output_type": "stream",
     "text": [
      "23/04/27 00:52:50 WARN NativeCodeLoader: Unable to load native-hadoop library for your platform... using builtin-java classes where applicable\n"
     ]
    }
   ],
   "source": [
    "spark = SparkSession.builder \\\n",
    "    .master(\"local[*]\") \\\n",
    "    .appName('test') \\\n",
    "    .getOrCreate()"
   ]
  },
  {
   "cell_type": "code",
   "execution_count": 3,
   "id": "6b8f8ec5",
   "metadata": {},
   "outputs": [],
   "source": [
    "def fetch_from_web (dataset_url: str, year:int, chunk_size: int) -> str:\n",
    "    local_dir = f\"data/raw/{year}\"\n",
    "    local_filename= f\"{local_dir}/rows.csv\"\n",
    "\n",
    "    if not os.path.exists(f\"{local_dir}\"):\n",
    "        os.makedirs(f\"{local_dir}\")\n",
    "\n",
    "    with requests.get(dataset_url, stream=True) as r:\n",
    "        r.raise_for_status()\n",
    "        total_size = int(r.headers.get('content-length', 0))\n",
    "        progress_bar = tqdm(total=total_size, unit='iB', unit_scale=True)\n",
    "        print(f'Downloading {dataset_url}')\n",
    "        with open(local_filename, 'wb') as f:\n",
    "            for chunk in r.iter_content(chunk_size=chunk_size):\n",
    "                f.write(chunk)\n",
    "                progress_bar.update(len(chunk))\n",
    "    return local_dir"
   ]
  },
  {
   "cell_type": "code",
   "execution_count": 4,
   "id": "56bbf0d4",
   "metadata": {},
   "outputs": [],
   "source": [
    "def clean (input_path:str, year:int) -> str:\n",
    "    print(f'processing data for {year}')\n",
    "\n",
    "    output_path = f'data/pq/{year}'\n",
    "    \n",
    "    if not os.path.exists(f\"{output_path}\"):\n",
    "        os.makedirs(f\"{output_path}\")\n",
    "\n",
    "    df = spark.read \\\n",
    "        .option(\"header\", \"true\") \\\n",
    "        .option(\"inferSchema\", \"true\") \\\n",
    "        .option(\"multiline\", \"true\") \\\n",
    "        .option(\"escape\", \"\\\"\") \\\n",
    "        .csv(input_path)\n",
    "\n",
    "    df \\\n",
    "        .repartition(20) \\\n",
    "        .write.parquet(output_path, mode='overwrite')\n",
    "    \n",
    "    return output_path"
   ]
  },
  {
   "cell_type": "code",
   "execution_count": 5,
   "id": "0c0478de",
   "metadata": {},
   "outputs": [],
   "source": [
    "@task()\n",
    "def write_gcs(path: str) -> None:\n",
    "    \"\"\"Upload local parquet file to GCS\"\"\"\n",
    "    gcp_cloud_storage_bucket_block = GcsBucket.load(\"de-project-gcs\")\n",
    "    gcp_cloud_storage_bucket_block.upload_from_path(from_path=path, to_path=path)"
   ]
  },
  {
   "cell_type": "code",
   "execution_count": 6,
   "id": "787c3fda",
   "metadata": {},
   "outputs": [],
   "source": [
    "@flow()\n",
    "def etl_web_to_gcs(year: int, version: str) -> None:\n",
    "    chunk_size = 1048576 \n",
    "    dataset_url = f\"https://data.cityofnewyork.us/api/views/{version}/rows.csv?accessType=DOWNLOAD\"\n",
    "\n",
    "    input_dir = fetch_from_web (dataset_url, year, chunk_size)\n",
    "    rootdir = clean(input_dir, year)\n",
    "    \n",
    "    for file in os.listdir(rootdir):\n",
    "        f = os.path.join(rootdir, file)\n",
    "        if os.path.isfile(f):\n",
    "            write_gcs(f)"
   ]
  },
  {
   "cell_type": "code",
   "execution_count": 7,
   "id": "438c610a",
   "metadata": {},
   "outputs": [],
   "source": [
    "@flow()\n",
    "def etl_parent_flow(years: dict = {2023: 'pvqr-7yc4'}):\n",
    "    for year, version in years.items():\n",
    "        etl_web_to_gcs(year, version)\n",
    "\n",
    "        \n"
   ]
  },
  {
   "cell_type": "code",
   "execution_count": 8,
   "id": "dba515e2",
   "metadata": {},
   "outputs": [
    {
     "data": {
      "text/html": [
       "<pre style=\"white-space:pre;overflow-x:auto;line-height:normal;font-family:Menlo,'DejaVu Sans Mono',consolas,'Courier New',monospace\">00:53:02.661 | <span style=\"color: #008080; text-decoration-color: #008080\">INFO</span>    | prefect.engine - Created flow run<span style=\"color: #800080; text-decoration-color: #800080\"> 'glorious-starfish'</span> for flow<span style=\"color: #800080; text-decoration-color: #800080; font-weight: bold\"> 'etl-parent-flow'</span>\n",
       "</pre>\n"
      ],
      "text/plain": [
       "00:53:02.661 | \u001b[36mINFO\u001b[0m    | prefect.engine - Created flow run\u001b[35m 'glorious-starfish'\u001b[0m for flow\u001b[1;35m 'etl-parent-flow'\u001b[0m\n"
      ]
     },
     "metadata": {},
     "output_type": "display_data"
    },
    {
     "data": {
      "text/html": [
       "<pre style=\"white-space:pre;overflow-x:auto;line-height:normal;font-family:Menlo,'DejaVu Sans Mono',consolas,'Courier New',monospace\">00:53:06.509 | <span style=\"color: #008080; text-decoration-color: #008080\">INFO</span>    | Flow run<span style=\"color: #800080; text-decoration-color: #800080\"> 'glorious-starfish'</span> - Created subflow run<span style=\"color: #800080; text-decoration-color: #800080\"> 'rampant-impala'</span> for flow<span style=\"color: #800080; text-decoration-color: #800080; font-weight: bold\"> 'etl-web-to-gcs'</span>\n",
       "</pre>\n"
      ],
      "text/plain": [
       "00:53:06.509 | \u001b[36mINFO\u001b[0m    | Flow run\u001b[35m 'glorious-starfish'\u001b[0m - Created subflow run\u001b[35m 'rampant-impala'\u001b[0m for flow\u001b[1;35m 'etl-web-to-gcs'\u001b[0m\n"
      ]
     },
     "metadata": {},
     "output_type": "display_data"
    },
    {
     "name": "stdout",
     "output_type": "stream",
     "text": [
      "processing data for 2021\n"
     ]
    },
    {
     "data": {
      "text/html": [
       "<pre style=\"white-space:pre;overflow-x:auto;line-height:normal;font-family:Menlo,'DejaVu Sans Mono',consolas,'Courier New',monospace\">00:53:07.702 | <span style=\"color: #008080; text-decoration-color: #008080\">INFO</span>    | Flow run<span style=\"color: #800080; text-decoration-color: #800080\"> 'rampant-impala'</span> - Created task run 'write_gcs-0' for task 'write_gcs'\n",
       "</pre>\n"
      ],
      "text/plain": [
       "00:53:07.702 | \u001b[36mINFO\u001b[0m    | Flow run\u001b[35m 'rampant-impala'\u001b[0m - Created task run 'write_gcs-0' for task 'write_gcs'\n"
      ]
     },
     "metadata": {},
     "output_type": "display_data"
    },
    {
     "data": {
      "text/html": [
       "<pre style=\"white-space:pre;overflow-x:auto;line-height:normal;font-family:Menlo,'DejaVu Sans Mono',consolas,'Courier New',monospace\">00:53:07.712 | <span style=\"color: #008080; text-decoration-color: #008080\">INFO</span>    | Flow run<span style=\"color: #800080; text-decoration-color: #800080\"> 'rampant-impala'</span> - Executing 'write_gcs-0' immediately...\n",
       "</pre>\n"
      ],
      "text/plain": [
       "00:53:07.712 | \u001b[36mINFO\u001b[0m    | Flow run\u001b[35m 'rampant-impala'\u001b[0m - Executing 'write_gcs-0' immediately...\n"
      ]
     },
     "metadata": {},
     "output_type": "display_data"
    },
    {
     "data": {
      "text/html": [
       "<pre style=\"white-space:pre;overflow-x:auto;line-height:normal;font-family:Menlo,'DejaVu Sans Mono',consolas,'Courier New',monospace\">00:53:09.157 | <span style=\"color: #008080; text-decoration-color: #008080\">INFO</span>    | Task run 'write_gcs-0' - Getting bucket 'datalake_de-project-230419'.\n",
       "</pre>\n"
      ],
      "text/plain": [
       "00:53:09.157 | \u001b[36mINFO\u001b[0m    | Task run 'write_gcs-0' - Getting bucket 'datalake_de-project-230419'.\n"
      ]
     },
     "metadata": {},
     "output_type": "display_data"
    },
    {
     "data": {
      "text/html": [
       "<pre style=\"white-space:pre;overflow-x:auto;line-height:normal;font-family:Menlo,'DejaVu Sans Mono',consolas,'Courier New',monospace\">00:53:09.721 | <span style=\"color: #008080; text-decoration-color: #008080\">INFO</span>    | Task run 'write_gcs-0' - Uploading from 'data/pq/2021/.part-00005-36f555e6-c831-4560-aee1-88a31182e107-c000.snappy.parquet.crc' to the bucket 'datalake_de-project-230419' path 'data/pq/2021/.part-00005-36f555e6-c831-4560-aee1-88a31182e107-c000.snappy.parquet.crc'.\n",
       "</pre>\n"
      ],
      "text/plain": [
       "00:53:09.721 | \u001b[36mINFO\u001b[0m    | Task run 'write_gcs-0' - Uploading from 'data/pq/2021/.part-00005-36f555e6-c831-4560-aee1-88a31182e107-c000.snappy.parquet.crc' to the bucket 'datalake_de-project-230419' path 'data/pq/2021/.part-00005-36f555e6-c831-4560-aee1-88a31182e107-c000.snappy.parquet.crc'.\n"
      ]
     },
     "metadata": {},
     "output_type": "display_data"
    },
    {
     "data": {
      "text/html": [
       "<pre style=\"white-space:pre;overflow-x:auto;line-height:normal;font-family:Menlo,'DejaVu Sans Mono',consolas,'Courier New',monospace\">00:53:10.232 | <span style=\"color: #008080; text-decoration-color: #008080\">INFO</span>    | Task run 'write_gcs-0' - Finished in state <span style=\"color: #008000; text-decoration-color: #008000\">Completed</span>()\n",
       "</pre>\n"
      ],
      "text/plain": [
       "00:53:10.232 | \u001b[36mINFO\u001b[0m    | Task run 'write_gcs-0' - Finished in state \u001b[32mCompleted\u001b[0m()\n"
      ]
     },
     "metadata": {},
     "output_type": "display_data"
    },
    {
     "data": {
      "text/html": [
       "<pre style=\"white-space:pre;overflow-x:auto;line-height:normal;font-family:Menlo,'DejaVu Sans Mono',consolas,'Courier New',monospace\">00:53:10.551 | <span style=\"color: #008080; text-decoration-color: #008080\">INFO</span>    | Flow run<span style=\"color: #800080; text-decoration-color: #800080\"> 'rampant-impala'</span> - Created task run 'write_gcs-1' for task 'write_gcs'\n",
       "</pre>\n"
      ],
      "text/plain": [
       "00:53:10.551 | \u001b[36mINFO\u001b[0m    | Flow run\u001b[35m 'rampant-impala'\u001b[0m - Created task run 'write_gcs-1' for task 'write_gcs'\n"
      ]
     },
     "metadata": {},
     "output_type": "display_data"
    },
    {
     "data": {
      "text/html": [
       "<pre style=\"white-space:pre;overflow-x:auto;line-height:normal;font-family:Menlo,'DejaVu Sans Mono',consolas,'Courier New',monospace\">00:53:10.561 | <span style=\"color: #008080; text-decoration-color: #008080\">INFO</span>    | Flow run<span style=\"color: #800080; text-decoration-color: #800080\"> 'rampant-impala'</span> - Executing 'write_gcs-1' immediately...\n",
       "</pre>\n"
      ],
      "text/plain": [
       "00:53:10.561 | \u001b[36mINFO\u001b[0m    | Flow run\u001b[35m 'rampant-impala'\u001b[0m - Executing 'write_gcs-1' immediately...\n"
      ]
     },
     "metadata": {},
     "output_type": "display_data"
    },
    {
     "data": {
      "text/html": [
       "<pre style=\"white-space:pre;overflow-x:auto;line-height:normal;font-family:Menlo,'DejaVu Sans Mono',consolas,'Courier New',monospace\">00:53:12.408 | <span style=\"color: #008080; text-decoration-color: #008080\">INFO</span>    | Task run 'write_gcs-1' - Getting bucket 'datalake_de-project-230419'.\n",
       "</pre>\n"
      ],
      "text/plain": [
       "00:53:12.408 | \u001b[36mINFO\u001b[0m    | Task run 'write_gcs-1' - Getting bucket 'datalake_de-project-230419'.\n"
      ]
     },
     "metadata": {},
     "output_type": "display_data"
    },
    {
     "data": {
      "text/html": [
       "<pre style=\"white-space:pre;overflow-x:auto;line-height:normal;font-family:Menlo,'DejaVu Sans Mono',consolas,'Courier New',monospace\">00:53:12.939 | <span style=\"color: #008080; text-decoration-color: #008080\">INFO</span>    | Task run 'write_gcs-1' - Uploading from 'data/pq/2021/.part-00018-36f555e6-c831-4560-aee1-88a31182e107-c000.snappy.parquet.crc' to the bucket 'datalake_de-project-230419' path 'data/pq/2021/.part-00018-36f555e6-c831-4560-aee1-88a31182e107-c000.snappy.parquet.crc'.\n",
       "</pre>\n"
      ],
      "text/plain": [
       "00:53:12.939 | \u001b[36mINFO\u001b[0m    | Task run 'write_gcs-1' - Uploading from 'data/pq/2021/.part-00018-36f555e6-c831-4560-aee1-88a31182e107-c000.snappy.parquet.crc' to the bucket 'datalake_de-project-230419' path 'data/pq/2021/.part-00018-36f555e6-c831-4560-aee1-88a31182e107-c000.snappy.parquet.crc'.\n"
      ]
     },
     "metadata": {},
     "output_type": "display_data"
    },
    {
     "data": {
      "text/html": [
       "<pre style=\"white-space:pre;overflow-x:auto;line-height:normal;font-family:Menlo,'DejaVu Sans Mono',consolas,'Courier New',monospace\">00:53:13.657 | <span style=\"color: #008080; text-decoration-color: #008080\">INFO</span>    | Task run 'write_gcs-1' - Finished in state <span style=\"color: #008000; text-decoration-color: #008000\">Completed</span>()\n",
       "</pre>\n"
      ],
      "text/plain": [
       "00:53:13.657 | \u001b[36mINFO\u001b[0m    | Task run 'write_gcs-1' - Finished in state \u001b[32mCompleted\u001b[0m()\n"
      ]
     },
     "metadata": {},
     "output_type": "display_data"
    },
    {
     "data": {
      "text/html": [
       "<pre style=\"white-space:pre;overflow-x:auto;line-height:normal;font-family:Menlo,'DejaVu Sans Mono',consolas,'Courier New',monospace\">00:53:14.002 | <span style=\"color: #008080; text-decoration-color: #008080\">INFO</span>    | Flow run<span style=\"color: #800080; text-decoration-color: #800080\"> 'rampant-impala'</span> - Created task run 'write_gcs-2' for task 'write_gcs'\n",
       "</pre>\n"
      ],
      "text/plain": [
       "00:53:14.002 | \u001b[36mINFO\u001b[0m    | Flow run\u001b[35m 'rampant-impala'\u001b[0m - Created task run 'write_gcs-2' for task 'write_gcs'\n"
      ]
     },
     "metadata": {},
     "output_type": "display_data"
    },
    {
     "data": {
      "text/html": [
       "<pre style=\"white-space:pre;overflow-x:auto;line-height:normal;font-family:Menlo,'DejaVu Sans Mono',consolas,'Courier New',monospace\">00:53:14.005 | <span style=\"color: #008080; text-decoration-color: #008080\">INFO</span>    | Flow run<span style=\"color: #800080; text-decoration-color: #800080\"> 'rampant-impala'</span> - Executing 'write_gcs-2' immediately...\n",
       "</pre>\n"
      ],
      "text/plain": [
       "00:53:14.005 | \u001b[36mINFO\u001b[0m    | Flow run\u001b[35m 'rampant-impala'\u001b[0m - Executing 'write_gcs-2' immediately...\n"
      ]
     },
     "metadata": {},
     "output_type": "display_data"
    },
    {
     "data": {
      "text/html": [
       "<pre style=\"white-space:pre;overflow-x:auto;line-height:normal;font-family:Menlo,'DejaVu Sans Mono',consolas,'Courier New',monospace\">00:53:15.709 | <span style=\"color: #008080; text-decoration-color: #008080\">INFO</span>    | Task run 'write_gcs-2' - Getting bucket 'datalake_de-project-230419'.\n",
       "</pre>\n"
      ],
      "text/plain": [
       "00:53:15.709 | \u001b[36mINFO\u001b[0m    | Task run 'write_gcs-2' - Getting bucket 'datalake_de-project-230419'.\n"
      ]
     },
     "metadata": {},
     "output_type": "display_data"
    },
    {
     "data": {
      "text/html": [
       "<pre style=\"white-space:pre;overflow-x:auto;line-height:normal;font-family:Menlo,'DejaVu Sans Mono',consolas,'Courier New',monospace\">00:53:16.357 | <span style=\"color: #008080; text-decoration-color: #008080\">INFO</span>    | Task run 'write_gcs-2' - Uploading from 'data/pq/2021/part-00007-36f555e6-c831-4560-aee1-88a31182e107-c000.snappy.parquet' to the bucket 'datalake_de-project-230419' path 'data/pq/2021/part-00007-36f555e6-c831-4560-aee1-88a31182e107-c000.snappy.parquet'.\n",
       "</pre>\n"
      ],
      "text/plain": [
       "00:53:16.357 | \u001b[36mINFO\u001b[0m    | Task run 'write_gcs-2' - Uploading from 'data/pq/2021/part-00007-36f555e6-c831-4560-aee1-88a31182e107-c000.snappy.parquet' to the bucket 'datalake_de-project-230419' path 'data/pq/2021/part-00007-36f555e6-c831-4560-aee1-88a31182e107-c000.snappy.parquet'.\n"
      ]
     },
     "metadata": {},
     "output_type": "display_data"
    },
    {
     "data": {
      "text/html": [
       "<pre style=\"white-space:pre;overflow-x:auto;line-height:normal;font-family:Menlo,'DejaVu Sans Mono',consolas,'Courier New',monospace\">00:53:19.017 | <span style=\"color: #008080; text-decoration-color: #008080\">INFO</span>    | Task run 'write_gcs-2' - Finished in state <span style=\"color: #008000; text-decoration-color: #008000\">Completed</span>()\n",
       "</pre>\n"
      ],
      "text/plain": [
       "00:53:19.017 | \u001b[36mINFO\u001b[0m    | Task run 'write_gcs-2' - Finished in state \u001b[32mCompleted\u001b[0m()\n"
      ]
     },
     "metadata": {},
     "output_type": "display_data"
    },
    {
     "data": {
      "text/html": [
       "<pre style=\"white-space:pre;overflow-x:auto;line-height:normal;font-family:Menlo,'DejaVu Sans Mono',consolas,'Courier New',monospace\">00:53:19.522 | <span style=\"color: #008080; text-decoration-color: #008080\">INFO</span>    | Flow run<span style=\"color: #800080; text-decoration-color: #800080\"> 'rampant-impala'</span> - Created task run 'write_gcs-3' for task 'write_gcs'\n",
       "</pre>\n"
      ],
      "text/plain": [
       "00:53:19.522 | \u001b[36mINFO\u001b[0m    | Flow run\u001b[35m 'rampant-impala'\u001b[0m - Created task run 'write_gcs-3' for task 'write_gcs'\n"
      ]
     },
     "metadata": {},
     "output_type": "display_data"
    },
    {
     "data": {
      "text/html": [
       "<pre style=\"white-space:pre;overflow-x:auto;line-height:normal;font-family:Menlo,'DejaVu Sans Mono',consolas,'Courier New',monospace\">00:53:19.524 | <span style=\"color: #008080; text-decoration-color: #008080\">INFO</span>    | Flow run<span style=\"color: #800080; text-decoration-color: #800080\"> 'rampant-impala'</span> - Executing 'write_gcs-3' immediately...\n",
       "</pre>\n"
      ],
      "text/plain": [
       "00:53:19.524 | \u001b[36mINFO\u001b[0m    | Flow run\u001b[35m 'rampant-impala'\u001b[0m - Executing 'write_gcs-3' immediately...\n"
      ]
     },
     "metadata": {},
     "output_type": "display_data"
    },
    {
     "data": {
      "text/html": [
       "<pre style=\"white-space:pre;overflow-x:auto;line-height:normal;font-family:Menlo,'DejaVu Sans Mono',consolas,'Courier New',monospace\">00:53:21.119 | <span style=\"color: #008080; text-decoration-color: #008080\">INFO</span>    | Task run 'write_gcs-3' - Getting bucket 'datalake_de-project-230419'.\n",
       "</pre>\n"
      ],
      "text/plain": [
       "00:53:21.119 | \u001b[36mINFO\u001b[0m    | Task run 'write_gcs-3' - Getting bucket 'datalake_de-project-230419'.\n"
      ]
     },
     "metadata": {},
     "output_type": "display_data"
    },
    {
     "data": {
      "text/html": [
       "<pre style=\"white-space:pre;overflow-x:auto;line-height:normal;font-family:Menlo,'DejaVu Sans Mono',consolas,'Courier New',monospace\">00:53:21.787 | <span style=\"color: #008080; text-decoration-color: #008080\">INFO</span>    | Task run 'write_gcs-3' - Uploading from 'data/pq/2021/part-00006-36f555e6-c831-4560-aee1-88a31182e107-c000.snappy.parquet' to the bucket 'datalake_de-project-230419' path 'data/pq/2021/part-00006-36f555e6-c831-4560-aee1-88a31182e107-c000.snappy.parquet'.\n",
       "</pre>\n"
      ],
      "text/plain": [
       "00:53:21.787 | \u001b[36mINFO\u001b[0m    | Task run 'write_gcs-3' - Uploading from 'data/pq/2021/part-00006-36f555e6-c831-4560-aee1-88a31182e107-c000.snappy.parquet' to the bucket 'datalake_de-project-230419' path 'data/pq/2021/part-00006-36f555e6-c831-4560-aee1-88a31182e107-c000.snappy.parquet'.\n"
      ]
     },
     "metadata": {},
     "output_type": "display_data"
    },
    {
     "data": {
      "text/html": [
       "<pre style=\"white-space:pre;overflow-x:auto;line-height:normal;font-family:Menlo,'DejaVu Sans Mono',consolas,'Courier New',monospace\">00:53:24.180 | <span style=\"color: #008080; text-decoration-color: #008080\">INFO</span>    | Task run 'write_gcs-3' - Finished in state <span style=\"color: #008000; text-decoration-color: #008000\">Completed</span>()\n",
       "</pre>\n"
      ],
      "text/plain": [
       "00:53:24.180 | \u001b[36mINFO\u001b[0m    | Task run 'write_gcs-3' - Finished in state \u001b[32mCompleted\u001b[0m()\n"
      ]
     },
     "metadata": {},
     "output_type": "display_data"
    },
    {
     "data": {
      "text/html": [
       "<pre style=\"white-space:pre;overflow-x:auto;line-height:normal;font-family:Menlo,'DejaVu Sans Mono',consolas,'Courier New',monospace\">00:53:24.468 | <span style=\"color: #008080; text-decoration-color: #008080\">INFO</span>    | Flow run<span style=\"color: #800080; text-decoration-color: #800080\"> 'rampant-impala'</span> - Created task run 'write_gcs-4' for task 'write_gcs'\n",
       "</pre>\n"
      ],
      "text/plain": [
       "00:53:24.468 | \u001b[36mINFO\u001b[0m    | Flow run\u001b[35m 'rampant-impala'\u001b[0m - Created task run 'write_gcs-4' for task 'write_gcs'\n"
      ]
     },
     "metadata": {},
     "output_type": "display_data"
    },
    {
     "data": {
      "text/html": [
       "<pre style=\"white-space:pre;overflow-x:auto;line-height:normal;font-family:Menlo,'DejaVu Sans Mono',consolas,'Courier New',monospace\">00:53:24.476 | <span style=\"color: #008080; text-decoration-color: #008080\">INFO</span>    | Flow run<span style=\"color: #800080; text-decoration-color: #800080\"> 'rampant-impala'</span> - Executing 'write_gcs-4' immediately...\n",
       "</pre>\n"
      ],
      "text/plain": [
       "00:53:24.476 | \u001b[36mINFO\u001b[0m    | Flow run\u001b[35m 'rampant-impala'\u001b[0m - Executing 'write_gcs-4' immediately...\n"
      ]
     },
     "metadata": {},
     "output_type": "display_data"
    },
    {
     "data": {
      "text/html": [
       "<pre style=\"white-space:pre;overflow-x:auto;line-height:normal;font-family:Menlo,'DejaVu Sans Mono',consolas,'Courier New',monospace\">00:53:26.067 | <span style=\"color: #008080; text-decoration-color: #008080\">INFO</span>    | Task run 'write_gcs-4' - Getting bucket 'datalake_de-project-230419'.\n",
       "</pre>\n"
      ],
      "text/plain": [
       "00:53:26.067 | \u001b[36mINFO\u001b[0m    | Task run 'write_gcs-4' - Getting bucket 'datalake_de-project-230419'.\n"
      ]
     },
     "metadata": {},
     "output_type": "display_data"
    },
    {
     "data": {
      "text/html": [
       "<pre style=\"white-space:pre;overflow-x:auto;line-height:normal;font-family:Menlo,'DejaVu Sans Mono',consolas,'Courier New',monospace\">00:53:26.698 | <span style=\"color: #008080; text-decoration-color: #008080\">INFO</span>    | Task run 'write_gcs-4' - Uploading from 'data/pq/2021/part-00014-36f555e6-c831-4560-aee1-88a31182e107-c000.snappy.parquet' to the bucket 'datalake_de-project-230419' path 'data/pq/2021/part-00014-36f555e6-c831-4560-aee1-88a31182e107-c000.snappy.parquet'.\n",
       "</pre>\n"
      ],
      "text/plain": [
       "00:53:26.698 | \u001b[36mINFO\u001b[0m    | Task run 'write_gcs-4' - Uploading from 'data/pq/2021/part-00014-36f555e6-c831-4560-aee1-88a31182e107-c000.snappy.parquet' to the bucket 'datalake_de-project-230419' path 'data/pq/2021/part-00014-36f555e6-c831-4560-aee1-88a31182e107-c000.snappy.parquet'.\n"
      ]
     },
     "metadata": {},
     "output_type": "display_data"
    },
    {
     "data": {
      "text/html": [
       "<pre style=\"white-space:pre;overflow-x:auto;line-height:normal;font-family:Menlo,'DejaVu Sans Mono',consolas,'Courier New',monospace\">00:53:29.116 | <span style=\"color: #008080; text-decoration-color: #008080\">INFO</span>    | Task run 'write_gcs-4' - Finished in state <span style=\"color: #008000; text-decoration-color: #008000\">Completed</span>()\n",
       "</pre>\n"
      ],
      "text/plain": [
       "00:53:29.116 | \u001b[36mINFO\u001b[0m    | Task run 'write_gcs-4' - Finished in state \u001b[32mCompleted\u001b[0m()\n"
      ]
     },
     "metadata": {},
     "output_type": "display_data"
    },
    {
     "data": {
      "text/html": [
       "<pre style=\"white-space:pre;overflow-x:auto;line-height:normal;font-family:Menlo,'DejaVu Sans Mono',consolas,'Courier New',monospace\">00:53:29.406 | <span style=\"color: #008080; text-decoration-color: #008080\">INFO</span>    | Flow run<span style=\"color: #800080; text-decoration-color: #800080\"> 'rampant-impala'</span> - Created task run 'write_gcs-5' for task 'write_gcs'\n",
       "</pre>\n"
      ],
      "text/plain": [
       "00:53:29.406 | \u001b[36mINFO\u001b[0m    | Flow run\u001b[35m 'rampant-impala'\u001b[0m - Created task run 'write_gcs-5' for task 'write_gcs'\n"
      ]
     },
     "metadata": {},
     "output_type": "display_data"
    },
    {
     "data": {
      "text/html": [
       "<pre style=\"white-space:pre;overflow-x:auto;line-height:normal;font-family:Menlo,'DejaVu Sans Mono',consolas,'Courier New',monospace\">00:53:29.408 | <span style=\"color: #008080; text-decoration-color: #008080\">INFO</span>    | Flow run<span style=\"color: #800080; text-decoration-color: #800080\"> 'rampant-impala'</span> - Executing 'write_gcs-5' immediately...\n",
       "</pre>\n"
      ],
      "text/plain": [
       "00:53:29.408 | \u001b[36mINFO\u001b[0m    | Flow run\u001b[35m 'rampant-impala'\u001b[0m - Executing 'write_gcs-5' immediately...\n"
      ]
     },
     "metadata": {},
     "output_type": "display_data"
    },
    {
     "data": {
      "text/html": [
       "<pre style=\"white-space:pre;overflow-x:auto;line-height:normal;font-family:Menlo,'DejaVu Sans Mono',consolas,'Courier New',monospace\">00:53:31.029 | <span style=\"color: #008080; text-decoration-color: #008080\">INFO</span>    | Task run 'write_gcs-5' - Getting bucket 'datalake_de-project-230419'.\n",
       "</pre>\n"
      ],
      "text/plain": [
       "00:53:31.029 | \u001b[36mINFO\u001b[0m    | Task run 'write_gcs-5' - Getting bucket 'datalake_de-project-230419'.\n"
      ]
     },
     "metadata": {},
     "output_type": "display_data"
    },
    {
     "data": {
      "text/html": [
       "<pre style=\"white-space:pre;overflow-x:auto;line-height:normal;font-family:Menlo,'DejaVu Sans Mono',consolas,'Courier New',monospace\">00:53:31.611 | <span style=\"color: #008080; text-decoration-color: #008080\">INFO</span>    | Task run 'write_gcs-5' - Uploading from 'data/pq/2021/.part-00004-36f555e6-c831-4560-aee1-88a31182e107-c000.snappy.parquet.crc' to the bucket 'datalake_de-project-230419' path 'data/pq/2021/.part-00004-36f555e6-c831-4560-aee1-88a31182e107-c000.snappy.parquet.crc'.\n",
       "</pre>\n"
      ],
      "text/plain": [
       "00:53:31.611 | \u001b[36mINFO\u001b[0m    | Task run 'write_gcs-5' - Uploading from 'data/pq/2021/.part-00004-36f555e6-c831-4560-aee1-88a31182e107-c000.snappy.parquet.crc' to the bucket 'datalake_de-project-230419' path 'data/pq/2021/.part-00004-36f555e6-c831-4560-aee1-88a31182e107-c000.snappy.parquet.crc'.\n"
      ]
     },
     "metadata": {},
     "output_type": "display_data"
    },
    {
     "data": {
      "text/html": [
       "<pre style=\"white-space:pre;overflow-x:auto;line-height:normal;font-family:Menlo,'DejaVu Sans Mono',consolas,'Courier New',monospace\">00:53:32.220 | <span style=\"color: #008080; text-decoration-color: #008080\">INFO</span>    | Task run 'write_gcs-5' - Finished in state <span style=\"color: #008000; text-decoration-color: #008000\">Completed</span>()\n",
       "</pre>\n"
      ],
      "text/plain": [
       "00:53:32.220 | \u001b[36mINFO\u001b[0m    | Task run 'write_gcs-5' - Finished in state \u001b[32mCompleted\u001b[0m()\n"
      ]
     },
     "metadata": {},
     "output_type": "display_data"
    },
    {
     "data": {
      "text/html": [
       "<pre style=\"white-space:pre;overflow-x:auto;line-height:normal;font-family:Menlo,'DejaVu Sans Mono',consolas,'Courier New',monospace\">00:53:32.598 | <span style=\"color: #008080; text-decoration-color: #008080\">INFO</span>    | Flow run<span style=\"color: #800080; text-decoration-color: #800080\"> 'rampant-impala'</span> - Created task run 'write_gcs-6' for task 'write_gcs'\n",
       "</pre>\n"
      ],
      "text/plain": [
       "00:53:32.598 | \u001b[36mINFO\u001b[0m    | Flow run\u001b[35m 'rampant-impala'\u001b[0m - Created task run 'write_gcs-6' for task 'write_gcs'\n"
      ]
     },
     "metadata": {},
     "output_type": "display_data"
    },
    {
     "data": {
      "text/html": [
       "<pre style=\"white-space:pre;overflow-x:auto;line-height:normal;font-family:Menlo,'DejaVu Sans Mono',consolas,'Courier New',monospace\">00:53:32.608 | <span style=\"color: #008080; text-decoration-color: #008080\">INFO</span>    | Flow run<span style=\"color: #800080; text-decoration-color: #800080\"> 'rampant-impala'</span> - Executing 'write_gcs-6' immediately...\n",
       "</pre>\n"
      ],
      "text/plain": [
       "00:53:32.608 | \u001b[36mINFO\u001b[0m    | Flow run\u001b[35m 'rampant-impala'\u001b[0m - Executing 'write_gcs-6' immediately...\n"
      ]
     },
     "metadata": {},
     "output_type": "display_data"
    },
    {
     "data": {
      "text/html": [
       "<pre style=\"white-space:pre;overflow-x:auto;line-height:normal;font-family:Menlo,'DejaVu Sans Mono',consolas,'Courier New',monospace\">00:53:34.481 | <span style=\"color: #008080; text-decoration-color: #008080\">INFO</span>    | Task run 'write_gcs-6' - Getting bucket 'datalake_de-project-230419'.\n",
       "</pre>\n"
      ],
      "text/plain": [
       "00:53:34.481 | \u001b[36mINFO\u001b[0m    | Task run 'write_gcs-6' - Getting bucket 'datalake_de-project-230419'.\n"
      ]
     },
     "metadata": {},
     "output_type": "display_data"
    },
    {
     "data": {
      "text/html": [
       "<pre style=\"white-space:pre;overflow-x:auto;line-height:normal;font-family:Menlo,'DejaVu Sans Mono',consolas,'Courier New',monospace\">00:53:35.215 | <span style=\"color: #008080; text-decoration-color: #008080\">INFO</span>    | Task run 'write_gcs-6' - Uploading from 'data/pq/2021/.part-00011-36f555e6-c831-4560-aee1-88a31182e107-c000.snappy.parquet.crc' to the bucket 'datalake_de-project-230419' path 'data/pq/2021/.part-00011-36f555e6-c831-4560-aee1-88a31182e107-c000.snappy.parquet.crc'.\n",
       "</pre>\n"
      ],
      "text/plain": [
       "00:53:35.215 | \u001b[36mINFO\u001b[0m    | Task run 'write_gcs-6' - Uploading from 'data/pq/2021/.part-00011-36f555e6-c831-4560-aee1-88a31182e107-c000.snappy.parquet.crc' to the bucket 'datalake_de-project-230419' path 'data/pq/2021/.part-00011-36f555e6-c831-4560-aee1-88a31182e107-c000.snappy.parquet.crc'.\n"
      ]
     },
     "metadata": {},
     "output_type": "display_data"
    },
    {
     "data": {
      "text/html": [
       "<pre style=\"white-space:pre;overflow-x:auto;line-height:normal;font-family:Menlo,'DejaVu Sans Mono',consolas,'Courier New',monospace\">00:53:35.993 | <span style=\"color: #008080; text-decoration-color: #008080\">INFO</span>    | Task run 'write_gcs-6' - Finished in state <span style=\"color: #008000; text-decoration-color: #008000\">Completed</span>()\n",
       "</pre>\n"
      ],
      "text/plain": [
       "00:53:35.993 | \u001b[36mINFO\u001b[0m    | Task run 'write_gcs-6' - Finished in state \u001b[32mCompleted\u001b[0m()\n"
      ]
     },
     "metadata": {},
     "output_type": "display_data"
    },
    {
     "data": {
      "text/html": [
       "<pre style=\"white-space:pre;overflow-x:auto;line-height:normal;font-family:Menlo,'DejaVu Sans Mono',consolas,'Courier New',monospace\">00:53:36.309 | <span style=\"color: #008080; text-decoration-color: #008080\">INFO</span>    | Flow run<span style=\"color: #800080; text-decoration-color: #800080\"> 'rampant-impala'</span> - Created task run 'write_gcs-7' for task 'write_gcs'\n",
       "</pre>\n"
      ],
      "text/plain": [
       "00:53:36.309 | \u001b[36mINFO\u001b[0m    | Flow run\u001b[35m 'rampant-impala'\u001b[0m - Created task run 'write_gcs-7' for task 'write_gcs'\n"
      ]
     },
     "metadata": {},
     "output_type": "display_data"
    },
    {
     "data": {
      "text/html": [
       "<pre style=\"white-space:pre;overflow-x:auto;line-height:normal;font-family:Menlo,'DejaVu Sans Mono',consolas,'Courier New',monospace\">00:53:36.314 | <span style=\"color: #008080; text-decoration-color: #008080\">INFO</span>    | Flow run<span style=\"color: #800080; text-decoration-color: #800080\"> 'rampant-impala'</span> - Executing 'write_gcs-7' immediately...\n",
       "</pre>\n"
      ],
      "text/plain": [
       "00:53:36.314 | \u001b[36mINFO\u001b[0m    | Flow run\u001b[35m 'rampant-impala'\u001b[0m - Executing 'write_gcs-7' immediately...\n"
      ]
     },
     "metadata": {},
     "output_type": "display_data"
    },
    {
     "data": {
      "text/html": [
       "<pre style=\"white-space:pre;overflow-x:auto;line-height:normal;font-family:Menlo,'DejaVu Sans Mono',consolas,'Courier New',monospace\">00:53:37.762 | <span style=\"color: #008080; text-decoration-color: #008080\">INFO</span>    | Task run 'write_gcs-7' - Getting bucket 'datalake_de-project-230419'.\n",
       "</pre>\n"
      ],
      "text/plain": [
       "00:53:37.762 | \u001b[36mINFO\u001b[0m    | Task run 'write_gcs-7' - Getting bucket 'datalake_de-project-230419'.\n"
      ]
     },
     "metadata": {},
     "output_type": "display_data"
    },
    {
     "data": {
      "text/html": [
       "<pre style=\"white-space:pre;overflow-x:auto;line-height:normal;font-family:Menlo,'DejaVu Sans Mono',consolas,'Courier New',monospace\">00:53:38.329 | <span style=\"color: #008080; text-decoration-color: #008080\">INFO</span>    | Task run 'write_gcs-7' - Uploading from 'data/pq/2021/.part-00003-36f555e6-c831-4560-aee1-88a31182e107-c000.snappy.parquet.crc' to the bucket 'datalake_de-project-230419' path 'data/pq/2021/.part-00003-36f555e6-c831-4560-aee1-88a31182e107-c000.snappy.parquet.crc'.\n",
       "</pre>\n"
      ],
      "text/plain": [
       "00:53:38.329 | \u001b[36mINFO\u001b[0m    | Task run 'write_gcs-7' - Uploading from 'data/pq/2021/.part-00003-36f555e6-c831-4560-aee1-88a31182e107-c000.snappy.parquet.crc' to the bucket 'datalake_de-project-230419' path 'data/pq/2021/.part-00003-36f555e6-c831-4560-aee1-88a31182e107-c000.snappy.parquet.crc'.\n"
      ]
     },
     "metadata": {},
     "output_type": "display_data"
    },
    {
     "data": {
      "text/html": [
       "<pre style=\"white-space:pre;overflow-x:auto;line-height:normal;font-family:Menlo,'DejaVu Sans Mono',consolas,'Courier New',monospace\">00:53:38.922 | <span style=\"color: #008080; text-decoration-color: #008080\">INFO</span>    | Task run 'write_gcs-7' - Finished in state <span style=\"color: #008000; text-decoration-color: #008000\">Completed</span>()\n",
       "</pre>\n"
      ],
      "text/plain": [
       "00:53:38.922 | \u001b[36mINFO\u001b[0m    | Task run 'write_gcs-7' - Finished in state \u001b[32mCompleted\u001b[0m()\n"
      ]
     },
     "metadata": {},
     "output_type": "display_data"
    },
    {
     "data": {
      "text/html": [
       "<pre style=\"white-space:pre;overflow-x:auto;line-height:normal;font-family:Menlo,'DejaVu Sans Mono',consolas,'Courier New',monospace\">00:53:39.216 | <span style=\"color: #008080; text-decoration-color: #008080\">INFO</span>    | Flow run<span style=\"color: #800080; text-decoration-color: #800080\"> 'rampant-impala'</span> - Created task run 'write_gcs-8' for task 'write_gcs'\n",
       "</pre>\n"
      ],
      "text/plain": [
       "00:53:39.216 | \u001b[36mINFO\u001b[0m    | Flow run\u001b[35m 'rampant-impala'\u001b[0m - Created task run 'write_gcs-8' for task 'write_gcs'\n"
      ]
     },
     "metadata": {},
     "output_type": "display_data"
    },
    {
     "data": {
      "text/html": [
       "<pre style=\"white-space:pre;overflow-x:auto;line-height:normal;font-family:Menlo,'DejaVu Sans Mono',consolas,'Courier New',monospace\">00:53:39.218 | <span style=\"color: #008080; text-decoration-color: #008080\">INFO</span>    | Flow run<span style=\"color: #800080; text-decoration-color: #800080\"> 'rampant-impala'</span> - Executing 'write_gcs-8' immediately...\n",
       "</pre>\n"
      ],
      "text/plain": [
       "00:53:39.218 | \u001b[36mINFO\u001b[0m    | Flow run\u001b[35m 'rampant-impala'\u001b[0m - Executing 'write_gcs-8' immediately...\n"
      ]
     },
     "metadata": {},
     "output_type": "display_data"
    },
    {
     "data": {
      "text/html": [
       "<pre style=\"white-space:pre;overflow-x:auto;line-height:normal;font-family:Menlo,'DejaVu Sans Mono',consolas,'Courier New',monospace\">00:53:41.079 | <span style=\"color: #008080; text-decoration-color: #008080\">INFO</span>    | Task run 'write_gcs-8' - Getting bucket 'datalake_de-project-230419'.\n",
       "</pre>\n"
      ],
      "text/plain": [
       "00:53:41.079 | \u001b[36mINFO\u001b[0m    | Task run 'write_gcs-8' - Getting bucket 'datalake_de-project-230419'.\n"
      ]
     },
     "metadata": {},
     "output_type": "display_data"
    },
    {
     "data": {
      "text/html": [
       "<pre style=\"white-space:pre;overflow-x:auto;line-height:normal;font-family:Menlo,'DejaVu Sans Mono',consolas,'Courier New',monospace\">00:53:41.607 | <span style=\"color: #008080; text-decoration-color: #008080\">INFO</span>    | Task run 'write_gcs-8' - Uploading from 'data/pq/2021/.part-00006-36f555e6-c831-4560-aee1-88a31182e107-c000.snappy.parquet.crc' to the bucket 'datalake_de-project-230419' path 'data/pq/2021/.part-00006-36f555e6-c831-4560-aee1-88a31182e107-c000.snappy.parquet.crc'.\n",
       "</pre>\n"
      ],
      "text/plain": [
       "00:53:41.607 | \u001b[36mINFO\u001b[0m    | Task run 'write_gcs-8' - Uploading from 'data/pq/2021/.part-00006-36f555e6-c831-4560-aee1-88a31182e107-c000.snappy.parquet.crc' to the bucket 'datalake_de-project-230419' path 'data/pq/2021/.part-00006-36f555e6-c831-4560-aee1-88a31182e107-c000.snappy.parquet.crc'.\n"
      ]
     },
     "metadata": {},
     "output_type": "display_data"
    },
    {
     "data": {
      "text/html": [
       "<pre style=\"white-space:pre;overflow-x:auto;line-height:normal;font-family:Menlo,'DejaVu Sans Mono',consolas,'Courier New',monospace\">00:53:42.688 | <span style=\"color: #008080; text-decoration-color: #008080\">INFO</span>    | Task run 'write_gcs-8' - Finished in state <span style=\"color: #008000; text-decoration-color: #008000\">Completed</span>()\n",
       "</pre>\n"
      ],
      "text/plain": [
       "00:53:42.688 | \u001b[36mINFO\u001b[0m    | Task run 'write_gcs-8' - Finished in state \u001b[32mCompleted\u001b[0m()\n"
      ]
     },
     "metadata": {},
     "output_type": "display_data"
    },
    {
     "data": {
      "text/html": [
       "<pre style=\"white-space:pre;overflow-x:auto;line-height:normal;font-family:Menlo,'DejaVu Sans Mono',consolas,'Courier New',monospace\">00:53:42.998 | <span style=\"color: #008080; text-decoration-color: #008080\">INFO</span>    | Flow run<span style=\"color: #800080; text-decoration-color: #800080\"> 'rampant-impala'</span> - Created task run 'write_gcs-9' for task 'write_gcs'\n",
       "</pre>\n"
      ],
      "text/plain": [
       "00:53:42.998 | \u001b[36mINFO\u001b[0m    | Flow run\u001b[35m 'rampant-impala'\u001b[0m - Created task run 'write_gcs-9' for task 'write_gcs'\n"
      ]
     },
     "metadata": {},
     "output_type": "display_data"
    },
    {
     "data": {
      "text/html": [
       "<pre style=\"white-space:pre;overflow-x:auto;line-height:normal;font-family:Menlo,'DejaVu Sans Mono',consolas,'Courier New',monospace\">00:53:43.000 | <span style=\"color: #008080; text-decoration-color: #008080\">INFO</span>    | Flow run<span style=\"color: #800080; text-decoration-color: #800080\"> 'rampant-impala'</span> - Executing 'write_gcs-9' immediately...\n",
       "</pre>\n"
      ],
      "text/plain": [
       "00:53:43.000 | \u001b[36mINFO\u001b[0m    | Flow run\u001b[35m 'rampant-impala'\u001b[0m - Executing 'write_gcs-9' immediately...\n"
      ]
     },
     "metadata": {},
     "output_type": "display_data"
    },
    {
     "data": {
      "text/html": [
       "<pre style=\"white-space:pre;overflow-x:auto;line-height:normal;font-family:Menlo,'DejaVu Sans Mono',consolas,'Courier New',monospace\">00:53:44.630 | <span style=\"color: #008080; text-decoration-color: #008080\">INFO</span>    | Task run 'write_gcs-9' - Getting bucket 'datalake_de-project-230419'.\n",
       "</pre>\n"
      ],
      "text/plain": [
       "00:53:44.630 | \u001b[36mINFO\u001b[0m    | Task run 'write_gcs-9' - Getting bucket 'datalake_de-project-230419'.\n"
      ]
     },
     "metadata": {},
     "output_type": "display_data"
    },
    {
     "data": {
      "text/html": [
       "<pre style=\"white-space:pre;overflow-x:auto;line-height:normal;font-family:Menlo,'DejaVu Sans Mono',consolas,'Courier New',monospace\">00:53:45.274 | <span style=\"color: #008080; text-decoration-color: #008080\">INFO</span>    | Task run 'write_gcs-9' - Uploading from 'data/pq/2021/_SUCCESS' to the bucket 'datalake_de-project-230419' path 'data/pq/2021/_SUCCESS'.\n",
       "</pre>\n"
      ],
      "text/plain": [
       "00:53:45.274 | \u001b[36mINFO\u001b[0m    | Task run 'write_gcs-9' - Uploading from 'data/pq/2021/_SUCCESS' to the bucket 'datalake_de-project-230419' path 'data/pq/2021/_SUCCESS'.\n"
      ]
     },
     "metadata": {},
     "output_type": "display_data"
    },
    {
     "data": {
      "text/html": [
       "<pre style=\"white-space:pre;overflow-x:auto;line-height:normal;font-family:Menlo,'DejaVu Sans Mono',consolas,'Courier New',monospace\">00:53:45.877 | <span style=\"color: #008080; text-decoration-color: #008080\">INFO</span>    | Task run 'write_gcs-9' - Finished in state <span style=\"color: #008000; text-decoration-color: #008000\">Completed</span>()\n",
       "</pre>\n"
      ],
      "text/plain": [
       "00:53:45.877 | \u001b[36mINFO\u001b[0m    | Task run 'write_gcs-9' - Finished in state \u001b[32mCompleted\u001b[0m()\n"
      ]
     },
     "metadata": {},
     "output_type": "display_data"
    },
    {
     "data": {
      "text/html": [
       "<pre style=\"white-space:pre;overflow-x:auto;line-height:normal;font-family:Menlo,'DejaVu Sans Mono',consolas,'Courier New',monospace\">00:53:46.221 | <span style=\"color: #008080; text-decoration-color: #008080\">INFO</span>    | Flow run<span style=\"color: #800080; text-decoration-color: #800080\"> 'rampant-impala'</span> - Created task run 'write_gcs-10' for task 'write_gcs'\n",
       "</pre>\n"
      ],
      "text/plain": [
       "00:53:46.221 | \u001b[36mINFO\u001b[0m    | Flow run\u001b[35m 'rampant-impala'\u001b[0m - Created task run 'write_gcs-10' for task 'write_gcs'\n"
      ]
     },
     "metadata": {},
     "output_type": "display_data"
    },
    {
     "data": {
      "text/html": [
       "<pre style=\"white-space:pre;overflow-x:auto;line-height:normal;font-family:Menlo,'DejaVu Sans Mono',consolas,'Courier New',monospace\">00:53:46.224 | <span style=\"color: #008080; text-decoration-color: #008080\">INFO</span>    | Flow run<span style=\"color: #800080; text-decoration-color: #800080\"> 'rampant-impala'</span> - Executing 'write_gcs-10' immediately...\n",
       "</pre>\n"
      ],
      "text/plain": [
       "00:53:46.224 | \u001b[36mINFO\u001b[0m    | Flow run\u001b[35m 'rampant-impala'\u001b[0m - Executing 'write_gcs-10' immediately...\n"
      ]
     },
     "metadata": {},
     "output_type": "display_data"
    },
    {
     "data": {
      "text/html": [
       "<pre style=\"white-space:pre;overflow-x:auto;line-height:normal;font-family:Menlo,'DejaVu Sans Mono',consolas,'Courier New',monospace\">00:53:48.271 | <span style=\"color: #008080; text-decoration-color: #008080\">INFO</span>    | Task run 'write_gcs-10' - Getting bucket 'datalake_de-project-230419'.\n",
       "</pre>\n"
      ],
      "text/plain": [
       "00:53:48.271 | \u001b[36mINFO\u001b[0m    | Task run 'write_gcs-10' - Getting bucket 'datalake_de-project-230419'.\n"
      ]
     },
     "metadata": {},
     "output_type": "display_data"
    },
    {
     "data": {
      "text/html": [
       "<pre style=\"white-space:pre;overflow-x:auto;line-height:normal;font-family:Menlo,'DejaVu Sans Mono',consolas,'Courier New',monospace\">00:53:48.924 | <span style=\"color: #008080; text-decoration-color: #008080\">INFO</span>    | Task run 'write_gcs-10' - Uploading from 'data/pq/2021/part-00008-36f555e6-c831-4560-aee1-88a31182e107-c000.snappy.parquet' to the bucket 'datalake_de-project-230419' path 'data/pq/2021/part-00008-36f555e6-c831-4560-aee1-88a31182e107-c000.snappy.parquet'.\n",
       "</pre>\n"
      ],
      "text/plain": [
       "00:53:48.924 | \u001b[36mINFO\u001b[0m    | Task run 'write_gcs-10' - Uploading from 'data/pq/2021/part-00008-36f555e6-c831-4560-aee1-88a31182e107-c000.snappy.parquet' to the bucket 'datalake_de-project-230419' path 'data/pq/2021/part-00008-36f555e6-c831-4560-aee1-88a31182e107-c000.snappy.parquet'.\n"
      ]
     },
     "metadata": {},
     "output_type": "display_data"
    },
    {
     "data": {
      "text/html": [
       "<pre style=\"white-space:pre;overflow-x:auto;line-height:normal;font-family:Menlo,'DejaVu Sans Mono',consolas,'Courier New',monospace\">00:53:51.703 | <span style=\"color: #008080; text-decoration-color: #008080\">INFO</span>    | Task run 'write_gcs-10' - Finished in state <span style=\"color: #008000; text-decoration-color: #008000\">Completed</span>()\n",
       "</pre>\n"
      ],
      "text/plain": [
       "00:53:51.703 | \u001b[36mINFO\u001b[0m    | Task run 'write_gcs-10' - Finished in state \u001b[32mCompleted\u001b[0m()\n"
      ]
     },
     "metadata": {},
     "output_type": "display_data"
    },
    {
     "data": {
      "text/html": [
       "<pre style=\"white-space:pre;overflow-x:auto;line-height:normal;font-family:Menlo,'DejaVu Sans Mono',consolas,'Courier New',monospace\">00:53:51.968 | <span style=\"color: #008080; text-decoration-color: #008080\">INFO</span>    | Flow run<span style=\"color: #800080; text-decoration-color: #800080\"> 'rampant-impala'</span> - Created task run 'write_gcs-11' for task 'write_gcs'\n",
       "</pre>\n"
      ],
      "text/plain": [
       "00:53:51.968 | \u001b[36mINFO\u001b[0m    | Flow run\u001b[35m 'rampant-impala'\u001b[0m - Created task run 'write_gcs-11' for task 'write_gcs'\n"
      ]
     },
     "metadata": {},
     "output_type": "display_data"
    },
    {
     "data": {
      "text/html": [
       "<pre style=\"white-space:pre;overflow-x:auto;line-height:normal;font-family:Menlo,'DejaVu Sans Mono',consolas,'Courier New',monospace\">00:53:51.973 | <span style=\"color: #008080; text-decoration-color: #008080\">INFO</span>    | Flow run<span style=\"color: #800080; text-decoration-color: #800080\"> 'rampant-impala'</span> - Executing 'write_gcs-11' immediately...\n",
       "</pre>\n"
      ],
      "text/plain": [
       "00:53:51.973 | \u001b[36mINFO\u001b[0m    | Flow run\u001b[35m 'rampant-impala'\u001b[0m - Executing 'write_gcs-11' immediately...\n"
      ]
     },
     "metadata": {},
     "output_type": "display_data"
    },
    {
     "data": {
      "text/html": [
       "<pre style=\"white-space:pre;overflow-x:auto;line-height:normal;font-family:Menlo,'DejaVu Sans Mono',consolas,'Courier New',monospace\">00:53:53.808 | <span style=\"color: #008080; text-decoration-color: #008080\">INFO</span>    | Task run 'write_gcs-11' - Getting bucket 'datalake_de-project-230419'.\n",
       "</pre>\n"
      ],
      "text/plain": [
       "00:53:53.808 | \u001b[36mINFO\u001b[0m    | Task run 'write_gcs-11' - Getting bucket 'datalake_de-project-230419'.\n"
      ]
     },
     "metadata": {},
     "output_type": "display_data"
    },
    {
     "data": {
      "text/html": [
       "<pre style=\"white-space:pre;overflow-x:auto;line-height:normal;font-family:Menlo,'DejaVu Sans Mono',consolas,'Courier New',monospace\">00:53:54.465 | <span style=\"color: #008080; text-decoration-color: #008080\">INFO</span>    | Task run 'write_gcs-11' - Uploading from 'data/pq/2021/.part-00012-36f555e6-c831-4560-aee1-88a31182e107-c000.snappy.parquet.crc' to the bucket 'datalake_de-project-230419' path 'data/pq/2021/.part-00012-36f555e6-c831-4560-aee1-88a31182e107-c000.snappy.parquet.crc'.\n",
       "</pre>\n"
      ],
      "text/plain": [
       "00:53:54.465 | \u001b[36mINFO\u001b[0m    | Task run 'write_gcs-11' - Uploading from 'data/pq/2021/.part-00012-36f555e6-c831-4560-aee1-88a31182e107-c000.snappy.parquet.crc' to the bucket 'datalake_de-project-230419' path 'data/pq/2021/.part-00012-36f555e6-c831-4560-aee1-88a31182e107-c000.snappy.parquet.crc'.\n"
      ]
     },
     "metadata": {},
     "output_type": "display_data"
    },
    {
     "data": {
      "text/html": [
       "<pre style=\"white-space:pre;overflow-x:auto;line-height:normal;font-family:Menlo,'DejaVu Sans Mono',consolas,'Courier New',monospace\">00:53:55.012 | <span style=\"color: #008080; text-decoration-color: #008080\">INFO</span>    | Task run 'write_gcs-11' - Finished in state <span style=\"color: #008000; text-decoration-color: #008000\">Completed</span>()\n",
       "</pre>\n"
      ],
      "text/plain": [
       "00:53:55.012 | \u001b[36mINFO\u001b[0m    | Task run 'write_gcs-11' - Finished in state \u001b[32mCompleted\u001b[0m()\n"
      ]
     },
     "metadata": {},
     "output_type": "display_data"
    },
    {
     "data": {
      "text/html": [
       "<pre style=\"white-space:pre;overflow-x:auto;line-height:normal;font-family:Menlo,'DejaVu Sans Mono',consolas,'Courier New',monospace\">00:53:55.336 | <span style=\"color: #008080; text-decoration-color: #008080\">INFO</span>    | Flow run<span style=\"color: #800080; text-decoration-color: #800080\"> 'rampant-impala'</span> - Created task run 'write_gcs-12' for task 'write_gcs'\n",
       "</pre>\n"
      ],
      "text/plain": [
       "00:53:55.336 | \u001b[36mINFO\u001b[0m    | Flow run\u001b[35m 'rampant-impala'\u001b[0m - Created task run 'write_gcs-12' for task 'write_gcs'\n"
      ]
     },
     "metadata": {},
     "output_type": "display_data"
    },
    {
     "data": {
      "text/html": [
       "<pre style=\"white-space:pre;overflow-x:auto;line-height:normal;font-family:Menlo,'DejaVu Sans Mono',consolas,'Courier New',monospace\">00:53:55.340 | <span style=\"color: #008080; text-decoration-color: #008080\">INFO</span>    | Flow run<span style=\"color: #800080; text-decoration-color: #800080\"> 'rampant-impala'</span> - Executing 'write_gcs-12' immediately...\n",
       "</pre>\n"
      ],
      "text/plain": [
       "00:53:55.340 | \u001b[36mINFO\u001b[0m    | Flow run\u001b[35m 'rampant-impala'\u001b[0m - Executing 'write_gcs-12' immediately...\n"
      ]
     },
     "metadata": {},
     "output_type": "display_data"
    },
    {
     "data": {
      "text/html": [
       "<pre style=\"white-space:pre;overflow-x:auto;line-height:normal;font-family:Menlo,'DejaVu Sans Mono',consolas,'Courier New',monospace\">00:53:56.932 | <span style=\"color: #008080; text-decoration-color: #008080\">INFO</span>    | Task run 'write_gcs-12' - Getting bucket 'datalake_de-project-230419'.\n",
       "</pre>\n"
      ],
      "text/plain": [
       "00:53:56.932 | \u001b[36mINFO\u001b[0m    | Task run 'write_gcs-12' - Getting bucket 'datalake_de-project-230419'.\n"
      ]
     },
     "metadata": {},
     "output_type": "display_data"
    },
    {
     "data": {
      "text/html": [
       "<pre style=\"white-space:pre;overflow-x:auto;line-height:normal;font-family:Menlo,'DejaVu Sans Mono',consolas,'Courier New',monospace\">00:53:57.615 | <span style=\"color: #008080; text-decoration-color: #008080\">INFO</span>    | Task run 'write_gcs-12' - Uploading from 'data/pq/2021/.part-00010-36f555e6-c831-4560-aee1-88a31182e107-c000.snappy.parquet.crc' to the bucket 'datalake_de-project-230419' path 'data/pq/2021/.part-00010-36f555e6-c831-4560-aee1-88a31182e107-c000.snappy.parquet.crc'.\n",
       "</pre>\n"
      ],
      "text/plain": [
       "00:53:57.615 | \u001b[36mINFO\u001b[0m    | Task run 'write_gcs-12' - Uploading from 'data/pq/2021/.part-00010-36f555e6-c831-4560-aee1-88a31182e107-c000.snappy.parquet.crc' to the bucket 'datalake_de-project-230419' path 'data/pq/2021/.part-00010-36f555e6-c831-4560-aee1-88a31182e107-c000.snappy.parquet.crc'.\n"
      ]
     },
     "metadata": {},
     "output_type": "display_data"
    },
    {
     "data": {
      "text/html": [
       "<pre style=\"white-space:pre;overflow-x:auto;line-height:normal;font-family:Menlo,'DejaVu Sans Mono',consolas,'Courier New',monospace\">00:53:59.110 | <span style=\"color: #008080; text-decoration-color: #008080\">INFO</span>    | Task run 'write_gcs-12' - Finished in state <span style=\"color: #008000; text-decoration-color: #008000\">Completed</span>()\n",
       "</pre>\n"
      ],
      "text/plain": [
       "00:53:59.110 | \u001b[36mINFO\u001b[0m    | Task run 'write_gcs-12' - Finished in state \u001b[32mCompleted\u001b[0m()\n"
      ]
     },
     "metadata": {},
     "output_type": "display_data"
    },
    {
     "data": {
      "text/html": [
       "<pre style=\"white-space:pre;overflow-x:auto;line-height:normal;font-family:Menlo,'DejaVu Sans Mono',consolas,'Courier New',monospace\">00:53:59.642 | <span style=\"color: #008080; text-decoration-color: #008080\">INFO</span>    | Flow run<span style=\"color: #800080; text-decoration-color: #800080\"> 'rampant-impala'</span> - Created task run 'write_gcs-13' for task 'write_gcs'\n",
       "</pre>\n"
      ],
      "text/plain": [
       "00:53:59.642 | \u001b[36mINFO\u001b[0m    | Flow run\u001b[35m 'rampant-impala'\u001b[0m - Created task run 'write_gcs-13' for task 'write_gcs'\n"
      ]
     },
     "metadata": {},
     "output_type": "display_data"
    },
    {
     "data": {
      "text/html": [
       "<pre style=\"white-space:pre;overflow-x:auto;line-height:normal;font-family:Menlo,'DejaVu Sans Mono',consolas,'Courier New',monospace\">00:53:59.651 | <span style=\"color: #008080; text-decoration-color: #008080\">INFO</span>    | Flow run<span style=\"color: #800080; text-decoration-color: #800080\"> 'rampant-impala'</span> - Executing 'write_gcs-13' immediately...\n",
       "</pre>\n"
      ],
      "text/plain": [
       "00:53:59.651 | \u001b[36mINFO\u001b[0m    | Flow run\u001b[35m 'rampant-impala'\u001b[0m - Executing 'write_gcs-13' immediately...\n"
      ]
     },
     "metadata": {},
     "output_type": "display_data"
    },
    {
     "data": {
      "text/html": [
       "<pre style=\"white-space:pre;overflow-x:auto;line-height:normal;font-family:Menlo,'DejaVu Sans Mono',consolas,'Courier New',monospace\">00:54:01.491 | <span style=\"color: #008080; text-decoration-color: #008080\">INFO</span>    | Task run 'write_gcs-13' - Getting bucket 'datalake_de-project-230419'.\n",
       "</pre>\n"
      ],
      "text/plain": [
       "00:54:01.491 | \u001b[36mINFO\u001b[0m    | Task run 'write_gcs-13' - Getting bucket 'datalake_de-project-230419'.\n"
      ]
     },
     "metadata": {},
     "output_type": "display_data"
    },
    {
     "data": {
      "text/html": [
       "<pre style=\"white-space:pre;overflow-x:auto;line-height:normal;font-family:Menlo,'DejaVu Sans Mono',consolas,'Courier New',monospace\">00:54:02.094 | <span style=\"color: #008080; text-decoration-color: #008080\">INFO</span>    | Task run 'write_gcs-13' - Uploading from 'data/pq/2021/part-00018-36f555e6-c831-4560-aee1-88a31182e107-c000.snappy.parquet' to the bucket 'datalake_de-project-230419' path 'data/pq/2021/part-00018-36f555e6-c831-4560-aee1-88a31182e107-c000.snappy.parquet'.\n",
       "</pre>\n"
      ],
      "text/plain": [
       "00:54:02.094 | \u001b[36mINFO\u001b[0m    | Task run 'write_gcs-13' - Uploading from 'data/pq/2021/part-00018-36f555e6-c831-4560-aee1-88a31182e107-c000.snappy.parquet' to the bucket 'datalake_de-project-230419' path 'data/pq/2021/part-00018-36f555e6-c831-4560-aee1-88a31182e107-c000.snappy.parquet'.\n"
      ]
     },
     "metadata": {},
     "output_type": "display_data"
    },
    {
     "data": {
      "text/html": [
       "<pre style=\"white-space:pre;overflow-x:auto;line-height:normal;font-family:Menlo,'DejaVu Sans Mono',consolas,'Courier New',monospace\">00:54:05.117 | <span style=\"color: #008080; text-decoration-color: #008080\">INFO</span>    | Task run 'write_gcs-13' - Finished in state <span style=\"color: #008000; text-decoration-color: #008000\">Completed</span>()\n",
       "</pre>\n"
      ],
      "text/plain": [
       "00:54:05.117 | \u001b[36mINFO\u001b[0m    | Task run 'write_gcs-13' - Finished in state \u001b[32mCompleted\u001b[0m()\n"
      ]
     },
     "metadata": {},
     "output_type": "display_data"
    },
    {
     "data": {
      "text/html": [
       "<pre style=\"white-space:pre;overflow-x:auto;line-height:normal;font-family:Menlo,'DejaVu Sans Mono',consolas,'Courier New',monospace\">00:54:05.409 | <span style=\"color: #008080; text-decoration-color: #008080\">INFO</span>    | Flow run<span style=\"color: #800080; text-decoration-color: #800080\"> 'rampant-impala'</span> - Created task run 'write_gcs-14' for task 'write_gcs'\n",
       "</pre>\n"
      ],
      "text/plain": [
       "00:54:05.409 | \u001b[36mINFO\u001b[0m    | Flow run\u001b[35m 'rampant-impala'\u001b[0m - Created task run 'write_gcs-14' for task 'write_gcs'\n"
      ]
     },
     "metadata": {},
     "output_type": "display_data"
    },
    {
     "data": {
      "text/html": [
       "<pre style=\"white-space:pre;overflow-x:auto;line-height:normal;font-family:Menlo,'DejaVu Sans Mono',consolas,'Courier New',monospace\">00:54:05.413 | <span style=\"color: #008080; text-decoration-color: #008080\">INFO</span>    | Flow run<span style=\"color: #800080; text-decoration-color: #800080\"> 'rampant-impala'</span> - Executing 'write_gcs-14' immediately...\n",
       "</pre>\n"
      ],
      "text/plain": [
       "00:54:05.413 | \u001b[36mINFO\u001b[0m    | Flow run\u001b[35m 'rampant-impala'\u001b[0m - Executing 'write_gcs-14' immediately...\n"
      ]
     },
     "metadata": {},
     "output_type": "display_data"
    },
    {
     "data": {
      "text/html": [
       "<pre style=\"white-space:pre;overflow-x:auto;line-height:normal;font-family:Menlo,'DejaVu Sans Mono',consolas,'Courier New',monospace\">00:54:07.440 | <span style=\"color: #008080; text-decoration-color: #008080\">INFO</span>    | Task run 'write_gcs-14' - Getting bucket 'datalake_de-project-230419'.\n",
       "</pre>\n"
      ],
      "text/plain": [
       "00:54:07.440 | \u001b[36mINFO\u001b[0m    | Task run 'write_gcs-14' - Getting bucket 'datalake_de-project-230419'.\n"
      ]
     },
     "metadata": {},
     "output_type": "display_data"
    },
    {
     "data": {
      "text/html": [
       "<pre style=\"white-space:pre;overflow-x:auto;line-height:normal;font-family:Menlo,'DejaVu Sans Mono',consolas,'Courier New',monospace\">00:54:08.123 | <span style=\"color: #008080; text-decoration-color: #008080\">INFO</span>    | Task run 'write_gcs-14' - Uploading from 'data/pq/2021/.part-00013-36f555e6-c831-4560-aee1-88a31182e107-c000.snappy.parquet.crc' to the bucket 'datalake_de-project-230419' path 'data/pq/2021/.part-00013-36f555e6-c831-4560-aee1-88a31182e107-c000.snappy.parquet.crc'.\n",
       "</pre>\n"
      ],
      "text/plain": [
       "00:54:08.123 | \u001b[36mINFO\u001b[0m    | Task run 'write_gcs-14' - Uploading from 'data/pq/2021/.part-00013-36f555e6-c831-4560-aee1-88a31182e107-c000.snappy.parquet.crc' to the bucket 'datalake_de-project-230419' path 'data/pq/2021/.part-00013-36f555e6-c831-4560-aee1-88a31182e107-c000.snappy.parquet.crc'.\n"
      ]
     },
     "metadata": {},
     "output_type": "display_data"
    },
    {
     "data": {
      "text/html": [
       "<pre style=\"white-space:pre;overflow-x:auto;line-height:normal;font-family:Menlo,'DejaVu Sans Mono',consolas,'Courier New',monospace\">00:54:08.640 | <span style=\"color: #008080; text-decoration-color: #008080\">INFO</span>    | Task run 'write_gcs-14' - Finished in state <span style=\"color: #008000; text-decoration-color: #008000\">Completed</span>()\n",
       "</pre>\n"
      ],
      "text/plain": [
       "00:54:08.640 | \u001b[36mINFO\u001b[0m    | Task run 'write_gcs-14' - Finished in state \u001b[32mCompleted\u001b[0m()\n"
      ]
     },
     "metadata": {},
     "output_type": "display_data"
    },
    {
     "data": {
      "text/html": [
       "<pre style=\"white-space:pre;overflow-x:auto;line-height:normal;font-family:Menlo,'DejaVu Sans Mono',consolas,'Courier New',monospace\">00:54:08.972 | <span style=\"color: #008080; text-decoration-color: #008080\">INFO</span>    | Flow run<span style=\"color: #800080; text-decoration-color: #800080\"> 'rampant-impala'</span> - Created task run 'write_gcs-15' for task 'write_gcs'\n",
       "</pre>\n"
      ],
      "text/plain": [
       "00:54:08.972 | \u001b[36mINFO\u001b[0m    | Flow run\u001b[35m 'rampant-impala'\u001b[0m - Created task run 'write_gcs-15' for task 'write_gcs'\n"
      ]
     },
     "metadata": {},
     "output_type": "display_data"
    },
    {
     "data": {
      "text/html": [
       "<pre style=\"white-space:pre;overflow-x:auto;line-height:normal;font-family:Menlo,'DejaVu Sans Mono',consolas,'Courier New',monospace\">00:54:08.978 | <span style=\"color: #008080; text-decoration-color: #008080\">INFO</span>    | Flow run<span style=\"color: #800080; text-decoration-color: #800080\"> 'rampant-impala'</span> - Executing 'write_gcs-15' immediately...\n",
       "</pre>\n"
      ],
      "text/plain": [
       "00:54:08.978 | \u001b[36mINFO\u001b[0m    | Flow run\u001b[35m 'rampant-impala'\u001b[0m - Executing 'write_gcs-15' immediately...\n"
      ]
     },
     "metadata": {},
     "output_type": "display_data"
    },
    {
     "data": {
      "text/html": [
       "<pre style=\"white-space:pre;overflow-x:auto;line-height:normal;font-family:Menlo,'DejaVu Sans Mono',consolas,'Courier New',monospace\">00:54:10.931 | <span style=\"color: #008080; text-decoration-color: #008080\">INFO</span>    | Task run 'write_gcs-15' - Getting bucket 'datalake_de-project-230419'.\n",
       "</pre>\n"
      ],
      "text/plain": [
       "00:54:10.931 | \u001b[36mINFO\u001b[0m    | Task run 'write_gcs-15' - Getting bucket 'datalake_de-project-230419'.\n"
      ]
     },
     "metadata": {},
     "output_type": "display_data"
    },
    {
     "data": {
      "text/html": [
       "<pre style=\"white-space:pre;overflow-x:auto;line-height:normal;font-family:Menlo,'DejaVu Sans Mono',consolas,'Courier New',monospace\">00:54:11.488 | <span style=\"color: #008080; text-decoration-color: #008080\">INFO</span>    | Task run 'write_gcs-15' - Uploading from 'data/pq/2021/.part-00017-36f555e6-c831-4560-aee1-88a31182e107-c000.snappy.parquet.crc' to the bucket 'datalake_de-project-230419' path 'data/pq/2021/.part-00017-36f555e6-c831-4560-aee1-88a31182e107-c000.snappy.parquet.crc'.\n",
       "</pre>\n"
      ],
      "text/plain": [
       "00:54:11.488 | \u001b[36mINFO\u001b[0m    | Task run 'write_gcs-15' - Uploading from 'data/pq/2021/.part-00017-36f555e6-c831-4560-aee1-88a31182e107-c000.snappy.parquet.crc' to the bucket 'datalake_de-project-230419' path 'data/pq/2021/.part-00017-36f555e6-c831-4560-aee1-88a31182e107-c000.snappy.parquet.crc'.\n"
      ]
     },
     "metadata": {},
     "output_type": "display_data"
    },
    {
     "data": {
      "text/html": [
       "<pre style=\"white-space:pre;overflow-x:auto;line-height:normal;font-family:Menlo,'DejaVu Sans Mono',consolas,'Courier New',monospace\">00:54:12.347 | <span style=\"color: #008080; text-decoration-color: #008080\">INFO</span>    | Task run 'write_gcs-15' - Finished in state <span style=\"color: #008000; text-decoration-color: #008000\">Completed</span>()\n",
       "</pre>\n"
      ],
      "text/plain": [
       "00:54:12.347 | \u001b[36mINFO\u001b[0m    | Task run 'write_gcs-15' - Finished in state \u001b[32mCompleted\u001b[0m()\n"
      ]
     },
     "metadata": {},
     "output_type": "display_data"
    },
    {
     "data": {
      "text/html": [
       "<pre style=\"white-space:pre;overflow-x:auto;line-height:normal;font-family:Menlo,'DejaVu Sans Mono',consolas,'Courier New',monospace\">00:54:12.750 | <span style=\"color: #008080; text-decoration-color: #008080\">INFO</span>    | Flow run<span style=\"color: #800080; text-decoration-color: #800080\"> 'rampant-impala'</span> - Created task run 'write_gcs-16' for task 'write_gcs'\n",
       "</pre>\n"
      ],
      "text/plain": [
       "00:54:12.750 | \u001b[36mINFO\u001b[0m    | Flow run\u001b[35m 'rampant-impala'\u001b[0m - Created task run 'write_gcs-16' for task 'write_gcs'\n"
      ]
     },
     "metadata": {},
     "output_type": "display_data"
    },
    {
     "data": {
      "text/html": [
       "<pre style=\"white-space:pre;overflow-x:auto;line-height:normal;font-family:Menlo,'DejaVu Sans Mono',consolas,'Courier New',monospace\">00:54:12.760 | <span style=\"color: #008080; text-decoration-color: #008080\">INFO</span>    | Flow run<span style=\"color: #800080; text-decoration-color: #800080\"> 'rampant-impala'</span> - Executing 'write_gcs-16' immediately...\n",
       "</pre>\n"
      ],
      "text/plain": [
       "00:54:12.760 | \u001b[36mINFO\u001b[0m    | Flow run\u001b[35m 'rampant-impala'\u001b[0m - Executing 'write_gcs-16' immediately...\n"
      ]
     },
     "metadata": {},
     "output_type": "display_data"
    },
    {
     "data": {
      "text/html": [
       "<pre style=\"white-space:pre;overflow-x:auto;line-height:normal;font-family:Menlo,'DejaVu Sans Mono',consolas,'Courier New',monospace\">00:54:14.420 | <span style=\"color: #008080; text-decoration-color: #008080\">INFO</span>    | Task run 'write_gcs-16' - Getting bucket 'datalake_de-project-230419'.\n",
       "</pre>\n"
      ],
      "text/plain": [
       "00:54:14.420 | \u001b[36mINFO\u001b[0m    | Task run 'write_gcs-16' - Getting bucket 'datalake_de-project-230419'.\n"
      ]
     },
     "metadata": {},
     "output_type": "display_data"
    },
    {
     "data": {
      "text/html": [
       "<pre style=\"white-space:pre;overflow-x:auto;line-height:normal;font-family:Menlo,'DejaVu Sans Mono',consolas,'Courier New',monospace\">00:54:15.104 | <span style=\"color: #008080; text-decoration-color: #008080\">INFO</span>    | Task run 'write_gcs-16' - Uploading from 'data/pq/2021/part-00005-36f555e6-c831-4560-aee1-88a31182e107-c000.snappy.parquet' to the bucket 'datalake_de-project-230419' path 'data/pq/2021/part-00005-36f555e6-c831-4560-aee1-88a31182e107-c000.snappy.parquet'.\n",
       "</pre>\n"
      ],
      "text/plain": [
       "00:54:15.104 | \u001b[36mINFO\u001b[0m    | Task run 'write_gcs-16' - Uploading from 'data/pq/2021/part-00005-36f555e6-c831-4560-aee1-88a31182e107-c000.snappy.parquet' to the bucket 'datalake_de-project-230419' path 'data/pq/2021/part-00005-36f555e6-c831-4560-aee1-88a31182e107-c000.snappy.parquet'.\n"
      ]
     },
     "metadata": {},
     "output_type": "display_data"
    },
    {
     "data": {
      "text/html": [
       "<pre style=\"white-space:pre;overflow-x:auto;line-height:normal;font-family:Menlo,'DejaVu Sans Mono',consolas,'Courier New',monospace\">00:54:18.117 | <span style=\"color: #008080; text-decoration-color: #008080\">INFO</span>    | Task run 'write_gcs-16' - Finished in state <span style=\"color: #008000; text-decoration-color: #008000\">Completed</span>()\n",
       "</pre>\n"
      ],
      "text/plain": [
       "00:54:18.117 | \u001b[36mINFO\u001b[0m    | Task run 'write_gcs-16' - Finished in state \u001b[32mCompleted\u001b[0m()\n"
      ]
     },
     "metadata": {},
     "output_type": "display_data"
    },
    {
     "data": {
      "text/html": [
       "<pre style=\"white-space:pre;overflow-x:auto;line-height:normal;font-family:Menlo,'DejaVu Sans Mono',consolas,'Courier New',monospace\">00:54:18.417 | <span style=\"color: #008080; text-decoration-color: #008080\">INFO</span>    | Flow run<span style=\"color: #800080; text-decoration-color: #800080\"> 'rampant-impala'</span> - Created task run 'write_gcs-17' for task 'write_gcs'\n",
       "</pre>\n"
      ],
      "text/plain": [
       "00:54:18.417 | \u001b[36mINFO\u001b[0m    | Flow run\u001b[35m 'rampant-impala'\u001b[0m - Created task run 'write_gcs-17' for task 'write_gcs'\n"
      ]
     },
     "metadata": {},
     "output_type": "display_data"
    },
    {
     "data": {
      "text/html": [
       "<pre style=\"white-space:pre;overflow-x:auto;line-height:normal;font-family:Menlo,'DejaVu Sans Mono',consolas,'Courier New',monospace\">00:54:18.424 | <span style=\"color: #008080; text-decoration-color: #008080\">INFO</span>    | Flow run<span style=\"color: #800080; text-decoration-color: #800080\"> 'rampant-impala'</span> - Executing 'write_gcs-17' immediately...\n",
       "</pre>\n"
      ],
      "text/plain": [
       "00:54:18.424 | \u001b[36mINFO\u001b[0m    | Flow run\u001b[35m 'rampant-impala'\u001b[0m - Executing 'write_gcs-17' immediately...\n"
      ]
     },
     "metadata": {},
     "output_type": "display_data"
    },
    {
     "data": {
      "text/html": [
       "<pre style=\"white-space:pre;overflow-x:auto;line-height:normal;font-family:Menlo,'DejaVu Sans Mono',consolas,'Courier New',monospace\">00:54:20.664 | <span style=\"color: #008080; text-decoration-color: #008080\">INFO</span>    | Task run 'write_gcs-17' - Getting bucket 'datalake_de-project-230419'.\n",
       "</pre>\n"
      ],
      "text/plain": [
       "00:54:20.664 | \u001b[36mINFO\u001b[0m    | Task run 'write_gcs-17' - Getting bucket 'datalake_de-project-230419'.\n"
      ]
     },
     "metadata": {},
     "output_type": "display_data"
    },
    {
     "data": {
      "text/html": [
       "<pre style=\"white-space:pre;overflow-x:auto;line-height:normal;font-family:Menlo,'DejaVu Sans Mono',consolas,'Courier New',monospace\">00:54:21.321 | <span style=\"color: #008080; text-decoration-color: #008080\">INFO</span>    | Task run 'write_gcs-17' - Uploading from 'data/pq/2021/.part-00015-36f555e6-c831-4560-aee1-88a31182e107-c000.snappy.parquet.crc' to the bucket 'datalake_de-project-230419' path 'data/pq/2021/.part-00015-36f555e6-c831-4560-aee1-88a31182e107-c000.snappy.parquet.crc'.\n",
       "</pre>\n"
      ],
      "text/plain": [
       "00:54:21.321 | \u001b[36mINFO\u001b[0m    | Task run 'write_gcs-17' - Uploading from 'data/pq/2021/.part-00015-36f555e6-c831-4560-aee1-88a31182e107-c000.snappy.parquet.crc' to the bucket 'datalake_de-project-230419' path 'data/pq/2021/.part-00015-36f555e6-c831-4560-aee1-88a31182e107-c000.snappy.parquet.crc'.\n"
      ]
     },
     "metadata": {},
     "output_type": "display_data"
    },
    {
     "data": {
      "text/html": [
       "<pre style=\"white-space:pre;overflow-x:auto;line-height:normal;font-family:Menlo,'DejaVu Sans Mono',consolas,'Courier New',monospace\">00:54:22.658 | <span style=\"color: #008080; text-decoration-color: #008080\">INFO</span>    | Task run 'write_gcs-17' - Finished in state <span style=\"color: #008000; text-decoration-color: #008000\">Completed</span>()\n",
       "</pre>\n"
      ],
      "text/plain": [
       "00:54:22.658 | \u001b[36mINFO\u001b[0m    | Task run 'write_gcs-17' - Finished in state \u001b[32mCompleted\u001b[0m()\n"
      ]
     },
     "metadata": {},
     "output_type": "display_data"
    },
    {
     "data": {
      "text/html": [
       "<pre style=\"white-space:pre;overflow-x:auto;line-height:normal;font-family:Menlo,'DejaVu Sans Mono',consolas,'Courier New',monospace\">00:54:23.016 | <span style=\"color: #008080; text-decoration-color: #008080\">INFO</span>    | Flow run<span style=\"color: #800080; text-decoration-color: #800080\"> 'rampant-impala'</span> - Created task run 'write_gcs-18' for task 'write_gcs'\n",
       "</pre>\n"
      ],
      "text/plain": [
       "00:54:23.016 | \u001b[36mINFO\u001b[0m    | Flow run\u001b[35m 'rampant-impala'\u001b[0m - Created task run 'write_gcs-18' for task 'write_gcs'\n"
      ]
     },
     "metadata": {},
     "output_type": "display_data"
    },
    {
     "data": {
      "text/html": [
       "<pre style=\"white-space:pre;overflow-x:auto;line-height:normal;font-family:Menlo,'DejaVu Sans Mono',consolas,'Courier New',monospace\">00:54:23.026 | <span style=\"color: #008080; text-decoration-color: #008080\">INFO</span>    | Flow run<span style=\"color: #800080; text-decoration-color: #800080\"> 'rampant-impala'</span> - Executing 'write_gcs-18' immediately...\n",
       "</pre>\n"
      ],
      "text/plain": [
       "00:54:23.026 | \u001b[36mINFO\u001b[0m    | Flow run\u001b[35m 'rampant-impala'\u001b[0m - Executing 'write_gcs-18' immediately...\n"
      ]
     },
     "metadata": {},
     "output_type": "display_data"
    },
    {
     "data": {
      "text/html": [
       "<pre style=\"white-space:pre;overflow-x:auto;line-height:normal;font-family:Menlo,'DejaVu Sans Mono',consolas,'Courier New',monospace\">00:54:25.350 | <span style=\"color: #008080; text-decoration-color: #008080\">INFO</span>    | Task run 'write_gcs-18' - Getting bucket 'datalake_de-project-230419'.\n",
       "</pre>\n"
      ],
      "text/plain": [
       "00:54:25.350 | \u001b[36mINFO\u001b[0m    | Task run 'write_gcs-18' - Getting bucket 'datalake_de-project-230419'.\n"
      ]
     },
     "metadata": {},
     "output_type": "display_data"
    },
    {
     "data": {
      "text/html": [
       "<pre style=\"white-space:pre;overflow-x:auto;line-height:normal;font-family:Menlo,'DejaVu Sans Mono',consolas,'Courier New',monospace\">00:54:25.991 | <span style=\"color: #008080; text-decoration-color: #008080\">INFO</span>    | Task run 'write_gcs-18' - Uploading from 'data/pq/2021/part-00011-36f555e6-c831-4560-aee1-88a31182e107-c000.snappy.parquet' to the bucket 'datalake_de-project-230419' path 'data/pq/2021/part-00011-36f555e6-c831-4560-aee1-88a31182e107-c000.snappy.parquet'.\n",
       "</pre>\n"
      ],
      "text/plain": [
       "00:54:25.991 | \u001b[36mINFO\u001b[0m    | Task run 'write_gcs-18' - Uploading from 'data/pq/2021/part-00011-36f555e6-c831-4560-aee1-88a31182e107-c000.snappy.parquet' to the bucket 'datalake_de-project-230419' path 'data/pq/2021/part-00011-36f555e6-c831-4560-aee1-88a31182e107-c000.snappy.parquet'.\n"
      ]
     },
     "metadata": {},
     "output_type": "display_data"
    },
    {
     "data": {
      "text/html": [
       "<pre style=\"white-space:pre;overflow-x:auto;line-height:normal;font-family:Menlo,'DejaVu Sans Mono',consolas,'Courier New',monospace\">00:54:28.717 | <span style=\"color: #008080; text-decoration-color: #008080\">INFO</span>    | Task run 'write_gcs-18' - Finished in state <span style=\"color: #008000; text-decoration-color: #008000\">Completed</span>()\n",
       "</pre>\n"
      ],
      "text/plain": [
       "00:54:28.717 | \u001b[36mINFO\u001b[0m    | Task run 'write_gcs-18' - Finished in state \u001b[32mCompleted\u001b[0m()\n"
      ]
     },
     "metadata": {},
     "output_type": "display_data"
    },
    {
     "data": {
      "text/html": [
       "<pre style=\"white-space:pre;overflow-x:auto;line-height:normal;font-family:Menlo,'DejaVu Sans Mono',consolas,'Courier New',monospace\">00:54:29.086 | <span style=\"color: #008080; text-decoration-color: #008080\">INFO</span>    | Flow run<span style=\"color: #800080; text-decoration-color: #800080\"> 'rampant-impala'</span> - Created task run 'write_gcs-19' for task 'write_gcs'\n",
       "</pre>\n"
      ],
      "text/plain": [
       "00:54:29.086 | \u001b[36mINFO\u001b[0m    | Flow run\u001b[35m 'rampant-impala'\u001b[0m - Created task run 'write_gcs-19' for task 'write_gcs'\n"
      ]
     },
     "metadata": {},
     "output_type": "display_data"
    },
    {
     "data": {
      "text/html": [
       "<pre style=\"white-space:pre;overflow-x:auto;line-height:normal;font-family:Menlo,'DejaVu Sans Mono',consolas,'Courier New',monospace\">00:54:29.091 | <span style=\"color: #008080; text-decoration-color: #008080\">INFO</span>    | Flow run<span style=\"color: #800080; text-decoration-color: #800080\"> 'rampant-impala'</span> - Executing 'write_gcs-19' immediately...\n",
       "</pre>\n"
      ],
      "text/plain": [
       "00:54:29.091 | \u001b[36mINFO\u001b[0m    | Flow run\u001b[35m 'rampant-impala'\u001b[0m - Executing 'write_gcs-19' immediately...\n"
      ]
     },
     "metadata": {},
     "output_type": "display_data"
    },
    {
     "data": {
      "text/html": [
       "<pre style=\"white-space:pre;overflow-x:auto;line-height:normal;font-family:Menlo,'DejaVu Sans Mono',consolas,'Courier New',monospace\">00:54:30.859 | <span style=\"color: #008080; text-decoration-color: #008080\">INFO</span>    | Task run 'write_gcs-19' - Getting bucket 'datalake_de-project-230419'.\n",
       "</pre>\n"
      ],
      "text/plain": [
       "00:54:30.859 | \u001b[36mINFO\u001b[0m    | Task run 'write_gcs-19' - Getting bucket 'datalake_de-project-230419'.\n"
      ]
     },
     "metadata": {},
     "output_type": "display_data"
    },
    {
     "data": {
      "text/html": [
       "<pre style=\"white-space:pre;overflow-x:auto;line-height:normal;font-family:Menlo,'DejaVu Sans Mono',consolas,'Courier New',monospace\">00:54:31.461 | <span style=\"color: #008080; text-decoration-color: #008080\">INFO</span>    | Task run 'write_gcs-19' - Uploading from 'data/pq/2021/.part-00009-36f555e6-c831-4560-aee1-88a31182e107-c000.snappy.parquet.crc' to the bucket 'datalake_de-project-230419' path 'data/pq/2021/.part-00009-36f555e6-c831-4560-aee1-88a31182e107-c000.snappy.parquet.crc'.\n",
       "</pre>\n"
      ],
      "text/plain": [
       "00:54:31.461 | \u001b[36mINFO\u001b[0m    | Task run 'write_gcs-19' - Uploading from 'data/pq/2021/.part-00009-36f555e6-c831-4560-aee1-88a31182e107-c000.snappy.parquet.crc' to the bucket 'datalake_de-project-230419' path 'data/pq/2021/.part-00009-36f555e6-c831-4560-aee1-88a31182e107-c000.snappy.parquet.crc'.\n"
      ]
     },
     "metadata": {},
     "output_type": "display_data"
    },
    {
     "data": {
      "text/html": [
       "<pre style=\"white-space:pre;overflow-x:auto;line-height:normal;font-family:Menlo,'DejaVu Sans Mono',consolas,'Courier New',monospace\">00:54:32.010 | <span style=\"color: #008080; text-decoration-color: #008080\">INFO</span>    | Task run 'write_gcs-19' - Finished in state <span style=\"color: #008000; text-decoration-color: #008000\">Completed</span>()\n",
       "</pre>\n"
      ],
      "text/plain": [
       "00:54:32.010 | \u001b[36mINFO\u001b[0m    | Task run 'write_gcs-19' - Finished in state \u001b[32mCompleted\u001b[0m()\n"
      ]
     },
     "metadata": {},
     "output_type": "display_data"
    },
    {
     "data": {
      "text/html": [
       "<pre style=\"white-space:pre;overflow-x:auto;line-height:normal;font-family:Menlo,'DejaVu Sans Mono',consolas,'Courier New',monospace\">00:54:32.390 | <span style=\"color: #008080; text-decoration-color: #008080\">INFO</span>    | Flow run<span style=\"color: #800080; text-decoration-color: #800080\"> 'rampant-impala'</span> - Created task run 'write_gcs-20' for task 'write_gcs'\n",
       "</pre>\n"
      ],
      "text/plain": [
       "00:54:32.390 | \u001b[36mINFO\u001b[0m    | Flow run\u001b[35m 'rampant-impala'\u001b[0m - Created task run 'write_gcs-20' for task 'write_gcs'\n"
      ]
     },
     "metadata": {},
     "output_type": "display_data"
    },
    {
     "data": {
      "text/html": [
       "<pre style=\"white-space:pre;overflow-x:auto;line-height:normal;font-family:Menlo,'DejaVu Sans Mono',consolas,'Courier New',monospace\">00:54:32.394 | <span style=\"color: #008080; text-decoration-color: #008080\">INFO</span>    | Flow run<span style=\"color: #800080; text-decoration-color: #800080\"> 'rampant-impala'</span> - Executing 'write_gcs-20' immediately...\n",
       "</pre>\n"
      ],
      "text/plain": [
       "00:54:32.394 | \u001b[36mINFO\u001b[0m    | Flow run\u001b[35m 'rampant-impala'\u001b[0m - Executing 'write_gcs-20' immediately...\n"
      ]
     },
     "metadata": {},
     "output_type": "display_data"
    },
    {
     "data": {
      "text/html": [
       "<pre style=\"white-space:pre;overflow-x:auto;line-height:normal;font-family:Menlo,'DejaVu Sans Mono',consolas,'Courier New',monospace\">00:54:34.085 | <span style=\"color: #008080; text-decoration-color: #008080\">INFO</span>    | Task run 'write_gcs-20' - Getting bucket 'datalake_de-project-230419'.\n",
       "</pre>\n"
      ],
      "text/plain": [
       "00:54:34.085 | \u001b[36mINFO\u001b[0m    | Task run 'write_gcs-20' - Getting bucket 'datalake_de-project-230419'.\n"
      ]
     },
     "metadata": {},
     "output_type": "display_data"
    },
    {
     "data": {
      "text/html": [
       "<pre style=\"white-space:pre;overflow-x:auto;line-height:normal;font-family:Menlo,'DejaVu Sans Mono',consolas,'Courier New',monospace\">00:54:34.524 | <span style=\"color: #008080; text-decoration-color: #008080\">INFO</span>    | Task run 'write_gcs-20' - Uploading from 'data/pq/2021/part-00012-36f555e6-c831-4560-aee1-88a31182e107-c000.snappy.parquet' to the bucket 'datalake_de-project-230419' path 'data/pq/2021/part-00012-36f555e6-c831-4560-aee1-88a31182e107-c000.snappy.parquet'.\n",
       "</pre>\n"
      ],
      "text/plain": [
       "00:54:34.524 | \u001b[36mINFO\u001b[0m    | Task run 'write_gcs-20' - Uploading from 'data/pq/2021/part-00012-36f555e6-c831-4560-aee1-88a31182e107-c000.snappy.parquet' to the bucket 'datalake_de-project-230419' path 'data/pq/2021/part-00012-36f555e6-c831-4560-aee1-88a31182e107-c000.snappy.parquet'.\n"
      ]
     },
     "metadata": {},
     "output_type": "display_data"
    },
    {
     "data": {
      "text/html": [
       "<pre style=\"white-space:pre;overflow-x:auto;line-height:normal;font-family:Menlo,'DejaVu Sans Mono',consolas,'Courier New',monospace\">00:54:37.084 | <span style=\"color: #008080; text-decoration-color: #008080\">INFO</span>    | Task run 'write_gcs-20' - Finished in state <span style=\"color: #008000; text-decoration-color: #008000\">Completed</span>()\n",
       "</pre>\n"
      ],
      "text/plain": [
       "00:54:37.084 | \u001b[36mINFO\u001b[0m    | Task run 'write_gcs-20' - Finished in state \u001b[32mCompleted\u001b[0m()\n"
      ]
     },
     "metadata": {},
     "output_type": "display_data"
    },
    {
     "data": {
      "text/html": [
       "<pre style=\"white-space:pre;overflow-x:auto;line-height:normal;font-family:Menlo,'DejaVu Sans Mono',consolas,'Courier New',monospace\">00:54:37.420 | <span style=\"color: #008080; text-decoration-color: #008080\">INFO</span>    | Flow run<span style=\"color: #800080; text-decoration-color: #800080\"> 'rampant-impala'</span> - Created task run 'write_gcs-21' for task 'write_gcs'\n",
       "</pre>\n"
      ],
      "text/plain": [
       "00:54:37.420 | \u001b[36mINFO\u001b[0m    | Flow run\u001b[35m 'rampant-impala'\u001b[0m - Created task run 'write_gcs-21' for task 'write_gcs'\n"
      ]
     },
     "metadata": {},
     "output_type": "display_data"
    },
    {
     "data": {
      "text/html": [
       "<pre style=\"white-space:pre;overflow-x:auto;line-height:normal;font-family:Menlo,'DejaVu Sans Mono',consolas,'Courier New',monospace\">00:54:37.431 | <span style=\"color: #008080; text-decoration-color: #008080\">INFO</span>    | Flow run<span style=\"color: #800080; text-decoration-color: #800080\"> 'rampant-impala'</span> - Executing 'write_gcs-21' immediately...\n",
       "</pre>\n"
      ],
      "text/plain": [
       "00:54:37.431 | \u001b[36mINFO\u001b[0m    | Flow run\u001b[35m 'rampant-impala'\u001b[0m - Executing 'write_gcs-21' immediately...\n"
      ]
     },
     "metadata": {},
     "output_type": "display_data"
    },
    {
     "data": {
      "text/html": [
       "<pre style=\"white-space:pre;overflow-x:auto;line-height:normal;font-family:Menlo,'DejaVu Sans Mono',consolas,'Courier New',monospace\">00:54:39.068 | <span style=\"color: #008080; text-decoration-color: #008080\">INFO</span>    | Task run 'write_gcs-21' - Getting bucket 'datalake_de-project-230419'.\n",
       "</pre>\n"
      ],
      "text/plain": [
       "00:54:39.068 | \u001b[36mINFO\u001b[0m    | Task run 'write_gcs-21' - Getting bucket 'datalake_de-project-230419'.\n"
      ]
     },
     "metadata": {},
     "output_type": "display_data"
    },
    {
     "data": {
      "text/html": [
       "<pre style=\"white-space:pre;overflow-x:auto;line-height:normal;font-family:Menlo,'DejaVu Sans Mono',consolas,'Courier New',monospace\">00:54:39.673 | <span style=\"color: #008080; text-decoration-color: #008080\">INFO</span>    | Task run 'write_gcs-21' - Uploading from 'data/pq/2021/part-00016-36f555e6-c831-4560-aee1-88a31182e107-c000.snappy.parquet' to the bucket 'datalake_de-project-230419' path 'data/pq/2021/part-00016-36f555e6-c831-4560-aee1-88a31182e107-c000.snappy.parquet'.\n",
       "</pre>\n"
      ],
      "text/plain": [
       "00:54:39.673 | \u001b[36mINFO\u001b[0m    | Task run 'write_gcs-21' - Uploading from 'data/pq/2021/part-00016-36f555e6-c831-4560-aee1-88a31182e107-c000.snappy.parquet' to the bucket 'datalake_de-project-230419' path 'data/pq/2021/part-00016-36f555e6-c831-4560-aee1-88a31182e107-c000.snappy.parquet'.\n"
      ]
     },
     "metadata": {},
     "output_type": "display_data"
    },
    {
     "data": {
      "text/html": [
       "<pre style=\"white-space:pre;overflow-x:auto;line-height:normal;font-family:Menlo,'DejaVu Sans Mono',consolas,'Courier New',monospace\">00:54:42.513 | <span style=\"color: #008080; text-decoration-color: #008080\">INFO</span>    | Task run 'write_gcs-21' - Finished in state <span style=\"color: #008000; text-decoration-color: #008000\">Completed</span>()\n",
       "</pre>\n"
      ],
      "text/plain": [
       "00:54:42.513 | \u001b[36mINFO\u001b[0m    | Task run 'write_gcs-21' - Finished in state \u001b[32mCompleted\u001b[0m()\n"
      ]
     },
     "metadata": {},
     "output_type": "display_data"
    },
    {
     "data": {
      "text/html": [
       "<pre style=\"white-space:pre;overflow-x:auto;line-height:normal;font-family:Menlo,'DejaVu Sans Mono',consolas,'Courier New',monospace\">00:54:42.951 | <span style=\"color: #008080; text-decoration-color: #008080\">INFO</span>    | Flow run<span style=\"color: #800080; text-decoration-color: #800080\"> 'rampant-impala'</span> - Created task run 'write_gcs-22' for task 'write_gcs'\n",
       "</pre>\n"
      ],
      "text/plain": [
       "00:54:42.951 | \u001b[36mINFO\u001b[0m    | Flow run\u001b[35m 'rampant-impala'\u001b[0m - Created task run 'write_gcs-22' for task 'write_gcs'\n"
      ]
     },
     "metadata": {},
     "output_type": "display_data"
    },
    {
     "data": {
      "text/html": [
       "<pre style=\"white-space:pre;overflow-x:auto;line-height:normal;font-family:Menlo,'DejaVu Sans Mono',consolas,'Courier New',monospace\">00:54:42.959 | <span style=\"color: #008080; text-decoration-color: #008080\">INFO</span>    | Flow run<span style=\"color: #800080; text-decoration-color: #800080\"> 'rampant-impala'</span> - Executing 'write_gcs-22' immediately...\n",
       "</pre>\n"
      ],
      "text/plain": [
       "00:54:42.959 | \u001b[36mINFO\u001b[0m    | Flow run\u001b[35m 'rampant-impala'\u001b[0m - Executing 'write_gcs-22' immediately...\n"
      ]
     },
     "metadata": {},
     "output_type": "display_data"
    },
    {
     "data": {
      "text/html": [
       "<pre style=\"white-space:pre;overflow-x:auto;line-height:normal;font-family:Menlo,'DejaVu Sans Mono',consolas,'Courier New',monospace\">00:54:44.655 | <span style=\"color: #008080; text-decoration-color: #008080\">INFO</span>    | Task run 'write_gcs-22' - Getting bucket 'datalake_de-project-230419'.\n",
       "</pre>\n"
      ],
      "text/plain": [
       "00:54:44.655 | \u001b[36mINFO\u001b[0m    | Task run 'write_gcs-22' - Getting bucket 'datalake_de-project-230419'.\n"
      ]
     },
     "metadata": {},
     "output_type": "display_data"
    },
    {
     "data": {
      "text/html": [
       "<pre style=\"white-space:pre;overflow-x:auto;line-height:normal;font-family:Menlo,'DejaVu Sans Mono',consolas,'Courier New',monospace\">00:54:45.204 | <span style=\"color: #008080; text-decoration-color: #008080\">INFO</span>    | Task run 'write_gcs-22' - Uploading from 'data/pq/2021/.part-00001-36f555e6-c831-4560-aee1-88a31182e107-c000.snappy.parquet.crc' to the bucket 'datalake_de-project-230419' path 'data/pq/2021/.part-00001-36f555e6-c831-4560-aee1-88a31182e107-c000.snappy.parquet.crc'.\n",
       "</pre>\n"
      ],
      "text/plain": [
       "00:54:45.204 | \u001b[36mINFO\u001b[0m    | Task run 'write_gcs-22' - Uploading from 'data/pq/2021/.part-00001-36f555e6-c831-4560-aee1-88a31182e107-c000.snappy.parquet.crc' to the bucket 'datalake_de-project-230419' path 'data/pq/2021/.part-00001-36f555e6-c831-4560-aee1-88a31182e107-c000.snappy.parquet.crc'.\n"
      ]
     },
     "metadata": {},
     "output_type": "display_data"
    },
    {
     "data": {
      "text/html": [
       "<pre style=\"white-space:pre;overflow-x:auto;line-height:normal;font-family:Menlo,'DejaVu Sans Mono',consolas,'Courier New',monospace\">00:54:45.833 | <span style=\"color: #008080; text-decoration-color: #008080\">INFO</span>    | Task run 'write_gcs-22' - Finished in state <span style=\"color: #008000; text-decoration-color: #008000\">Completed</span>()\n",
       "</pre>\n"
      ],
      "text/plain": [
       "00:54:45.833 | \u001b[36mINFO\u001b[0m    | Task run 'write_gcs-22' - Finished in state \u001b[32mCompleted\u001b[0m()\n"
      ]
     },
     "metadata": {},
     "output_type": "display_data"
    },
    {
     "data": {
      "text/html": [
       "<pre style=\"white-space:pre;overflow-x:auto;line-height:normal;font-family:Menlo,'DejaVu Sans Mono',consolas,'Courier New',monospace\">00:54:46.173 | <span style=\"color: #008080; text-decoration-color: #008080\">INFO</span>    | Flow run<span style=\"color: #800080; text-decoration-color: #800080\"> 'rampant-impala'</span> - Created task run 'write_gcs-23' for task 'write_gcs'\n",
       "</pre>\n"
      ],
      "text/plain": [
       "00:54:46.173 | \u001b[36mINFO\u001b[0m    | Flow run\u001b[35m 'rampant-impala'\u001b[0m - Created task run 'write_gcs-23' for task 'write_gcs'\n"
      ]
     },
     "metadata": {},
     "output_type": "display_data"
    },
    {
     "data": {
      "text/html": [
       "<pre style=\"white-space:pre;overflow-x:auto;line-height:normal;font-family:Menlo,'DejaVu Sans Mono',consolas,'Courier New',monospace\">00:54:46.182 | <span style=\"color: #008080; text-decoration-color: #008080\">INFO</span>    | Flow run<span style=\"color: #800080; text-decoration-color: #800080\"> 'rampant-impala'</span> - Executing 'write_gcs-23' immediately...\n",
       "</pre>\n"
      ],
      "text/plain": [
       "00:54:46.182 | \u001b[36mINFO\u001b[0m    | Flow run\u001b[35m 'rampant-impala'\u001b[0m - Executing 'write_gcs-23' immediately...\n"
      ]
     },
     "metadata": {},
     "output_type": "display_data"
    },
    {
     "data": {
      "text/html": [
       "<pre style=\"white-space:pre;overflow-x:auto;line-height:normal;font-family:Menlo,'DejaVu Sans Mono',consolas,'Courier New',monospace\">00:54:47.985 | <span style=\"color: #008080; text-decoration-color: #008080\">INFO</span>    | Task run 'write_gcs-23' - Getting bucket 'datalake_de-project-230419'.\n",
       "</pre>\n"
      ],
      "text/plain": [
       "00:54:47.985 | \u001b[36mINFO\u001b[0m    | Task run 'write_gcs-23' - Getting bucket 'datalake_de-project-230419'.\n"
      ]
     },
     "metadata": {},
     "output_type": "display_data"
    },
    {
     "data": {
      "text/html": [
       "<pre style=\"white-space:pre;overflow-x:auto;line-height:normal;font-family:Menlo,'DejaVu Sans Mono',consolas,'Courier New',monospace\">00:54:48.679 | <span style=\"color: #008080; text-decoration-color: #008080\">INFO</span>    | Task run 'write_gcs-23' - Uploading from 'data/pq/2021/part-00013-36f555e6-c831-4560-aee1-88a31182e107-c000.snappy.parquet' to the bucket 'datalake_de-project-230419' path 'data/pq/2021/part-00013-36f555e6-c831-4560-aee1-88a31182e107-c000.snappy.parquet'.\n",
       "</pre>\n"
      ],
      "text/plain": [
       "00:54:48.679 | \u001b[36mINFO\u001b[0m    | Task run 'write_gcs-23' - Uploading from 'data/pq/2021/part-00013-36f555e6-c831-4560-aee1-88a31182e107-c000.snappy.parquet' to the bucket 'datalake_de-project-230419' path 'data/pq/2021/part-00013-36f555e6-c831-4560-aee1-88a31182e107-c000.snappy.parquet'.\n"
      ]
     },
     "metadata": {},
     "output_type": "display_data"
    },
    {
     "data": {
      "text/html": [
       "<pre style=\"white-space:pre;overflow-x:auto;line-height:normal;font-family:Menlo,'DejaVu Sans Mono',consolas,'Courier New',monospace\">00:54:52.164 | <span style=\"color: #008080; text-decoration-color: #008080\">INFO</span>    | Task run 'write_gcs-23' - Finished in state <span style=\"color: #008000; text-decoration-color: #008000\">Completed</span>()\n",
       "</pre>\n"
      ],
      "text/plain": [
       "00:54:52.164 | \u001b[36mINFO\u001b[0m    | Task run 'write_gcs-23' - Finished in state \u001b[32mCompleted\u001b[0m()\n"
      ]
     },
     "metadata": {},
     "output_type": "display_data"
    },
    {
     "data": {
      "text/html": [
       "<pre style=\"white-space:pre;overflow-x:auto;line-height:normal;font-family:Menlo,'DejaVu Sans Mono',consolas,'Courier New',monospace\">00:54:52.516 | <span style=\"color: #008080; text-decoration-color: #008080\">INFO</span>    | Flow run<span style=\"color: #800080; text-decoration-color: #800080\"> 'rampant-impala'</span> - Created task run 'write_gcs-24' for task 'write_gcs'\n",
       "</pre>\n"
      ],
      "text/plain": [
       "00:54:52.516 | \u001b[36mINFO\u001b[0m    | Flow run\u001b[35m 'rampant-impala'\u001b[0m - Created task run 'write_gcs-24' for task 'write_gcs'\n"
      ]
     },
     "metadata": {},
     "output_type": "display_data"
    },
    {
     "data": {
      "text/html": [
       "<pre style=\"white-space:pre;overflow-x:auto;line-height:normal;font-family:Menlo,'DejaVu Sans Mono',consolas,'Courier New',monospace\">00:54:52.527 | <span style=\"color: #008080; text-decoration-color: #008080\">INFO</span>    | Flow run<span style=\"color: #800080; text-decoration-color: #800080\"> 'rampant-impala'</span> - Executing 'write_gcs-24' immediately...\n",
       "</pre>\n"
      ],
      "text/plain": [
       "00:54:52.527 | \u001b[36mINFO\u001b[0m    | Flow run\u001b[35m 'rampant-impala'\u001b[0m - Executing 'write_gcs-24' immediately...\n"
      ]
     },
     "metadata": {},
     "output_type": "display_data"
    },
    {
     "data": {
      "text/html": [
       "<pre style=\"white-space:pre;overflow-x:auto;line-height:normal;font-family:Menlo,'DejaVu Sans Mono',consolas,'Courier New',monospace\">00:54:54.481 | <span style=\"color: #008080; text-decoration-color: #008080\">INFO</span>    | Task run 'write_gcs-24' - Getting bucket 'datalake_de-project-230419'.\n",
       "</pre>\n"
      ],
      "text/plain": [
       "00:54:54.481 | \u001b[36mINFO\u001b[0m    | Task run 'write_gcs-24' - Getting bucket 'datalake_de-project-230419'.\n"
      ]
     },
     "metadata": {},
     "output_type": "display_data"
    },
    {
     "data": {
      "text/html": [
       "<pre style=\"white-space:pre;overflow-x:auto;line-height:normal;font-family:Menlo,'DejaVu Sans Mono',consolas,'Courier New',monospace\">00:54:55.141 | <span style=\"color: #008080; text-decoration-color: #008080\">INFO</span>    | Task run 'write_gcs-24' - Uploading from 'data/pq/2021/part-00015-36f555e6-c831-4560-aee1-88a31182e107-c000.snappy.parquet' to the bucket 'datalake_de-project-230419' path 'data/pq/2021/part-00015-36f555e6-c831-4560-aee1-88a31182e107-c000.snappy.parquet'.\n",
       "</pre>\n"
      ],
      "text/plain": [
       "00:54:55.141 | \u001b[36mINFO\u001b[0m    | Task run 'write_gcs-24' - Uploading from 'data/pq/2021/part-00015-36f555e6-c831-4560-aee1-88a31182e107-c000.snappy.parquet' to the bucket 'datalake_de-project-230419' path 'data/pq/2021/part-00015-36f555e6-c831-4560-aee1-88a31182e107-c000.snappy.parquet'.\n"
      ]
     },
     "metadata": {},
     "output_type": "display_data"
    },
    {
     "data": {
      "text/html": [
       "<pre style=\"white-space:pre;overflow-x:auto;line-height:normal;font-family:Menlo,'DejaVu Sans Mono',consolas,'Courier New',monospace\">00:54:57.865 | <span style=\"color: #008080; text-decoration-color: #008080\">INFO</span>    | Task run 'write_gcs-24' - Finished in state <span style=\"color: #008000; text-decoration-color: #008000\">Completed</span>()\n",
       "</pre>\n"
      ],
      "text/plain": [
       "00:54:57.865 | \u001b[36mINFO\u001b[0m    | Task run 'write_gcs-24' - Finished in state \u001b[32mCompleted\u001b[0m()\n"
      ]
     },
     "metadata": {},
     "output_type": "display_data"
    },
    {
     "data": {
      "text/html": [
       "<pre style=\"white-space:pre;overflow-x:auto;line-height:normal;font-family:Menlo,'DejaVu Sans Mono',consolas,'Courier New',monospace\">00:54:58.230 | <span style=\"color: #008080; text-decoration-color: #008080\">INFO</span>    | Flow run<span style=\"color: #800080; text-decoration-color: #800080\"> 'rampant-impala'</span> - Created task run 'write_gcs-25' for task 'write_gcs'\n",
       "</pre>\n"
      ],
      "text/plain": [
       "00:54:58.230 | \u001b[36mINFO\u001b[0m    | Flow run\u001b[35m 'rampant-impala'\u001b[0m - Created task run 'write_gcs-25' for task 'write_gcs'\n"
      ]
     },
     "metadata": {},
     "output_type": "display_data"
    },
    {
     "data": {
      "text/html": [
       "<pre style=\"white-space:pre;overflow-x:auto;line-height:normal;font-family:Menlo,'DejaVu Sans Mono',consolas,'Courier New',monospace\">00:54:58.236 | <span style=\"color: #008080; text-decoration-color: #008080\">INFO</span>    | Flow run<span style=\"color: #800080; text-decoration-color: #800080\"> 'rampant-impala'</span> - Executing 'write_gcs-25' immediately...\n",
       "</pre>\n"
      ],
      "text/plain": [
       "00:54:58.236 | \u001b[36mINFO\u001b[0m    | Flow run\u001b[35m 'rampant-impala'\u001b[0m - Executing 'write_gcs-25' immediately...\n"
      ]
     },
     "metadata": {},
     "output_type": "display_data"
    },
    {
     "data": {
      "text/html": [
       "<pre style=\"white-space:pre;overflow-x:auto;line-height:normal;font-family:Menlo,'DejaVu Sans Mono',consolas,'Courier New',monospace\">00:55:00.859 | <span style=\"color: #008080; text-decoration-color: #008080\">INFO</span>    | Task run 'write_gcs-25' - Getting bucket 'datalake_de-project-230419'.\n",
       "</pre>\n"
      ],
      "text/plain": [
       "00:55:00.859 | \u001b[36mINFO\u001b[0m    | Task run 'write_gcs-25' - Getting bucket 'datalake_de-project-230419'.\n"
      ]
     },
     "metadata": {},
     "output_type": "display_data"
    },
    {
     "data": {
      "text/html": [
       "<pre style=\"white-space:pre;overflow-x:auto;line-height:normal;font-family:Menlo,'DejaVu Sans Mono',consolas,'Courier New',monospace\">00:55:01.499 | <span style=\"color: #008080; text-decoration-color: #008080\">INFO</span>    | Task run 'write_gcs-25' - Uploading from 'data/pq/2021/part-00009-36f555e6-c831-4560-aee1-88a31182e107-c000.snappy.parquet' to the bucket 'datalake_de-project-230419' path 'data/pq/2021/part-00009-36f555e6-c831-4560-aee1-88a31182e107-c000.snappy.parquet'.\n",
       "</pre>\n"
      ],
      "text/plain": [
       "00:55:01.499 | \u001b[36mINFO\u001b[0m    | Task run 'write_gcs-25' - Uploading from 'data/pq/2021/part-00009-36f555e6-c831-4560-aee1-88a31182e107-c000.snappy.parquet' to the bucket 'datalake_de-project-230419' path 'data/pq/2021/part-00009-36f555e6-c831-4560-aee1-88a31182e107-c000.snappy.parquet'.\n"
      ]
     },
     "metadata": {},
     "output_type": "display_data"
    },
    {
     "data": {
      "text/html": [
       "<pre style=\"white-space:pre;overflow-x:auto;line-height:normal;font-family:Menlo,'DejaVu Sans Mono',consolas,'Courier New',monospace\">00:55:04.174 | <span style=\"color: #008080; text-decoration-color: #008080\">INFO</span>    | Task run 'write_gcs-25' - Finished in state <span style=\"color: #008000; text-decoration-color: #008000\">Completed</span>()\n",
       "</pre>\n"
      ],
      "text/plain": [
       "00:55:04.174 | \u001b[36mINFO\u001b[0m    | Task run 'write_gcs-25' - Finished in state \u001b[32mCompleted\u001b[0m()\n"
      ]
     },
     "metadata": {},
     "output_type": "display_data"
    },
    {
     "data": {
      "text/html": [
       "<pre style=\"white-space:pre;overflow-x:auto;line-height:normal;font-family:Menlo,'DejaVu Sans Mono',consolas,'Courier New',monospace\">00:55:04.681 | <span style=\"color: #008080; text-decoration-color: #008080\">INFO</span>    | Flow run<span style=\"color: #800080; text-decoration-color: #800080\"> 'rampant-impala'</span> - Created task run 'write_gcs-26' for task 'write_gcs'\n",
       "</pre>\n"
      ],
      "text/plain": [
       "00:55:04.681 | \u001b[36mINFO\u001b[0m    | Flow run\u001b[35m 'rampant-impala'\u001b[0m - Created task run 'write_gcs-26' for task 'write_gcs'\n"
      ]
     },
     "metadata": {},
     "output_type": "display_data"
    },
    {
     "data": {
      "text/html": [
       "<pre style=\"white-space:pre;overflow-x:auto;line-height:normal;font-family:Menlo,'DejaVu Sans Mono',consolas,'Courier New',monospace\">00:55:04.685 | <span style=\"color: #008080; text-decoration-color: #008080\">INFO</span>    | Flow run<span style=\"color: #800080; text-decoration-color: #800080\"> 'rampant-impala'</span> - Executing 'write_gcs-26' immediately...\n",
       "</pre>\n"
      ],
      "text/plain": [
       "00:55:04.685 | \u001b[36mINFO\u001b[0m    | Flow run\u001b[35m 'rampant-impala'\u001b[0m - Executing 'write_gcs-26' immediately...\n"
      ]
     },
     "metadata": {},
     "output_type": "display_data"
    },
    {
     "data": {
      "text/html": [
       "<pre style=\"white-space:pre;overflow-x:auto;line-height:normal;font-family:Menlo,'DejaVu Sans Mono',consolas,'Courier New',monospace\">00:55:06.605 | <span style=\"color: #008080; text-decoration-color: #008080\">INFO</span>    | Task run 'write_gcs-26' - Getting bucket 'datalake_de-project-230419'.\n",
       "</pre>\n"
      ],
      "text/plain": [
       "00:55:06.605 | \u001b[36mINFO\u001b[0m    | Task run 'write_gcs-26' - Getting bucket 'datalake_de-project-230419'.\n"
      ]
     },
     "metadata": {},
     "output_type": "display_data"
    },
    {
     "data": {
      "text/html": [
       "<pre style=\"white-space:pre;overflow-x:auto;line-height:normal;font-family:Menlo,'DejaVu Sans Mono',consolas,'Courier New',monospace\">00:55:07.242 | <span style=\"color: #008080; text-decoration-color: #008080\">INFO</span>    | Task run 'write_gcs-26' - Uploading from 'data/pq/2021/.part-00002-36f555e6-c831-4560-aee1-88a31182e107-c000.snappy.parquet.crc' to the bucket 'datalake_de-project-230419' path 'data/pq/2021/.part-00002-36f555e6-c831-4560-aee1-88a31182e107-c000.snappy.parquet.crc'.\n",
       "</pre>\n"
      ],
      "text/plain": [
       "00:55:07.242 | \u001b[36mINFO\u001b[0m    | Task run 'write_gcs-26' - Uploading from 'data/pq/2021/.part-00002-36f555e6-c831-4560-aee1-88a31182e107-c000.snappy.parquet.crc' to the bucket 'datalake_de-project-230419' path 'data/pq/2021/.part-00002-36f555e6-c831-4560-aee1-88a31182e107-c000.snappy.parquet.crc'.\n"
      ]
     },
     "metadata": {},
     "output_type": "display_data"
    },
    {
     "data": {
      "text/html": [
       "<pre style=\"white-space:pre;overflow-x:auto;line-height:normal;font-family:Menlo,'DejaVu Sans Mono',consolas,'Courier New',monospace\">00:55:07.996 | <span style=\"color: #008080; text-decoration-color: #008080\">INFO</span>    | Task run 'write_gcs-26' - Finished in state <span style=\"color: #008000; text-decoration-color: #008000\">Completed</span>()\n",
       "</pre>\n"
      ],
      "text/plain": [
       "00:55:07.996 | \u001b[36mINFO\u001b[0m    | Task run 'write_gcs-26' - Finished in state \u001b[32mCompleted\u001b[0m()\n"
      ]
     },
     "metadata": {},
     "output_type": "display_data"
    },
    {
     "data": {
      "text/html": [
       "<pre style=\"white-space:pre;overflow-x:auto;line-height:normal;font-family:Menlo,'DejaVu Sans Mono',consolas,'Courier New',monospace\">00:55:08.426 | <span style=\"color: #008080; text-decoration-color: #008080\">INFO</span>    | Flow run<span style=\"color: #800080; text-decoration-color: #800080\"> 'rampant-impala'</span> - Created task run 'write_gcs-27' for task 'write_gcs'\n",
       "</pre>\n"
      ],
      "text/plain": [
       "00:55:08.426 | \u001b[36mINFO\u001b[0m    | Flow run\u001b[35m 'rampant-impala'\u001b[0m - Created task run 'write_gcs-27' for task 'write_gcs'\n"
      ]
     },
     "metadata": {},
     "output_type": "display_data"
    },
    {
     "data": {
      "text/html": [
       "<pre style=\"white-space:pre;overflow-x:auto;line-height:normal;font-family:Menlo,'DejaVu Sans Mono',consolas,'Courier New',monospace\">00:55:08.435 | <span style=\"color: #008080; text-decoration-color: #008080\">INFO</span>    | Flow run<span style=\"color: #800080; text-decoration-color: #800080\"> 'rampant-impala'</span> - Executing 'write_gcs-27' immediately...\n",
       "</pre>\n"
      ],
      "text/plain": [
       "00:55:08.435 | \u001b[36mINFO\u001b[0m    | Flow run\u001b[35m 'rampant-impala'\u001b[0m - Executing 'write_gcs-27' immediately...\n"
      ]
     },
     "metadata": {},
     "output_type": "display_data"
    },
    {
     "data": {
      "text/html": [
       "<pre style=\"white-space:pre;overflow-x:auto;line-height:normal;font-family:Menlo,'DejaVu Sans Mono',consolas,'Courier New',monospace\">00:55:10.930 | <span style=\"color: #008080; text-decoration-color: #008080\">INFO</span>    | Task run 'write_gcs-27' - Getting bucket 'datalake_de-project-230419'.\n",
       "</pre>\n"
      ],
      "text/plain": [
       "00:55:10.930 | \u001b[36mINFO\u001b[0m    | Task run 'write_gcs-27' - Getting bucket 'datalake_de-project-230419'.\n"
      ]
     },
     "metadata": {},
     "output_type": "display_data"
    },
    {
     "data": {
      "text/html": [
       "<pre style=\"white-space:pre;overflow-x:auto;line-height:normal;font-family:Menlo,'DejaVu Sans Mono',consolas,'Courier New',monospace\">00:55:11.522 | <span style=\"color: #008080; text-decoration-color: #008080\">INFO</span>    | Task run 'write_gcs-27' - Uploading from 'data/pq/2021/.part-00016-36f555e6-c831-4560-aee1-88a31182e107-c000.snappy.parquet.crc' to the bucket 'datalake_de-project-230419' path 'data/pq/2021/.part-00016-36f555e6-c831-4560-aee1-88a31182e107-c000.snappy.parquet.crc'.\n",
       "</pre>\n"
      ],
      "text/plain": [
       "00:55:11.522 | \u001b[36mINFO\u001b[0m    | Task run 'write_gcs-27' - Uploading from 'data/pq/2021/.part-00016-36f555e6-c831-4560-aee1-88a31182e107-c000.snappy.parquet.crc' to the bucket 'datalake_de-project-230419' path 'data/pq/2021/.part-00016-36f555e6-c831-4560-aee1-88a31182e107-c000.snappy.parquet.crc'.\n"
      ]
     },
     "metadata": {},
     "output_type": "display_data"
    },
    {
     "data": {
      "text/html": [
       "<pre style=\"white-space:pre;overflow-x:auto;line-height:normal;font-family:Menlo,'DejaVu Sans Mono',consolas,'Courier New',monospace\">00:55:12.101 | <span style=\"color: #008080; text-decoration-color: #008080\">INFO</span>    | Task run 'write_gcs-27' - Finished in state <span style=\"color: #008000; text-decoration-color: #008000\">Completed</span>()\n",
       "</pre>\n"
      ],
      "text/plain": [
       "00:55:12.101 | \u001b[36mINFO\u001b[0m    | Task run 'write_gcs-27' - Finished in state \u001b[32mCompleted\u001b[0m()\n"
      ]
     },
     "metadata": {},
     "output_type": "display_data"
    },
    {
     "data": {
      "text/html": [
       "<pre style=\"white-space:pre;overflow-x:auto;line-height:normal;font-family:Menlo,'DejaVu Sans Mono',consolas,'Courier New',monospace\">00:55:12.569 | <span style=\"color: #008080; text-decoration-color: #008080\">INFO</span>    | Flow run<span style=\"color: #800080; text-decoration-color: #800080\"> 'rampant-impala'</span> - Created task run 'write_gcs-28' for task 'write_gcs'\n",
       "</pre>\n"
      ],
      "text/plain": [
       "00:55:12.569 | \u001b[36mINFO\u001b[0m    | Flow run\u001b[35m 'rampant-impala'\u001b[0m - Created task run 'write_gcs-28' for task 'write_gcs'\n"
      ]
     },
     "metadata": {},
     "output_type": "display_data"
    },
    {
     "data": {
      "text/html": [
       "<pre style=\"white-space:pre;overflow-x:auto;line-height:normal;font-family:Menlo,'DejaVu Sans Mono',consolas,'Courier New',monospace\">00:55:12.588 | <span style=\"color: #008080; text-decoration-color: #008080\">INFO</span>    | Flow run<span style=\"color: #800080; text-decoration-color: #800080\"> 'rampant-impala'</span> - Executing 'write_gcs-28' immediately...\n",
       "</pre>\n"
      ],
      "text/plain": [
       "00:55:12.588 | \u001b[36mINFO\u001b[0m    | Flow run\u001b[35m 'rampant-impala'\u001b[0m - Executing 'write_gcs-28' immediately...\n"
      ]
     },
     "metadata": {},
     "output_type": "display_data"
    },
    {
     "data": {
      "text/html": [
       "<pre style=\"white-space:pre;overflow-x:auto;line-height:normal;font-family:Menlo,'DejaVu Sans Mono',consolas,'Courier New',monospace\">00:55:14.683 | <span style=\"color: #008080; text-decoration-color: #008080\">INFO</span>    | Task run 'write_gcs-28' - Getting bucket 'datalake_de-project-230419'.\n",
       "</pre>\n"
      ],
      "text/plain": [
       "00:55:14.683 | \u001b[36mINFO\u001b[0m    | Task run 'write_gcs-28' - Getting bucket 'datalake_de-project-230419'.\n"
      ]
     },
     "metadata": {},
     "output_type": "display_data"
    },
    {
     "data": {
      "text/html": [
       "<pre style=\"white-space:pre;overflow-x:auto;line-height:normal;font-family:Menlo,'DejaVu Sans Mono',consolas,'Courier New',monospace\">00:55:15.276 | <span style=\"color: #008080; text-decoration-color: #008080\">INFO</span>    | Task run 'write_gcs-28' - Uploading from 'data/pq/2021/._SUCCESS.crc' to the bucket 'datalake_de-project-230419' path 'data/pq/2021/._SUCCESS.crc'.\n",
       "</pre>\n"
      ],
      "text/plain": [
       "00:55:15.276 | \u001b[36mINFO\u001b[0m    | Task run 'write_gcs-28' - Uploading from 'data/pq/2021/._SUCCESS.crc' to the bucket 'datalake_de-project-230419' path 'data/pq/2021/._SUCCESS.crc'.\n"
      ]
     },
     "metadata": {},
     "output_type": "display_data"
    },
    {
     "data": {
      "text/html": [
       "<pre style=\"white-space:pre;overflow-x:auto;line-height:normal;font-family:Menlo,'DejaVu Sans Mono',consolas,'Courier New',monospace\">00:55:16.290 | <span style=\"color: #008080; text-decoration-color: #008080\">INFO</span>    | Task run 'write_gcs-28' - Finished in state <span style=\"color: #008000; text-decoration-color: #008000\">Completed</span>()\n",
       "</pre>\n"
      ],
      "text/plain": [
       "00:55:16.290 | \u001b[36mINFO\u001b[0m    | Task run 'write_gcs-28' - Finished in state \u001b[32mCompleted\u001b[0m()\n"
      ]
     },
     "metadata": {},
     "output_type": "display_data"
    },
    {
     "data": {
      "text/html": [
       "<pre style=\"white-space:pre;overflow-x:auto;line-height:normal;font-family:Menlo,'DejaVu Sans Mono',consolas,'Courier New',monospace\">00:55:17.045 | <span style=\"color: #008080; text-decoration-color: #008080\">INFO</span>    | Flow run<span style=\"color: #800080; text-decoration-color: #800080\"> 'rampant-impala'</span> - Created task run 'write_gcs-29' for task 'write_gcs'\n",
       "</pre>\n"
      ],
      "text/plain": [
       "00:55:17.045 | \u001b[36mINFO\u001b[0m    | Flow run\u001b[35m 'rampant-impala'\u001b[0m - Created task run 'write_gcs-29' for task 'write_gcs'\n"
      ]
     },
     "metadata": {},
     "output_type": "display_data"
    },
    {
     "data": {
      "text/html": [
       "<pre style=\"white-space:pre;overflow-x:auto;line-height:normal;font-family:Menlo,'DejaVu Sans Mono',consolas,'Courier New',monospace\">00:55:17.053 | <span style=\"color: #008080; text-decoration-color: #008080\">INFO</span>    | Flow run<span style=\"color: #800080; text-decoration-color: #800080\"> 'rampant-impala'</span> - Executing 'write_gcs-29' immediately...\n",
       "</pre>\n"
      ],
      "text/plain": [
       "00:55:17.053 | \u001b[36mINFO\u001b[0m    | Flow run\u001b[35m 'rampant-impala'\u001b[0m - Executing 'write_gcs-29' immediately...\n"
      ]
     },
     "metadata": {},
     "output_type": "display_data"
    },
    {
     "data": {
      "text/html": [
       "<pre style=\"white-space:pre;overflow-x:auto;line-height:normal;font-family:Menlo,'DejaVu Sans Mono',consolas,'Courier New',monospace\">00:55:19.309 | <span style=\"color: #008080; text-decoration-color: #008080\">INFO</span>    | Task run 'write_gcs-29' - Getting bucket 'datalake_de-project-230419'.\n",
       "</pre>\n"
      ],
      "text/plain": [
       "00:55:19.309 | \u001b[36mINFO\u001b[0m    | Task run 'write_gcs-29' - Getting bucket 'datalake_de-project-230419'.\n"
      ]
     },
     "metadata": {},
     "output_type": "display_data"
    },
    {
     "data": {
      "text/html": [
       "<pre style=\"white-space:pre;overflow-x:auto;line-height:normal;font-family:Menlo,'DejaVu Sans Mono',consolas,'Courier New',monospace\">00:55:19.730 | <span style=\"color: #008080; text-decoration-color: #008080\">INFO</span>    | Task run 'write_gcs-29' - Uploading from 'data/pq/2021/part-00017-36f555e6-c831-4560-aee1-88a31182e107-c000.snappy.parquet' to the bucket 'datalake_de-project-230419' path 'data/pq/2021/part-00017-36f555e6-c831-4560-aee1-88a31182e107-c000.snappy.parquet'.\n",
       "</pre>\n"
      ],
      "text/plain": [
       "00:55:19.730 | \u001b[36mINFO\u001b[0m    | Task run 'write_gcs-29' - Uploading from 'data/pq/2021/part-00017-36f555e6-c831-4560-aee1-88a31182e107-c000.snappy.parquet' to the bucket 'datalake_de-project-230419' path 'data/pq/2021/part-00017-36f555e6-c831-4560-aee1-88a31182e107-c000.snappy.parquet'.\n"
      ]
     },
     "metadata": {},
     "output_type": "display_data"
    },
    {
     "data": {
      "text/html": [
       "<pre style=\"white-space:pre;overflow-x:auto;line-height:normal;font-family:Menlo,'DejaVu Sans Mono',consolas,'Courier New',monospace\">00:55:23.608 | <span style=\"color: #008080; text-decoration-color: #008080\">INFO</span>    | Task run 'write_gcs-29' - Finished in state <span style=\"color: #008000; text-decoration-color: #008000\">Completed</span>()\n",
       "</pre>\n"
      ],
      "text/plain": [
       "00:55:23.608 | \u001b[36mINFO\u001b[0m    | Task run 'write_gcs-29' - Finished in state \u001b[32mCompleted\u001b[0m()\n"
      ]
     },
     "metadata": {},
     "output_type": "display_data"
    },
    {
     "data": {
      "text/html": [
       "<pre style=\"white-space:pre;overflow-x:auto;line-height:normal;font-family:Menlo,'DejaVu Sans Mono',consolas,'Courier New',monospace\">00:55:23.938 | <span style=\"color: #008080; text-decoration-color: #008080\">INFO</span>    | Flow run<span style=\"color: #800080; text-decoration-color: #800080\"> 'rampant-impala'</span> - Created task run 'write_gcs-30' for task 'write_gcs'\n",
       "</pre>\n"
      ],
      "text/plain": [
       "00:55:23.938 | \u001b[36mINFO\u001b[0m    | Flow run\u001b[35m 'rampant-impala'\u001b[0m - Created task run 'write_gcs-30' for task 'write_gcs'\n"
      ]
     },
     "metadata": {},
     "output_type": "display_data"
    },
    {
     "data": {
      "text/html": [
       "<pre style=\"white-space:pre;overflow-x:auto;line-height:normal;font-family:Menlo,'DejaVu Sans Mono',consolas,'Courier New',monospace\">00:55:23.950 | <span style=\"color: #008080; text-decoration-color: #008080\">INFO</span>    | Flow run<span style=\"color: #800080; text-decoration-color: #800080\"> 'rampant-impala'</span> - Executing 'write_gcs-30' immediately...\n",
       "</pre>\n"
      ],
      "text/plain": [
       "00:55:23.950 | \u001b[36mINFO\u001b[0m    | Flow run\u001b[35m 'rampant-impala'\u001b[0m - Executing 'write_gcs-30' immediately...\n"
      ]
     },
     "metadata": {},
     "output_type": "display_data"
    },
    {
     "data": {
      "text/html": [
       "<pre style=\"white-space:pre;overflow-x:auto;line-height:normal;font-family:Menlo,'DejaVu Sans Mono',consolas,'Courier New',monospace\">00:55:25.571 | <span style=\"color: #008080; text-decoration-color: #008080\">INFO</span>    | Task run 'write_gcs-30' - Getting bucket 'datalake_de-project-230419'.\n",
       "</pre>\n"
      ],
      "text/plain": [
       "00:55:25.571 | \u001b[36mINFO\u001b[0m    | Task run 'write_gcs-30' - Getting bucket 'datalake_de-project-230419'.\n"
      ]
     },
     "metadata": {},
     "output_type": "display_data"
    },
    {
     "data": {
      "text/html": [
       "<pre style=\"white-space:pre;overflow-x:auto;line-height:normal;font-family:Menlo,'DejaVu Sans Mono',consolas,'Courier New',monospace\">00:55:26.174 | <span style=\"color: #008080; text-decoration-color: #008080\">INFO</span>    | Task run 'write_gcs-30' - Uploading from 'data/pq/2021/part-00003-36f555e6-c831-4560-aee1-88a31182e107-c000.snappy.parquet' to the bucket 'datalake_de-project-230419' path 'data/pq/2021/part-00003-36f555e6-c831-4560-aee1-88a31182e107-c000.snappy.parquet'.\n",
       "</pre>\n"
      ],
      "text/plain": [
       "00:55:26.174 | \u001b[36mINFO\u001b[0m    | Task run 'write_gcs-30' - Uploading from 'data/pq/2021/part-00003-36f555e6-c831-4560-aee1-88a31182e107-c000.snappy.parquet' to the bucket 'datalake_de-project-230419' path 'data/pq/2021/part-00003-36f555e6-c831-4560-aee1-88a31182e107-c000.snappy.parquet'.\n"
      ]
     },
     "metadata": {},
     "output_type": "display_data"
    },
    {
     "data": {
      "text/html": [
       "<pre style=\"white-space:pre;overflow-x:auto;line-height:normal;font-family:Menlo,'DejaVu Sans Mono',consolas,'Courier New',monospace\">00:55:29.161 | <span style=\"color: #008080; text-decoration-color: #008080\">INFO</span>    | Task run 'write_gcs-30' - Finished in state <span style=\"color: #008000; text-decoration-color: #008000\">Completed</span>()\n",
       "</pre>\n"
      ],
      "text/plain": [
       "00:55:29.161 | \u001b[36mINFO\u001b[0m    | Task run 'write_gcs-30' - Finished in state \u001b[32mCompleted\u001b[0m()\n"
      ]
     },
     "metadata": {},
     "output_type": "display_data"
    },
    {
     "data": {
      "text/html": [
       "<pre style=\"white-space:pre;overflow-x:auto;line-height:normal;font-family:Menlo,'DejaVu Sans Mono',consolas,'Courier New',monospace\">00:55:29.588 | <span style=\"color: #008080; text-decoration-color: #008080\">INFO</span>    | Flow run<span style=\"color: #800080; text-decoration-color: #800080\"> 'rampant-impala'</span> - Created task run 'write_gcs-31' for task 'write_gcs'\n",
       "</pre>\n"
      ],
      "text/plain": [
       "00:55:29.588 | \u001b[36mINFO\u001b[0m    | Flow run\u001b[35m 'rampant-impala'\u001b[0m - Created task run 'write_gcs-31' for task 'write_gcs'\n"
      ]
     },
     "metadata": {},
     "output_type": "display_data"
    },
    {
     "data": {
      "text/html": [
       "<pre style=\"white-space:pre;overflow-x:auto;line-height:normal;font-family:Menlo,'DejaVu Sans Mono',consolas,'Courier New',monospace\">00:55:29.598 | <span style=\"color: #008080; text-decoration-color: #008080\">INFO</span>    | Flow run<span style=\"color: #800080; text-decoration-color: #800080\"> 'rampant-impala'</span> - Executing 'write_gcs-31' immediately...\n",
       "</pre>\n"
      ],
      "text/plain": [
       "00:55:29.598 | \u001b[36mINFO\u001b[0m    | Flow run\u001b[35m 'rampant-impala'\u001b[0m - Executing 'write_gcs-31' immediately...\n"
      ]
     },
     "metadata": {},
     "output_type": "display_data"
    },
    {
     "data": {
      "text/html": [
       "<pre style=\"white-space:pre;overflow-x:auto;line-height:normal;font-family:Menlo,'DejaVu Sans Mono',consolas,'Courier New',monospace\">00:55:33.109 | <span style=\"color: #008080; text-decoration-color: #008080\">INFO</span>    | Task run 'write_gcs-31' - Getting bucket 'datalake_de-project-230419'.\n",
       "</pre>\n"
      ],
      "text/plain": [
       "00:55:33.109 | \u001b[36mINFO\u001b[0m    | Task run 'write_gcs-31' - Getting bucket 'datalake_de-project-230419'.\n"
      ]
     },
     "metadata": {},
     "output_type": "display_data"
    },
    {
     "data": {
      "text/html": [
       "<pre style=\"white-space:pre;overflow-x:auto;line-height:normal;font-family:Menlo,'DejaVu Sans Mono',consolas,'Courier New',monospace\">00:55:33.648 | <span style=\"color: #008080; text-decoration-color: #008080\">INFO</span>    | Task run 'write_gcs-31' - Uploading from 'data/pq/2021/part-00001-36f555e6-c831-4560-aee1-88a31182e107-c000.snappy.parquet' to the bucket 'datalake_de-project-230419' path 'data/pq/2021/part-00001-36f555e6-c831-4560-aee1-88a31182e107-c000.snappy.parquet'.\n",
       "</pre>\n"
      ],
      "text/plain": [
       "00:55:33.648 | \u001b[36mINFO\u001b[0m    | Task run 'write_gcs-31' - Uploading from 'data/pq/2021/part-00001-36f555e6-c831-4560-aee1-88a31182e107-c000.snappy.parquet' to the bucket 'datalake_de-project-230419' path 'data/pq/2021/part-00001-36f555e6-c831-4560-aee1-88a31182e107-c000.snappy.parquet'.\n"
      ]
     },
     "metadata": {},
     "output_type": "display_data"
    },
    {
     "data": {
      "text/html": [
       "<pre style=\"white-space:pre;overflow-x:auto;line-height:normal;font-family:Menlo,'DejaVu Sans Mono',consolas,'Courier New',monospace\">00:55:36.290 | <span style=\"color: #008080; text-decoration-color: #008080\">INFO</span>    | Task run 'write_gcs-31' - Finished in state <span style=\"color: #008000; text-decoration-color: #008000\">Completed</span>()\n",
       "</pre>\n"
      ],
      "text/plain": [
       "00:55:36.290 | \u001b[36mINFO\u001b[0m    | Task run 'write_gcs-31' - Finished in state \u001b[32mCompleted\u001b[0m()\n"
      ]
     },
     "metadata": {},
     "output_type": "display_data"
    },
    {
     "data": {
      "text/html": [
       "<pre style=\"white-space:pre;overflow-x:auto;line-height:normal;font-family:Menlo,'DejaVu Sans Mono',consolas,'Courier New',monospace\">00:55:37.072 | <span style=\"color: #008080; text-decoration-color: #008080\">INFO</span>    | Flow run<span style=\"color: #800080; text-decoration-color: #800080\"> 'rampant-impala'</span> - Created task run 'write_gcs-32' for task 'write_gcs'\n",
       "</pre>\n"
      ],
      "text/plain": [
       "00:55:37.072 | \u001b[36mINFO\u001b[0m    | Flow run\u001b[35m 'rampant-impala'\u001b[0m - Created task run 'write_gcs-32' for task 'write_gcs'\n"
      ]
     },
     "metadata": {},
     "output_type": "display_data"
    },
    {
     "data": {
      "text/html": [
       "<pre style=\"white-space:pre;overflow-x:auto;line-height:normal;font-family:Menlo,'DejaVu Sans Mono',consolas,'Courier New',monospace\">00:55:37.082 | <span style=\"color: #008080; text-decoration-color: #008080\">INFO</span>    | Flow run<span style=\"color: #800080; text-decoration-color: #800080\"> 'rampant-impala'</span> - Executing 'write_gcs-32' immediately...\n",
       "</pre>\n"
      ],
      "text/plain": [
       "00:55:37.082 | \u001b[36mINFO\u001b[0m    | Flow run\u001b[35m 'rampant-impala'\u001b[0m - Executing 'write_gcs-32' immediately...\n"
      ]
     },
     "metadata": {},
     "output_type": "display_data"
    },
    {
     "data": {
      "text/html": [
       "<pre style=\"white-space:pre;overflow-x:auto;line-height:normal;font-family:Menlo,'DejaVu Sans Mono',consolas,'Courier New',monospace\">00:55:44.496 | <span style=\"color: #008080; text-decoration-color: #008080\">INFO</span>    | Task run 'write_gcs-32' - Getting bucket 'datalake_de-project-230419'.\n",
       "</pre>\n"
      ],
      "text/plain": [
       "00:55:44.496 | \u001b[36mINFO\u001b[0m    | Task run 'write_gcs-32' - Getting bucket 'datalake_de-project-230419'.\n"
      ]
     },
     "metadata": {},
     "output_type": "display_data"
    },
    {
     "data": {
      "text/html": [
       "<pre style=\"white-space:pre;overflow-x:auto;line-height:normal;font-family:Menlo,'DejaVu Sans Mono',consolas,'Courier New',monospace\">00:55:45.085 | <span style=\"color: #008080; text-decoration-color: #008080\">INFO</span>    | Task run 'write_gcs-32' - Uploading from 'data/pq/2021/.part-00019-36f555e6-c831-4560-aee1-88a31182e107-c000.snappy.parquet.crc' to the bucket 'datalake_de-project-230419' path 'data/pq/2021/.part-00019-36f555e6-c831-4560-aee1-88a31182e107-c000.snappy.parquet.crc'.\n",
       "</pre>\n"
      ],
      "text/plain": [
       "00:55:45.085 | \u001b[36mINFO\u001b[0m    | Task run 'write_gcs-32' - Uploading from 'data/pq/2021/.part-00019-36f555e6-c831-4560-aee1-88a31182e107-c000.snappy.parquet.crc' to the bucket 'datalake_de-project-230419' path 'data/pq/2021/.part-00019-36f555e6-c831-4560-aee1-88a31182e107-c000.snappy.parquet.crc'.\n"
      ]
     },
     "metadata": {},
     "output_type": "display_data"
    },
    {
     "data": {
      "text/html": [
       "<pre style=\"white-space:pre;overflow-x:auto;line-height:normal;font-family:Menlo,'DejaVu Sans Mono',consolas,'Courier New',monospace\">00:55:45.706 | <span style=\"color: #008080; text-decoration-color: #008080\">INFO</span>    | Task run 'write_gcs-32' - Finished in state <span style=\"color: #008000; text-decoration-color: #008000\">Completed</span>()\n",
       "</pre>\n"
      ],
      "text/plain": [
       "00:55:45.706 | \u001b[36mINFO\u001b[0m    | Task run 'write_gcs-32' - Finished in state \u001b[32mCompleted\u001b[0m()\n"
      ]
     },
     "metadata": {},
     "output_type": "display_data"
    },
    {
     "data": {
      "text/html": [
       "<pre style=\"white-space:pre;overflow-x:auto;line-height:normal;font-family:Menlo,'DejaVu Sans Mono',consolas,'Courier New',monospace\">00:55:46.091 | <span style=\"color: #008080; text-decoration-color: #008080\">INFO</span>    | Flow run<span style=\"color: #800080; text-decoration-color: #800080\"> 'rampant-impala'</span> - Created task run 'write_gcs-33' for task 'write_gcs'\n",
       "</pre>\n"
      ],
      "text/plain": [
       "00:55:46.091 | \u001b[36mINFO\u001b[0m    | Flow run\u001b[35m 'rampant-impala'\u001b[0m - Created task run 'write_gcs-33' for task 'write_gcs'\n"
      ]
     },
     "metadata": {},
     "output_type": "display_data"
    },
    {
     "data": {
      "text/html": [
       "<pre style=\"white-space:pre;overflow-x:auto;line-height:normal;font-family:Menlo,'DejaVu Sans Mono',consolas,'Courier New',monospace\">00:55:46.099 | <span style=\"color: #008080; text-decoration-color: #008080\">INFO</span>    | Flow run<span style=\"color: #800080; text-decoration-color: #800080\"> 'rampant-impala'</span> - Executing 'write_gcs-33' immediately...\n",
       "</pre>\n"
      ],
      "text/plain": [
       "00:55:46.099 | \u001b[36mINFO\u001b[0m    | Flow run\u001b[35m 'rampant-impala'\u001b[0m - Executing 'write_gcs-33' immediately...\n"
      ]
     },
     "metadata": {},
     "output_type": "display_data"
    },
    {
     "data": {
      "text/html": [
       "<pre style=\"white-space:pre;overflow-x:auto;line-height:normal;font-family:Menlo,'DejaVu Sans Mono',consolas,'Courier New',monospace\">00:55:47.451 | <span style=\"color: #008080; text-decoration-color: #008080\">INFO</span>    | Task run 'write_gcs-33' - Getting bucket 'datalake_de-project-230419'.\n",
       "</pre>\n"
      ],
      "text/plain": [
       "00:55:47.451 | \u001b[36mINFO\u001b[0m    | Task run 'write_gcs-33' - Getting bucket 'datalake_de-project-230419'.\n"
      ]
     },
     "metadata": {},
     "output_type": "display_data"
    },
    {
     "data": {
      "text/html": [
       "<pre style=\"white-space:pre;overflow-x:auto;line-height:normal;font-family:Menlo,'DejaVu Sans Mono',consolas,'Courier New',monospace\">00:55:47.920 | <span style=\"color: #008080; text-decoration-color: #008080\">INFO</span>    | Task run 'write_gcs-33' - Uploading from 'data/pq/2021/.part-00008-36f555e6-c831-4560-aee1-88a31182e107-c000.snappy.parquet.crc' to the bucket 'datalake_de-project-230419' path 'data/pq/2021/.part-00008-36f555e6-c831-4560-aee1-88a31182e107-c000.snappy.parquet.crc'.\n",
       "</pre>\n"
      ],
      "text/plain": [
       "00:55:47.920 | \u001b[36mINFO\u001b[0m    | Task run 'write_gcs-33' - Uploading from 'data/pq/2021/.part-00008-36f555e6-c831-4560-aee1-88a31182e107-c000.snappy.parquet.crc' to the bucket 'datalake_de-project-230419' path 'data/pq/2021/.part-00008-36f555e6-c831-4560-aee1-88a31182e107-c000.snappy.parquet.crc'.\n"
      ]
     },
     "metadata": {},
     "output_type": "display_data"
    },
    {
     "data": {
      "text/html": [
       "<pre style=\"white-space:pre;overflow-x:auto;line-height:normal;font-family:Menlo,'DejaVu Sans Mono',consolas,'Courier New',monospace\">00:55:48.497 | <span style=\"color: #008080; text-decoration-color: #008080\">INFO</span>    | Task run 'write_gcs-33' - Finished in state <span style=\"color: #008000; text-decoration-color: #008000\">Completed</span>()\n",
       "</pre>\n"
      ],
      "text/plain": [
       "00:55:48.497 | \u001b[36mINFO\u001b[0m    | Task run 'write_gcs-33' - Finished in state \u001b[32mCompleted\u001b[0m()\n"
      ]
     },
     "metadata": {},
     "output_type": "display_data"
    },
    {
     "data": {
      "text/html": [
       "<pre style=\"white-space:pre;overflow-x:auto;line-height:normal;font-family:Menlo,'DejaVu Sans Mono',consolas,'Courier New',monospace\">00:55:48.933 | <span style=\"color: #008080; text-decoration-color: #008080\">INFO</span>    | Flow run<span style=\"color: #800080; text-decoration-color: #800080\"> 'rampant-impala'</span> - Created task run 'write_gcs-34' for task 'write_gcs'\n",
       "</pre>\n"
      ],
      "text/plain": [
       "00:55:48.933 | \u001b[36mINFO\u001b[0m    | Flow run\u001b[35m 'rampant-impala'\u001b[0m - Created task run 'write_gcs-34' for task 'write_gcs'\n"
      ]
     },
     "metadata": {},
     "output_type": "display_data"
    },
    {
     "data": {
      "text/html": [
       "<pre style=\"white-space:pre;overflow-x:auto;line-height:normal;font-family:Menlo,'DejaVu Sans Mono',consolas,'Courier New',monospace\">00:55:48.939 | <span style=\"color: #008080; text-decoration-color: #008080\">INFO</span>    | Flow run<span style=\"color: #800080; text-decoration-color: #800080\"> 'rampant-impala'</span> - Executing 'write_gcs-34' immediately...\n",
       "</pre>\n"
      ],
      "text/plain": [
       "00:55:48.939 | \u001b[36mINFO\u001b[0m    | Flow run\u001b[35m 'rampant-impala'\u001b[0m - Executing 'write_gcs-34' immediately...\n"
      ]
     },
     "metadata": {},
     "output_type": "display_data"
    },
    {
     "data": {
      "text/html": [
       "<pre style=\"white-space:pre;overflow-x:auto;line-height:normal;font-family:Menlo,'DejaVu Sans Mono',consolas,'Courier New',monospace\">00:55:50.797 | <span style=\"color: #008080; text-decoration-color: #008080\">INFO</span>    | Task run 'write_gcs-34' - Getting bucket 'datalake_de-project-230419'.\n",
       "</pre>\n"
      ],
      "text/plain": [
       "00:55:50.797 | \u001b[36mINFO\u001b[0m    | Task run 'write_gcs-34' - Getting bucket 'datalake_de-project-230419'.\n"
      ]
     },
     "metadata": {},
     "output_type": "display_data"
    },
    {
     "data": {
      "text/html": [
       "<pre style=\"white-space:pre;overflow-x:auto;line-height:normal;font-family:Menlo,'DejaVu Sans Mono',consolas,'Courier New',monospace\">00:55:51.360 | <span style=\"color: #008080; text-decoration-color: #008080\">INFO</span>    | Task run 'write_gcs-34' - Uploading from 'data/pq/2021/.part-00014-36f555e6-c831-4560-aee1-88a31182e107-c000.snappy.parquet.crc' to the bucket 'datalake_de-project-230419' path 'data/pq/2021/.part-00014-36f555e6-c831-4560-aee1-88a31182e107-c000.snappy.parquet.crc'.\n",
       "</pre>\n"
      ],
      "text/plain": [
       "00:55:51.360 | \u001b[36mINFO\u001b[0m    | Task run 'write_gcs-34' - Uploading from 'data/pq/2021/.part-00014-36f555e6-c831-4560-aee1-88a31182e107-c000.snappy.parquet.crc' to the bucket 'datalake_de-project-230419' path 'data/pq/2021/.part-00014-36f555e6-c831-4560-aee1-88a31182e107-c000.snappy.parquet.crc'.\n"
      ]
     },
     "metadata": {},
     "output_type": "display_data"
    },
    {
     "data": {
      "text/html": [
       "<pre style=\"white-space:pre;overflow-x:auto;line-height:normal;font-family:Menlo,'DejaVu Sans Mono',consolas,'Courier New',monospace\">00:55:51.931 | <span style=\"color: #008080; text-decoration-color: #008080\">INFO</span>    | Task run 'write_gcs-34' - Finished in state <span style=\"color: #008000; text-decoration-color: #008000\">Completed</span>()\n",
       "</pre>\n"
      ],
      "text/plain": [
       "00:55:51.931 | \u001b[36mINFO\u001b[0m    | Task run 'write_gcs-34' - Finished in state \u001b[32mCompleted\u001b[0m()\n"
      ]
     },
     "metadata": {},
     "output_type": "display_data"
    },
    {
     "data": {
      "text/html": [
       "<pre style=\"white-space:pre;overflow-x:auto;line-height:normal;font-family:Menlo,'DejaVu Sans Mono',consolas,'Courier New',monospace\">00:55:52.310 | <span style=\"color: #008080; text-decoration-color: #008080\">INFO</span>    | Flow run<span style=\"color: #800080; text-decoration-color: #800080\"> 'rampant-impala'</span> - Created task run 'write_gcs-35' for task 'write_gcs'\n",
       "</pre>\n"
      ],
      "text/plain": [
       "00:55:52.310 | \u001b[36mINFO\u001b[0m    | Flow run\u001b[35m 'rampant-impala'\u001b[0m - Created task run 'write_gcs-35' for task 'write_gcs'\n"
      ]
     },
     "metadata": {},
     "output_type": "display_data"
    },
    {
     "data": {
      "text/html": [
       "<pre style=\"white-space:pre;overflow-x:auto;line-height:normal;font-family:Menlo,'DejaVu Sans Mono',consolas,'Courier New',monospace\">00:55:52.324 | <span style=\"color: #008080; text-decoration-color: #008080\">INFO</span>    | Flow run<span style=\"color: #800080; text-decoration-color: #800080\"> 'rampant-impala'</span> - Executing 'write_gcs-35' immediately...\n",
       "</pre>\n"
      ],
      "text/plain": [
       "00:55:52.324 | \u001b[36mINFO\u001b[0m    | Flow run\u001b[35m 'rampant-impala'\u001b[0m - Executing 'write_gcs-35' immediately...\n"
      ]
     },
     "metadata": {},
     "output_type": "display_data"
    },
    {
     "data": {
      "text/html": [
       "<pre style=\"white-space:pre;overflow-x:auto;line-height:normal;font-family:Menlo,'DejaVu Sans Mono',consolas,'Courier New',monospace\">00:55:54.681 | <span style=\"color: #008080; text-decoration-color: #008080\">INFO</span>    | Task run 'write_gcs-35' - Getting bucket 'datalake_de-project-230419'.\n",
       "</pre>\n"
      ],
      "text/plain": [
       "00:55:54.681 | \u001b[36mINFO\u001b[0m    | Task run 'write_gcs-35' - Getting bucket 'datalake_de-project-230419'.\n"
      ]
     },
     "metadata": {},
     "output_type": "display_data"
    },
    {
     "data": {
      "text/html": [
       "<pre style=\"white-space:pre;overflow-x:auto;line-height:normal;font-family:Menlo,'DejaVu Sans Mono',consolas,'Courier New',monospace\">00:55:55.297 | <span style=\"color: #008080; text-decoration-color: #008080\">INFO</span>    | Task run 'write_gcs-35' - Uploading from 'data/pq/2021/part-00010-36f555e6-c831-4560-aee1-88a31182e107-c000.snappy.parquet' to the bucket 'datalake_de-project-230419' path 'data/pq/2021/part-00010-36f555e6-c831-4560-aee1-88a31182e107-c000.snappy.parquet'.\n",
       "</pre>\n"
      ],
      "text/plain": [
       "00:55:55.297 | \u001b[36mINFO\u001b[0m    | Task run 'write_gcs-35' - Uploading from 'data/pq/2021/part-00010-36f555e6-c831-4560-aee1-88a31182e107-c000.snappy.parquet' to the bucket 'datalake_de-project-230419' path 'data/pq/2021/part-00010-36f555e6-c831-4560-aee1-88a31182e107-c000.snappy.parquet'.\n"
      ]
     },
     "metadata": {},
     "output_type": "display_data"
    },
    {
     "data": {
      "text/html": [
       "<pre style=\"white-space:pre;overflow-x:auto;line-height:normal;font-family:Menlo,'DejaVu Sans Mono',consolas,'Courier New',monospace\">00:55:58.203 | <span style=\"color: #008080; text-decoration-color: #008080\">INFO</span>    | Task run 'write_gcs-35' - Finished in state <span style=\"color: #008000; text-decoration-color: #008000\">Completed</span>()\n",
       "</pre>\n"
      ],
      "text/plain": [
       "00:55:58.203 | \u001b[36mINFO\u001b[0m    | Task run 'write_gcs-35' - Finished in state \u001b[32mCompleted\u001b[0m()\n"
      ]
     },
     "metadata": {},
     "output_type": "display_data"
    },
    {
     "data": {
      "text/html": [
       "<pre style=\"white-space:pre;overflow-x:auto;line-height:normal;font-family:Menlo,'DejaVu Sans Mono',consolas,'Courier New',monospace\">00:55:58.549 | <span style=\"color: #008080; text-decoration-color: #008080\">INFO</span>    | Flow run<span style=\"color: #800080; text-decoration-color: #800080\"> 'rampant-impala'</span> - Created task run 'write_gcs-36' for task 'write_gcs'\n",
       "</pre>\n"
      ],
      "text/plain": [
       "00:55:58.549 | \u001b[36mINFO\u001b[0m    | Flow run\u001b[35m 'rampant-impala'\u001b[0m - Created task run 'write_gcs-36' for task 'write_gcs'\n"
      ]
     },
     "metadata": {},
     "output_type": "display_data"
    },
    {
     "data": {
      "text/html": [
       "<pre style=\"white-space:pre;overflow-x:auto;line-height:normal;font-family:Menlo,'DejaVu Sans Mono',consolas,'Courier New',monospace\">00:55:58.552 | <span style=\"color: #008080; text-decoration-color: #008080\">INFO</span>    | Flow run<span style=\"color: #800080; text-decoration-color: #800080\"> 'rampant-impala'</span> - Executing 'write_gcs-36' immediately...\n",
       "</pre>\n"
      ],
      "text/plain": [
       "00:55:58.552 | \u001b[36mINFO\u001b[0m    | Flow run\u001b[35m 'rampant-impala'\u001b[0m - Executing 'write_gcs-36' immediately...\n"
      ]
     },
     "metadata": {},
     "output_type": "display_data"
    },
    {
     "data": {
      "text/html": [
       "<pre style=\"white-space:pre;overflow-x:auto;line-height:normal;font-family:Menlo,'DejaVu Sans Mono',consolas,'Courier New',monospace\">00:56:00.232 | <span style=\"color: #008080; text-decoration-color: #008080\">INFO</span>    | Task run 'write_gcs-36' - Getting bucket 'datalake_de-project-230419'.\n",
       "</pre>\n"
      ],
      "text/plain": [
       "00:56:00.232 | \u001b[36mINFO\u001b[0m    | Task run 'write_gcs-36' - Getting bucket 'datalake_de-project-230419'.\n"
      ]
     },
     "metadata": {},
     "output_type": "display_data"
    },
    {
     "data": {
      "text/html": [
       "<pre style=\"white-space:pre;overflow-x:auto;line-height:normal;font-family:Menlo,'DejaVu Sans Mono',consolas,'Courier New',monospace\">00:56:00.827 | <span style=\"color: #008080; text-decoration-color: #008080\">INFO</span>    | Task run 'write_gcs-36' - Uploading from 'data/pq/2021/.part-00000-36f555e6-c831-4560-aee1-88a31182e107-c000.snappy.parquet.crc' to the bucket 'datalake_de-project-230419' path 'data/pq/2021/.part-00000-36f555e6-c831-4560-aee1-88a31182e107-c000.snappy.parquet.crc'.\n",
       "</pre>\n"
      ],
      "text/plain": [
       "00:56:00.827 | \u001b[36mINFO\u001b[0m    | Task run 'write_gcs-36' - Uploading from 'data/pq/2021/.part-00000-36f555e6-c831-4560-aee1-88a31182e107-c000.snappy.parquet.crc' to the bucket 'datalake_de-project-230419' path 'data/pq/2021/.part-00000-36f555e6-c831-4560-aee1-88a31182e107-c000.snappy.parquet.crc'.\n"
      ]
     },
     "metadata": {},
     "output_type": "display_data"
    },
    {
     "data": {
      "text/html": [
       "<pre style=\"white-space:pre;overflow-x:auto;line-height:normal;font-family:Menlo,'DejaVu Sans Mono',consolas,'Courier New',monospace\">00:56:02.077 | <span style=\"color: #008080; text-decoration-color: #008080\">INFO</span>    | Task run 'write_gcs-36' - Finished in state <span style=\"color: #008000; text-decoration-color: #008000\">Completed</span>()\n",
       "</pre>\n"
      ],
      "text/plain": [
       "00:56:02.077 | \u001b[36mINFO\u001b[0m    | Task run 'write_gcs-36' - Finished in state \u001b[32mCompleted\u001b[0m()\n"
      ]
     },
     "metadata": {},
     "output_type": "display_data"
    },
    {
     "data": {
      "text/html": [
       "<pre style=\"white-space:pre;overflow-x:auto;line-height:normal;font-family:Menlo,'DejaVu Sans Mono',consolas,'Courier New',monospace\">00:56:02.616 | <span style=\"color: #008080; text-decoration-color: #008080\">INFO</span>    | Flow run<span style=\"color: #800080; text-decoration-color: #800080\"> 'rampant-impala'</span> - Created task run 'write_gcs-37' for task 'write_gcs'\n",
       "</pre>\n"
      ],
      "text/plain": [
       "00:56:02.616 | \u001b[36mINFO\u001b[0m    | Flow run\u001b[35m 'rampant-impala'\u001b[0m - Created task run 'write_gcs-37' for task 'write_gcs'\n"
      ]
     },
     "metadata": {},
     "output_type": "display_data"
    },
    {
     "data": {
      "text/html": [
       "<pre style=\"white-space:pre;overflow-x:auto;line-height:normal;font-family:Menlo,'DejaVu Sans Mono',consolas,'Courier New',monospace\">00:56:02.619 | <span style=\"color: #008080; text-decoration-color: #008080\">INFO</span>    | Flow run<span style=\"color: #800080; text-decoration-color: #800080\"> 'rampant-impala'</span> - Executing 'write_gcs-37' immediately...\n",
       "</pre>\n"
      ],
      "text/plain": [
       "00:56:02.619 | \u001b[36mINFO\u001b[0m    | Flow run\u001b[35m 'rampant-impala'\u001b[0m - Executing 'write_gcs-37' immediately...\n"
      ]
     },
     "metadata": {},
     "output_type": "display_data"
    },
    {
     "data": {
      "text/html": [
       "<pre style=\"white-space:pre;overflow-x:auto;line-height:normal;font-family:Menlo,'DejaVu Sans Mono',consolas,'Courier New',monospace\">00:56:04.145 | <span style=\"color: #008080; text-decoration-color: #008080\">INFO</span>    | Task run 'write_gcs-37' - Getting bucket 'datalake_de-project-230419'.\n",
       "</pre>\n"
      ],
      "text/plain": [
       "00:56:04.145 | \u001b[36mINFO\u001b[0m    | Task run 'write_gcs-37' - Getting bucket 'datalake_de-project-230419'.\n"
      ]
     },
     "metadata": {},
     "output_type": "display_data"
    },
    {
     "data": {
      "text/html": [
       "<pre style=\"white-space:pre;overflow-x:auto;line-height:normal;font-family:Menlo,'DejaVu Sans Mono',consolas,'Courier New',monospace\">00:56:04.766 | <span style=\"color: #008080; text-decoration-color: #008080\">INFO</span>    | Task run 'write_gcs-37' - Uploading from 'data/pq/2021/.part-00007-36f555e6-c831-4560-aee1-88a31182e107-c000.snappy.parquet.crc' to the bucket 'datalake_de-project-230419' path 'data/pq/2021/.part-00007-36f555e6-c831-4560-aee1-88a31182e107-c000.snappy.parquet.crc'.\n",
       "</pre>\n"
      ],
      "text/plain": [
       "00:56:04.766 | \u001b[36mINFO\u001b[0m    | Task run 'write_gcs-37' - Uploading from 'data/pq/2021/.part-00007-36f555e6-c831-4560-aee1-88a31182e107-c000.snappy.parquet.crc' to the bucket 'datalake_de-project-230419' path 'data/pq/2021/.part-00007-36f555e6-c831-4560-aee1-88a31182e107-c000.snappy.parquet.crc'.\n"
      ]
     },
     "metadata": {},
     "output_type": "display_data"
    },
    {
     "data": {
      "text/html": [
       "<pre style=\"white-space:pre;overflow-x:auto;line-height:normal;font-family:Menlo,'DejaVu Sans Mono',consolas,'Courier New',monospace\">00:56:05.410 | <span style=\"color: #008080; text-decoration-color: #008080\">INFO</span>    | Task run 'write_gcs-37' - Finished in state <span style=\"color: #008000; text-decoration-color: #008000\">Completed</span>()\n",
       "</pre>\n"
      ],
      "text/plain": [
       "00:56:05.410 | \u001b[36mINFO\u001b[0m    | Task run 'write_gcs-37' - Finished in state \u001b[32mCompleted\u001b[0m()\n"
      ]
     },
     "metadata": {},
     "output_type": "display_data"
    },
    {
     "data": {
      "text/html": [
       "<pre style=\"white-space:pre;overflow-x:auto;line-height:normal;font-family:Menlo,'DejaVu Sans Mono',consolas,'Courier New',monospace\">00:56:05.823 | <span style=\"color: #008080; text-decoration-color: #008080\">INFO</span>    | Flow run<span style=\"color: #800080; text-decoration-color: #800080\"> 'rampant-impala'</span> - Created task run 'write_gcs-38' for task 'write_gcs'\n",
       "</pre>\n"
      ],
      "text/plain": [
       "00:56:05.823 | \u001b[36mINFO\u001b[0m    | Flow run\u001b[35m 'rampant-impala'\u001b[0m - Created task run 'write_gcs-38' for task 'write_gcs'\n"
      ]
     },
     "metadata": {},
     "output_type": "display_data"
    },
    {
     "data": {
      "text/html": [
       "<pre style=\"white-space:pre;overflow-x:auto;line-height:normal;font-family:Menlo,'DejaVu Sans Mono',consolas,'Courier New',monospace\">00:56:05.828 | <span style=\"color: #008080; text-decoration-color: #008080\">INFO</span>    | Flow run<span style=\"color: #800080; text-decoration-color: #800080\"> 'rampant-impala'</span> - Executing 'write_gcs-38' immediately...\n",
       "</pre>\n"
      ],
      "text/plain": [
       "00:56:05.828 | \u001b[36mINFO\u001b[0m    | Flow run\u001b[35m 'rampant-impala'\u001b[0m - Executing 'write_gcs-38' immediately...\n"
      ]
     },
     "metadata": {},
     "output_type": "display_data"
    },
    {
     "data": {
      "text/html": [
       "<pre style=\"white-space:pre;overflow-x:auto;line-height:normal;font-family:Menlo,'DejaVu Sans Mono',consolas,'Courier New',monospace\">00:56:07.470 | <span style=\"color: #008080; text-decoration-color: #008080\">INFO</span>    | Task run 'write_gcs-38' - Getting bucket 'datalake_de-project-230419'.\n",
       "</pre>\n"
      ],
      "text/plain": [
       "00:56:07.470 | \u001b[36mINFO\u001b[0m    | Task run 'write_gcs-38' - Getting bucket 'datalake_de-project-230419'.\n"
      ]
     },
     "metadata": {},
     "output_type": "display_data"
    },
    {
     "data": {
      "text/html": [
       "<pre style=\"white-space:pre;overflow-x:auto;line-height:normal;font-family:Menlo,'DejaVu Sans Mono',consolas,'Courier New',monospace\">00:56:08.076 | <span style=\"color: #008080; text-decoration-color: #008080\">INFO</span>    | Task run 'write_gcs-38' - Uploading from 'data/pq/2021/part-00019-36f555e6-c831-4560-aee1-88a31182e107-c000.snappy.parquet' to the bucket 'datalake_de-project-230419' path 'data/pq/2021/part-00019-36f555e6-c831-4560-aee1-88a31182e107-c000.snappy.parquet'.\n",
       "</pre>\n"
      ],
      "text/plain": [
       "00:56:08.076 | \u001b[36mINFO\u001b[0m    | Task run 'write_gcs-38' - Uploading from 'data/pq/2021/part-00019-36f555e6-c831-4560-aee1-88a31182e107-c000.snappy.parquet' to the bucket 'datalake_de-project-230419' path 'data/pq/2021/part-00019-36f555e6-c831-4560-aee1-88a31182e107-c000.snappy.parquet'.\n"
      ]
     },
     "metadata": {},
     "output_type": "display_data"
    },
    {
     "data": {
      "text/html": [
       "<pre style=\"white-space:pre;overflow-x:auto;line-height:normal;font-family:Menlo,'DejaVu Sans Mono',consolas,'Courier New',monospace\">00:56:10.403 | <span style=\"color: #008080; text-decoration-color: #008080\">INFO</span>    | Task run 'write_gcs-38' - Finished in state <span style=\"color: #008000; text-decoration-color: #008000\">Completed</span>()\n",
       "</pre>\n"
      ],
      "text/plain": [
       "00:56:10.403 | \u001b[36mINFO\u001b[0m    | Task run 'write_gcs-38' - Finished in state \u001b[32mCompleted\u001b[0m()\n"
      ]
     },
     "metadata": {},
     "output_type": "display_data"
    },
    {
     "data": {
      "text/html": [
       "<pre style=\"white-space:pre;overflow-x:auto;line-height:normal;font-family:Menlo,'DejaVu Sans Mono',consolas,'Courier New',monospace\">00:56:10.756 | <span style=\"color: #008080; text-decoration-color: #008080\">INFO</span>    | Flow run<span style=\"color: #800080; text-decoration-color: #800080\"> 'rampant-impala'</span> - Created task run 'write_gcs-39' for task 'write_gcs'\n",
       "</pre>\n"
      ],
      "text/plain": [
       "00:56:10.756 | \u001b[36mINFO\u001b[0m    | Flow run\u001b[35m 'rampant-impala'\u001b[0m - Created task run 'write_gcs-39' for task 'write_gcs'\n"
      ]
     },
     "metadata": {},
     "output_type": "display_data"
    },
    {
     "data": {
      "text/html": [
       "<pre style=\"white-space:pre;overflow-x:auto;line-height:normal;font-family:Menlo,'DejaVu Sans Mono',consolas,'Courier New',monospace\">00:56:10.768 | <span style=\"color: #008080; text-decoration-color: #008080\">INFO</span>    | Flow run<span style=\"color: #800080; text-decoration-color: #800080\"> 'rampant-impala'</span> - Executing 'write_gcs-39' immediately...\n",
       "</pre>\n"
      ],
      "text/plain": [
       "00:56:10.768 | \u001b[36mINFO\u001b[0m    | Flow run\u001b[35m 'rampant-impala'\u001b[0m - Executing 'write_gcs-39' immediately...\n"
      ]
     },
     "metadata": {},
     "output_type": "display_data"
    },
    {
     "data": {
      "text/html": [
       "<pre style=\"white-space:pre;overflow-x:auto;line-height:normal;font-family:Menlo,'DejaVu Sans Mono',consolas,'Courier New',monospace\">00:56:12.519 | <span style=\"color: #008080; text-decoration-color: #008080\">INFO</span>    | Task run 'write_gcs-39' - Getting bucket 'datalake_de-project-230419'.\n",
       "</pre>\n"
      ],
      "text/plain": [
       "00:56:12.519 | \u001b[36mINFO\u001b[0m    | Task run 'write_gcs-39' - Getting bucket 'datalake_de-project-230419'.\n"
      ]
     },
     "metadata": {},
     "output_type": "display_data"
    },
    {
     "data": {
      "text/html": [
       "<pre style=\"white-space:pre;overflow-x:auto;line-height:normal;font-family:Menlo,'DejaVu Sans Mono',consolas,'Courier New',monospace\">00:56:13.171 | <span style=\"color: #008080; text-decoration-color: #008080\">INFO</span>    | Task run 'write_gcs-39' - Uploading from 'data/pq/2021/part-00004-36f555e6-c831-4560-aee1-88a31182e107-c000.snappy.parquet' to the bucket 'datalake_de-project-230419' path 'data/pq/2021/part-00004-36f555e6-c831-4560-aee1-88a31182e107-c000.snappy.parquet'.\n",
       "</pre>\n"
      ],
      "text/plain": [
       "00:56:13.171 | \u001b[36mINFO\u001b[0m    | Task run 'write_gcs-39' - Uploading from 'data/pq/2021/part-00004-36f555e6-c831-4560-aee1-88a31182e107-c000.snappy.parquet' to the bucket 'datalake_de-project-230419' path 'data/pq/2021/part-00004-36f555e6-c831-4560-aee1-88a31182e107-c000.snappy.parquet'.\n"
      ]
     },
     "metadata": {},
     "output_type": "display_data"
    },
    {
     "data": {
      "text/html": [
       "<pre style=\"white-space:pre;overflow-x:auto;line-height:normal;font-family:Menlo,'DejaVu Sans Mono',consolas,'Courier New',monospace\">00:56:16.824 | <span style=\"color: #008080; text-decoration-color: #008080\">INFO</span>    | Task run 'write_gcs-39' - Finished in state <span style=\"color: #008000; text-decoration-color: #008000\">Completed</span>()\n",
       "</pre>\n"
      ],
      "text/plain": [
       "00:56:16.824 | \u001b[36mINFO\u001b[0m    | Task run 'write_gcs-39' - Finished in state \u001b[32mCompleted\u001b[0m()\n"
      ]
     },
     "metadata": {},
     "output_type": "display_data"
    },
    {
     "data": {
      "text/html": [
       "<pre style=\"white-space:pre;overflow-x:auto;line-height:normal;font-family:Menlo,'DejaVu Sans Mono',consolas,'Courier New',monospace\">00:56:17.223 | <span style=\"color: #008080; text-decoration-color: #008080\">INFO</span>    | Flow run<span style=\"color: #800080; text-decoration-color: #800080\"> 'rampant-impala'</span> - Created task run 'write_gcs-40' for task 'write_gcs'\n",
       "</pre>\n"
      ],
      "text/plain": [
       "00:56:17.223 | \u001b[36mINFO\u001b[0m    | Flow run\u001b[35m 'rampant-impala'\u001b[0m - Created task run 'write_gcs-40' for task 'write_gcs'\n"
      ]
     },
     "metadata": {},
     "output_type": "display_data"
    },
    {
     "data": {
      "text/html": [
       "<pre style=\"white-space:pre;overflow-x:auto;line-height:normal;font-family:Menlo,'DejaVu Sans Mono',consolas,'Courier New',monospace\">00:56:17.232 | <span style=\"color: #008080; text-decoration-color: #008080\">INFO</span>    | Flow run<span style=\"color: #800080; text-decoration-color: #800080\"> 'rampant-impala'</span> - Executing 'write_gcs-40' immediately...\n",
       "</pre>\n"
      ],
      "text/plain": [
       "00:56:17.232 | \u001b[36mINFO\u001b[0m    | Flow run\u001b[35m 'rampant-impala'\u001b[0m - Executing 'write_gcs-40' immediately...\n"
      ]
     },
     "metadata": {},
     "output_type": "display_data"
    },
    {
     "data": {
      "text/html": [
       "<pre style=\"white-space:pre;overflow-x:auto;line-height:normal;font-family:Menlo,'DejaVu Sans Mono',consolas,'Courier New',monospace\">00:56:19.204 | <span style=\"color: #008080; text-decoration-color: #008080\">INFO</span>    | Task run 'write_gcs-40' - Getting bucket 'datalake_de-project-230419'.\n",
       "</pre>\n"
      ],
      "text/plain": [
       "00:56:19.204 | \u001b[36mINFO\u001b[0m    | Task run 'write_gcs-40' - Getting bucket 'datalake_de-project-230419'.\n"
      ]
     },
     "metadata": {},
     "output_type": "display_data"
    },
    {
     "data": {
      "text/html": [
       "<pre style=\"white-space:pre;overflow-x:auto;line-height:normal;font-family:Menlo,'DejaVu Sans Mono',consolas,'Courier New',monospace\">00:56:19.617 | <span style=\"color: #008080; text-decoration-color: #008080\">INFO</span>    | Task run 'write_gcs-40' - Uploading from 'data/pq/2021/part-00000-36f555e6-c831-4560-aee1-88a31182e107-c000.snappy.parquet' to the bucket 'datalake_de-project-230419' path 'data/pq/2021/part-00000-36f555e6-c831-4560-aee1-88a31182e107-c000.snappy.parquet'.\n",
       "</pre>\n"
      ],
      "text/plain": [
       "00:56:19.617 | \u001b[36mINFO\u001b[0m    | Task run 'write_gcs-40' - Uploading from 'data/pq/2021/part-00000-36f555e6-c831-4560-aee1-88a31182e107-c000.snappy.parquet' to the bucket 'datalake_de-project-230419' path 'data/pq/2021/part-00000-36f555e6-c831-4560-aee1-88a31182e107-c000.snappy.parquet'.\n"
      ]
     },
     "metadata": {},
     "output_type": "display_data"
    },
    {
     "data": {
      "text/html": [
       "<pre style=\"white-space:pre;overflow-x:auto;line-height:normal;font-family:Menlo,'DejaVu Sans Mono',consolas,'Courier New',monospace\">00:56:22.305 | <span style=\"color: #008080; text-decoration-color: #008080\">INFO</span>    | Task run 'write_gcs-40' - Finished in state <span style=\"color: #008000; text-decoration-color: #008000\">Completed</span>()\n",
       "</pre>\n"
      ],
      "text/plain": [
       "00:56:22.305 | \u001b[36mINFO\u001b[0m    | Task run 'write_gcs-40' - Finished in state \u001b[32mCompleted\u001b[0m()\n"
      ]
     },
     "metadata": {},
     "output_type": "display_data"
    },
    {
     "data": {
      "text/html": [
       "<pre style=\"white-space:pre;overflow-x:auto;line-height:normal;font-family:Menlo,'DejaVu Sans Mono',consolas,'Courier New',monospace\">00:56:22.707 | <span style=\"color: #008080; text-decoration-color: #008080\">INFO</span>    | Flow run<span style=\"color: #800080; text-decoration-color: #800080\"> 'rampant-impala'</span> - Created task run 'write_gcs-41' for task 'write_gcs'\n",
       "</pre>\n"
      ],
      "text/plain": [
       "00:56:22.707 | \u001b[36mINFO\u001b[0m    | Flow run\u001b[35m 'rampant-impala'\u001b[0m - Created task run 'write_gcs-41' for task 'write_gcs'\n"
      ]
     },
     "metadata": {},
     "output_type": "display_data"
    },
    {
     "data": {
      "text/html": [
       "<pre style=\"white-space:pre;overflow-x:auto;line-height:normal;font-family:Menlo,'DejaVu Sans Mono',consolas,'Courier New',monospace\">00:56:22.712 | <span style=\"color: #008080; text-decoration-color: #008080\">INFO</span>    | Flow run<span style=\"color: #800080; text-decoration-color: #800080\"> 'rampant-impala'</span> - Executing 'write_gcs-41' immediately...\n",
       "</pre>\n"
      ],
      "text/plain": [
       "00:56:22.712 | \u001b[36mINFO\u001b[0m    | Flow run\u001b[35m 'rampant-impala'\u001b[0m - Executing 'write_gcs-41' immediately...\n"
      ]
     },
     "metadata": {},
     "output_type": "display_data"
    },
    {
     "data": {
      "text/html": [
       "<pre style=\"white-space:pre;overflow-x:auto;line-height:normal;font-family:Menlo,'DejaVu Sans Mono',consolas,'Courier New',monospace\">00:56:25.015 | <span style=\"color: #008080; text-decoration-color: #008080\">INFO</span>    | Task run 'write_gcs-41' - Getting bucket 'datalake_de-project-230419'.\n",
       "</pre>\n"
      ],
      "text/plain": [
       "00:56:25.015 | \u001b[36mINFO\u001b[0m    | Task run 'write_gcs-41' - Getting bucket 'datalake_de-project-230419'.\n"
      ]
     },
     "metadata": {},
     "output_type": "display_data"
    },
    {
     "data": {
      "text/html": [
       "<pre style=\"white-space:pre;overflow-x:auto;line-height:normal;font-family:Menlo,'DejaVu Sans Mono',consolas,'Courier New',monospace\">00:56:25.535 | <span style=\"color: #008080; text-decoration-color: #008080\">INFO</span>    | Task run 'write_gcs-41' - Uploading from 'data/pq/2021/part-00002-36f555e6-c831-4560-aee1-88a31182e107-c000.snappy.parquet' to the bucket 'datalake_de-project-230419' path 'data/pq/2021/part-00002-36f555e6-c831-4560-aee1-88a31182e107-c000.snappy.parquet'.\n",
       "</pre>\n"
      ],
      "text/plain": [
       "00:56:25.535 | \u001b[36mINFO\u001b[0m    | Task run 'write_gcs-41' - Uploading from 'data/pq/2021/part-00002-36f555e6-c831-4560-aee1-88a31182e107-c000.snappy.parquet' to the bucket 'datalake_de-project-230419' path 'data/pq/2021/part-00002-36f555e6-c831-4560-aee1-88a31182e107-c000.snappy.parquet'.\n"
      ]
     },
     "metadata": {},
     "output_type": "display_data"
    },
    {
     "data": {
      "text/html": [
       "<pre style=\"white-space:pre;overflow-x:auto;line-height:normal;font-family:Menlo,'DejaVu Sans Mono',consolas,'Courier New',monospace\">00:56:28.508 | <span style=\"color: #008080; text-decoration-color: #008080\">INFO</span>    | Task run 'write_gcs-41' - Finished in state <span style=\"color: #008000; text-decoration-color: #008000\">Completed</span>()\n",
       "</pre>\n"
      ],
      "text/plain": [
       "00:56:28.508 | \u001b[36mINFO\u001b[0m    | Task run 'write_gcs-41' - Finished in state \u001b[32mCompleted\u001b[0m()\n"
      ]
     },
     "metadata": {},
     "output_type": "display_data"
    },
    {
     "data": {
      "text/html": [
       "<pre style=\"white-space:pre;overflow-x:auto;line-height:normal;font-family:Menlo,'DejaVu Sans Mono',consolas,'Courier New',monospace\">00:56:29.179 | <span style=\"color: #008080; text-decoration-color: #008080\">INFO</span>    | Flow run<span style=\"color: #800080; text-decoration-color: #800080\"> 'rampant-impala'</span> - Finished in state <span style=\"color: #008000; text-decoration-color: #008000\">Completed</span>('All states completed.')\n",
       "</pre>\n"
      ],
      "text/plain": [
       "00:56:29.179 | \u001b[36mINFO\u001b[0m    | Flow run\u001b[35m 'rampant-impala'\u001b[0m - Finished in state \u001b[32mCompleted\u001b[0m('All states completed.')\n"
      ]
     },
     "metadata": {},
     "output_type": "display_data"
    },
    {
     "data": {
      "text/html": [
       "<pre style=\"white-space:pre;overflow-x:auto;line-height:normal;font-family:Menlo,'DejaVu Sans Mono',consolas,'Courier New',monospace\">00:56:29.599 | <span style=\"color: #008080; text-decoration-color: #008080\">INFO</span>    | Flow run<span style=\"color: #800080; text-decoration-color: #800080\"> 'glorious-starfish'</span> - Finished in state <span style=\"color: #008000; text-decoration-color: #008000\">Completed</span>('All states completed.')\n",
       "</pre>\n"
      ],
      "text/plain": [
       "00:56:29.599 | \u001b[36mINFO\u001b[0m    | Flow run\u001b[35m 'glorious-starfish'\u001b[0m - Finished in state \u001b[32mCompleted\u001b[0m('All states completed.')\n"
      ]
     },
     "metadata": {},
     "output_type": "display_data"
    }
   ],
   "source": [
    "if __name__ == \"__main__\":\n",
    "    # years = {2023: 'pvqr-7yc4', 2022: '7mxj-7a6y', 2021: 'kvfd-bves', 2020: 'p7t3-5i9s', 2019: 'faiq-9dfq'}\n",
    "    years = {2021: 'kvfd-bves'}\n",
    "    etl_parent_flow(years)"
   ]
  }
 ],
 "metadata": {
  "kernelspec": {
   "display_name": "Python 3 (ipykernel)",
   "language": "python",
   "name": "python3"
  },
  "language_info": {
   "codemirror_mode": {
    "name": "ipython",
    "version": 3
   },
   "file_extension": ".py",
   "mimetype": "text/x-python",
   "name": "python",
   "nbconvert_exporter": "python",
   "pygments_lexer": "ipython3",
   "version": "3.10.6"
  }
 },
 "nbformat": 4,
 "nbformat_minor": 5
}
