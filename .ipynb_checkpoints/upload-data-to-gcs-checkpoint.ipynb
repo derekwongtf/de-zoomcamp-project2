{
 "cells": [
  {
   "cell_type": "code",
   "execution_count": 1,
   "id": "c7ce842d",
   "metadata": {},
   "outputs": [],
   "source": [
    "import pyspark"
   ]
  },
  {
   "cell_type": "code",
   "execution_count": 2,
   "id": "4c1e7561",
   "metadata": {},
   "outputs": [],
   "source": [
    "from pyspark.sql import SparkSession"
   ]
  },
  {
   "cell_type": "code",
   "execution_count": 3,
   "id": "c4ce684c",
   "metadata": {},
   "outputs": [
    {
     "name": "stdout",
     "output_type": "stream",
     "text": [
      "23/04/19 16:21:38 WARN Utils: Your hostname, DavidNg-8242-NB resolves to a loopback address: 127.0.1.1; using 172.24.225.125 instead (on interface eth0)\n",
      "23/04/19 16:21:38 WARN Utils: Set SPARK_LOCAL_IP if you need to bind to another address\n"
     ]
    },
    {
     "name": "stderr",
     "output_type": "stream",
     "text": [
      "Setting default log level to \"WARN\".\n",
      "To adjust logging level use sc.setLogLevel(newLevel). For SparkR, use setLogLevel(newLevel).\n"
     ]
    },
    {
     "name": "stdout",
     "output_type": "stream",
     "text": [
      "23/04/19 16:21:41 WARN NativeCodeLoader: Unable to load native-hadoop library for your platform... using builtin-java classes where applicable\n"
     ]
    }
   ],
   "source": [
    "spark = SparkSession.builder \\\n",
    "    .master(\"local[*]\") \\\n",
    "    .appName('test') \\\n",
    "    .getOrCreate()"
   ]
  },
  {
   "cell_type": "code",
   "execution_count": 4,
   "id": "74a8f7c4",
   "metadata": {
    "scrolled": true
   },
   "outputs": [
    {
     "name": "stdout",
     "output_type": "stream",
     "text": [
      "processing data for 2022\n"
     ]
    },
    {
     "name": "stderr",
     "output_type": "stream",
     "text": [
      "                                                                                \r"
     ]
    },
    {
     "name": "stdout",
     "output_type": "stream",
     "text": [
      "23/04/19 16:29:50 WARN package: Truncated the string representation of a plan since it was too large. This behavior can be adjusted by setting 'spark.sql.debug.maxToStringFields'.\n"
     ]
    },
    {
     "name": "stderr",
     "output_type": "stream",
     "text": [
      "                                                                                \r"
     ]
    },
    {
     "name": "stdout",
     "output_type": "stream",
     "text": [
      "processing data for 2023\n"
     ]
    },
    {
     "name": "stderr",
     "output_type": "stream",
     "text": [
      "                                                                                \r"
     ]
    }
   ],
   "source": [
    "for year in [2022,2023]:\n",
    "    print(f'processing data for {year}')\n",
    "\n",
    "    input_path = f'data/raw/{year}/'\n",
    "    output_path = f'data/pq/{year}/'\n",
    "\n",
    "    df = spark.read \\\n",
    "        .option(\"header\", \"true\") \\\n",
    "        .option(\"inferSchema\", \"true\") \\\n",
    "        .option(\"multiline\", \"true\") \\\n",
    "        .option(\"escape\", \"\\\"\") \\\n",
    "        .csv(input_path)\n",
    "\n",
    "    df \\\n",
    "        .repartition(20) \\\n",
    "        .write.parquet(output_path, mode='overwrite')"
   ]
  },
  {
   "cell_type": "code",
   "execution_count": 24,
   "id": "9f8bc7a6",
   "metadata": {},
   "outputs": [],
   "source": [
    "from google.cloud import storage\n",
    "import glob, os"
   ]
  },
  {
   "cell_type": "code",
   "execution_count": 22,
   "id": "9c845df5",
   "metadata": {},
   "outputs": [],
   "source": [
    "path_to_private_key = 'sa-de-project.json'\n",
    "client = storage.Client.from_service_account_json(json_credentials_path=path_to_private_key)\n",
    "bucket = storage.Bucket(client, 'datalake_de-project-230419')\n",
    "\n",
    "def upload_directory(directory: str) -> None:\n",
    "    for str_path_file in glob.glob(directory):\n",
    "        print(f'Uploading {str_path_file}')\n",
    "        # The name of file on GCS once uploaded\n",
    "        blob = bucket.blob(str_path_file)\n",
    "        # The content that will be uploaded\n",
    "        blob.upload_from_filename(str_path_file)\n",
    "        print(f'Path in GCS: {str_path_file}')"
   ]
  },
  {
   "cell_type": "code",
   "execution_count": 31,
   "id": "d0089dcc",
   "metadata": {
    "scrolled": true
   },
   "outputs": [
    {
     "name": "stdout",
     "output_type": "stream",
     "text": [
      "Uploading data/pq/2023/part-00011-852a5c42-f399-4d15-8ecf-da22e5ede34d-c000.snappy.parquet\n",
      "Path in GCS: data/pq/2023/part-00011-852a5c42-f399-4d15-8ecf-da22e5ede34d-c000.snappy.parquet\n",
      "Uploading data/pq/2023/part-00015-852a5c42-f399-4d15-8ecf-da22e5ede34d-c000.snappy.parquet\n",
      "Path in GCS: data/pq/2023/part-00015-852a5c42-f399-4d15-8ecf-da22e5ede34d-c000.snappy.parquet\n",
      "Uploading data/pq/2023/part-00006-852a5c42-f399-4d15-8ecf-da22e5ede34d-c000.snappy.parquet\n",
      "Path in GCS: data/pq/2023/part-00006-852a5c42-f399-4d15-8ecf-da22e5ede34d-c000.snappy.parquet\n",
      "Uploading data/pq/2023/part-00007-852a5c42-f399-4d15-8ecf-da22e5ede34d-c000.snappy.parquet\n",
      "Path in GCS: data/pq/2023/part-00007-852a5c42-f399-4d15-8ecf-da22e5ede34d-c000.snappy.parquet\n",
      "Uploading data/pq/2023/part-00009-852a5c42-f399-4d15-8ecf-da22e5ede34d-c000.snappy.parquet\n",
      "Path in GCS: data/pq/2023/part-00009-852a5c42-f399-4d15-8ecf-da22e5ede34d-c000.snappy.parquet\n",
      "Uploading data/pq/2023/part-00018-852a5c42-f399-4d15-8ecf-da22e5ede34d-c000.snappy.parquet\n",
      "Path in GCS: data/pq/2023/part-00018-852a5c42-f399-4d15-8ecf-da22e5ede34d-c000.snappy.parquet\n",
      "Uploading data/pq/2023/part-00000-852a5c42-f399-4d15-8ecf-da22e5ede34d-c000.snappy.parquet\n",
      "Path in GCS: data/pq/2023/part-00000-852a5c42-f399-4d15-8ecf-da22e5ede34d-c000.snappy.parquet\n",
      "Uploading data/pq/2023/_SUCCESS\n",
      "Path in GCS: data/pq/2023/_SUCCESS\n",
      "Uploading data/pq/2023/part-00012-852a5c42-f399-4d15-8ecf-da22e5ede34d-c000.snappy.parquet\n",
      "Path in GCS: data/pq/2023/part-00012-852a5c42-f399-4d15-8ecf-da22e5ede34d-c000.snappy.parquet\n",
      "Uploading data/pq/2023/part-00013-852a5c42-f399-4d15-8ecf-da22e5ede34d-c000.snappy.parquet\n",
      "Path in GCS: data/pq/2023/part-00013-852a5c42-f399-4d15-8ecf-da22e5ede34d-c000.snappy.parquet\n",
      "Uploading data/pq/2023/part-00019-852a5c42-f399-4d15-8ecf-da22e5ede34d-c000.snappy.parquet\n",
      "Path in GCS: data/pq/2023/part-00019-852a5c42-f399-4d15-8ecf-da22e5ede34d-c000.snappy.parquet\n",
      "Uploading data/pq/2023/part-00002-852a5c42-f399-4d15-8ecf-da22e5ede34d-c000.snappy.parquet\n",
      "Path in GCS: data/pq/2023/part-00002-852a5c42-f399-4d15-8ecf-da22e5ede34d-c000.snappy.parquet\n",
      "Uploading data/pq/2023/part-00004-852a5c42-f399-4d15-8ecf-da22e5ede34d-c000.snappy.parquet\n",
      "Path in GCS: data/pq/2023/part-00004-852a5c42-f399-4d15-8ecf-da22e5ede34d-c000.snappy.parquet\n",
      "Uploading data/pq/2023/part-00003-852a5c42-f399-4d15-8ecf-da22e5ede34d-c000.snappy.parquet\n",
      "Path in GCS: data/pq/2023/part-00003-852a5c42-f399-4d15-8ecf-da22e5ede34d-c000.snappy.parquet\n",
      "Uploading data/pq/2023/part-00017-852a5c42-f399-4d15-8ecf-da22e5ede34d-c000.snappy.parquet\n",
      "Path in GCS: data/pq/2023/part-00017-852a5c42-f399-4d15-8ecf-da22e5ede34d-c000.snappy.parquet\n",
      "Uploading data/pq/2023/part-00014-852a5c42-f399-4d15-8ecf-da22e5ede34d-c000.snappy.parquet\n",
      "Path in GCS: data/pq/2023/part-00014-852a5c42-f399-4d15-8ecf-da22e5ede34d-c000.snappy.parquet\n",
      "Uploading data/pq/2023/part-00005-852a5c42-f399-4d15-8ecf-da22e5ede34d-c000.snappy.parquet\n",
      "Path in GCS: data/pq/2023/part-00005-852a5c42-f399-4d15-8ecf-da22e5ede34d-c000.snappy.parquet\n",
      "Uploading data/pq/2023/part-00008-852a5c42-f399-4d15-8ecf-da22e5ede34d-c000.snappy.parquet\n",
      "Path in GCS: data/pq/2023/part-00008-852a5c42-f399-4d15-8ecf-da22e5ede34d-c000.snappy.parquet\n",
      "Uploading data/pq/2023/part-00010-852a5c42-f399-4d15-8ecf-da22e5ede34d-c000.snappy.parquet\n",
      "Path in GCS: data/pq/2023/part-00010-852a5c42-f399-4d15-8ecf-da22e5ede34d-c000.snappy.parquet\n",
      "Uploading data/pq/2023/part-00016-852a5c42-f399-4d15-8ecf-da22e5ede34d-c000.snappy.parquet\n",
      "Path in GCS: data/pq/2023/part-00016-852a5c42-f399-4d15-8ecf-da22e5ede34d-c000.snappy.parquet\n",
      "Uploading data/pq/2023/part-00001-852a5c42-f399-4d15-8ecf-da22e5ede34d-c000.snappy.parquet\n",
      "Path in GCS: data/pq/2023/part-00001-852a5c42-f399-4d15-8ecf-da22e5ede34d-c000.snappy.parquet\n",
      "Uploading data/pq/2022/part-00004-f0d120ae-4ade-4e47-ba52-1d48eff6d119-c000.snappy.parquet\n",
      "Path in GCS: data/pq/2022/part-00004-f0d120ae-4ade-4e47-ba52-1d48eff6d119-c000.snappy.parquet\n",
      "Uploading data/pq/2022/part-00006-f0d120ae-4ade-4e47-ba52-1d48eff6d119-c000.snappy.parquet\n",
      "Path in GCS: data/pq/2022/part-00006-f0d120ae-4ade-4e47-ba52-1d48eff6d119-c000.snappy.parquet\n",
      "Uploading data/pq/2022/part-00005-f0d120ae-4ade-4e47-ba52-1d48eff6d119-c000.snappy.parquet\n",
      "Path in GCS: data/pq/2022/part-00005-f0d120ae-4ade-4e47-ba52-1d48eff6d119-c000.snappy.parquet\n",
      "Uploading data/pq/2022/part-00002-f0d120ae-4ade-4e47-ba52-1d48eff6d119-c000.snappy.parquet\n",
      "Path in GCS: data/pq/2022/part-00002-f0d120ae-4ade-4e47-ba52-1d48eff6d119-c000.snappy.parquet\n",
      "Uploading data/pq/2022/part-00014-f0d120ae-4ade-4e47-ba52-1d48eff6d119-c000.snappy.parquet\n",
      "Path in GCS: data/pq/2022/part-00014-f0d120ae-4ade-4e47-ba52-1d48eff6d119-c000.snappy.parquet\n",
      "Uploading data/pq/2022/part-00017-f0d120ae-4ade-4e47-ba52-1d48eff6d119-c000.snappy.parquet\n",
      "Path in GCS: data/pq/2022/part-00017-f0d120ae-4ade-4e47-ba52-1d48eff6d119-c000.snappy.parquet\n",
      "Uploading data/pq/2022/part-00009-f0d120ae-4ade-4e47-ba52-1d48eff6d119-c000.snappy.parquet\n",
      "Path in GCS: data/pq/2022/part-00009-f0d120ae-4ade-4e47-ba52-1d48eff6d119-c000.snappy.parquet\n",
      "Uploading data/pq/2022/part-00013-f0d120ae-4ade-4e47-ba52-1d48eff6d119-c000.snappy.parquet\n",
      "Path in GCS: data/pq/2022/part-00013-f0d120ae-4ade-4e47-ba52-1d48eff6d119-c000.snappy.parquet\n",
      "Uploading data/pq/2022/_SUCCESS\n",
      "Path in GCS: data/pq/2022/_SUCCESS\n",
      "Uploading data/pq/2022/part-00018-f0d120ae-4ade-4e47-ba52-1d48eff6d119-c000.snappy.parquet\n",
      "Path in GCS: data/pq/2022/part-00018-f0d120ae-4ade-4e47-ba52-1d48eff6d119-c000.snappy.parquet\n",
      "Uploading data/pq/2022/part-00001-f0d120ae-4ade-4e47-ba52-1d48eff6d119-c000.snappy.parquet\n",
      "Path in GCS: data/pq/2022/part-00001-f0d120ae-4ade-4e47-ba52-1d48eff6d119-c000.snappy.parquet\n",
      "Uploading data/pq/2022/part-00019-f0d120ae-4ade-4e47-ba52-1d48eff6d119-c000.snappy.parquet\n",
      "Path in GCS: data/pq/2022/part-00019-f0d120ae-4ade-4e47-ba52-1d48eff6d119-c000.snappy.parquet\n",
      "Uploading data/pq/2022/part-00015-f0d120ae-4ade-4e47-ba52-1d48eff6d119-c000.snappy.parquet\n",
      "Path in GCS: data/pq/2022/part-00015-f0d120ae-4ade-4e47-ba52-1d48eff6d119-c000.snappy.parquet\n",
      "Uploading data/pq/2022/part-00000-f0d120ae-4ade-4e47-ba52-1d48eff6d119-c000.snappy.parquet\n",
      "Path in GCS: data/pq/2022/part-00000-f0d120ae-4ade-4e47-ba52-1d48eff6d119-c000.snappy.parquet\n",
      "Uploading data/pq/2022/part-00003-f0d120ae-4ade-4e47-ba52-1d48eff6d119-c000.snappy.parquet\n",
      "Path in GCS: data/pq/2022/part-00003-f0d120ae-4ade-4e47-ba52-1d48eff6d119-c000.snappy.parquet\n",
      "Uploading data/pq/2022/part-00016-f0d120ae-4ade-4e47-ba52-1d48eff6d119-c000.snappy.parquet\n",
      "Path in GCS: data/pq/2022/part-00016-f0d120ae-4ade-4e47-ba52-1d48eff6d119-c000.snappy.parquet\n",
      "Uploading data/pq/2022/part-00008-f0d120ae-4ade-4e47-ba52-1d48eff6d119-c000.snappy.parquet\n",
      "Path in GCS: data/pq/2022/part-00008-f0d120ae-4ade-4e47-ba52-1d48eff6d119-c000.snappy.parquet\n",
      "Uploading data/pq/2022/part-00011-f0d120ae-4ade-4e47-ba52-1d48eff6d119-c000.snappy.parquet\n",
      "Path in GCS: data/pq/2022/part-00011-f0d120ae-4ade-4e47-ba52-1d48eff6d119-c000.snappy.parquet\n",
      "Uploading data/pq/2022/part-00007-f0d120ae-4ade-4e47-ba52-1d48eff6d119-c000.snappy.parquet\n",
      "Path in GCS: data/pq/2022/part-00007-f0d120ae-4ade-4e47-ba52-1d48eff6d119-c000.snappy.parquet\n",
      "Uploading data/pq/2022/part-00010-f0d120ae-4ade-4e47-ba52-1d48eff6d119-c000.snappy.parquet\n",
      "Path in GCS: data/pq/2022/part-00010-f0d120ae-4ade-4e47-ba52-1d48eff6d119-c000.snappy.parquet\n",
      "Uploading data/pq/2022/part-00012-f0d120ae-4ade-4e47-ba52-1d48eff6d119-c000.snappy.parquet\n",
      "Path in GCS: data/pq/2022/part-00012-f0d120ae-4ade-4e47-ba52-1d48eff6d119-c000.snappy.parquet\n"
     ]
    }
   ],
   "source": [
    "rootdir = 'data/pq'\n",
    "for file in os.listdir(rootdir):\n",
    "    d = os.path.join(rootdir, file)\n",
    "    if os.path.isdir(d):\n",
    "        upload_directory(d+'/**')"
   ]
  }
 ],
 "metadata": {
  "kernelspec": {
   "display_name": "Python 3 (ipykernel)",
   "language": "python",
   "name": "python3"
  },
  "language_info": {
   "codemirror_mode": {
    "name": "ipython",
    "version": 3
   },
   "file_extension": ".py",
   "mimetype": "text/x-python",
   "name": "python",
   "nbconvert_exporter": "python",
   "pygments_lexer": "ipython3",
   "version": "3.10.6"
  }
 },
 "nbformat": 4,
 "nbformat_minor": 5
}
