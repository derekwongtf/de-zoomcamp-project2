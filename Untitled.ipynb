{
 "cells": [
  {
   "cell_type": "code",
   "execution_count": null,
   "id": "6f91d4db",
   "metadata": {},
   "outputs": [],
   "source": [
    "pip install tqdm"
   ]
  },
  {
   "cell_type": "code",
   "execution_count": 2,
   "id": "8ef283d1",
   "metadata": {},
   "outputs": [],
   "source": [
    "import requests\n",
    "import pandas as pd\n",
    "import os\n",
    "from tqdm import tqdm\n"
   ]
  },
  {
   "cell_type": "code",
   "execution_count": null,
   "id": "14721354",
   "metadata": {},
   "outputs": [],
   "source": [
    "year=2022\n",
    "version= \"7mxj-7a6y\"\n",
    "dataset_url = f\"https://data.cityofnewyork.us/api/views/{version}/rows.csv?accessType=DOWNLOAD\"\n",
    "local_dir = f\"data/{year}\"\n",
    "local_filename= f\"{local_dir}/rows.csv\"\n",
    "chunk_size = 262144 # 2^18 Kibibyte"
   ]
  },
  {
   "cell_type": "code",
   "execution_count": null,
   "id": "d6305d51",
   "metadata": {},
   "outputs": [],
   "source": [
    "if not os.path.exists(f\"{local_dir}\"):\n",
    "   os.makedirs(f\"{local_dir}\")"
   ]
  },
  {
   "cell_type": "code",
   "execution_count": null,
   "id": "cf462d23",
   "metadata": {},
   "outputs": [],
   "source": [
    "with requests.get(dataset_url, stream=True) as r:\n",
    "    r.raise_for_status()\n",
    "    total_size = int(r.headers.get('content-length', 0))\n",
    "    progress_bar = tqdm(total=total_size, unit='iB', unit_scale=True)\n",
    "    with open(local_filename, 'wb') as f:\n",
    "        for chunk in r.iter_content(chunk_size=chunk_size):\n",
    "            f.write(chunk)\n",
    "            progress_bar.update(len(chunk))"
   ]
  },
  {
   "cell_type": "code",
   "execution_count": null,
   "id": "a7991d31",
   "metadata": {},
   "outputs": [],
   "source": [
    "df = pd.read_csv('data/2022/rows.csv')"
   ]
  },
  {
   "cell_type": "code",
   "execution_count": null,
   "id": "d7c8f39d",
   "metadata": {},
   "outputs": [],
   "source": [
    "df.head()"
   ]
  }
 ],
 "metadata": {
  "kernelspec": {
   "display_name": "Python 3 (ipykernel)",
   "language": "python",
   "name": "python3"
  },
  "language_info": {
   "codemirror_mode": {
    "name": "ipython",
    "version": 3
   },
   "file_extension": ".py",
   "mimetype": "text/x-python",
   "name": "python",
   "nbconvert_exporter": "python",
   "pygments_lexer": "ipython3",
   "version": "3.10.6"
  }
 },
 "nbformat": 4,
 "nbformat_minor": 5
}
